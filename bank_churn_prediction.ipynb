{
 "cells": [
  {
   "cell_type": "code",
   "execution_count": 1,
   "id": "82a3e725",
   "metadata": {
    "_cell_guid": "b1076dfc-b9ad-4769-8c92-a6c4dae69d19",
    "_kg_hide-input": true,
    "_uuid": "8f2839f25d086af736a60e9eeb907d3b93b6e0e5",
    "execution": {
     "iopub.execute_input": "2024-01-31T18:44:51.824509Z",
     "iopub.status.busy": "2024-01-31T18:44:51.824021Z",
     "iopub.status.idle": "2024-01-31T18:44:51.839073Z",
     "shell.execute_reply": "2024-01-31T18:44:51.838022Z"
    },
    "papermill": {
     "duration": 0.046784,
     "end_time": "2024-01-31T18:44:51.841653",
     "exception": false,
     "start_time": "2024-01-31T18:44:51.794869",
     "status": "completed"
    },
    "tags": []
   },
   "outputs": [],
   "source": [
    "from IPython.display import display, Markdown\n",
    "import numpy as np\n",
    "def set_frame_style(df, caption=\"\", font_size ='20px' ):\n",
    "    random_list = ['Greys', 'Purples', 'Blues', 'Greens', 'Oranges', 'Reds',\n",
    "                      'YlOrBr', 'YlOrRd', 'OrRd', 'PuRd', 'RdPu', 'BuPu',\n",
    "                      'GnBu', 'PuBu', 'YlGnBu', 'PuBuGn', 'BuGn', 'YlGn']\n",
    "    \"\"\"Helper function to set dataframe presentation style.\n",
    "    \"\"\"\n",
    "    return df.style.background_gradient(cmap=random_list[np.random.randint(1,17)]).set_caption(caption).set_table_styles([{\n",
    "    'selector': 'caption',\n",
    "    'props': [\n",
    "        ('color', 'Brown'),\n",
    "        ('font-size', font_size),\n",
    "        ('font-weight','bold')\n",
    "    ]}])"
   ]
  },
  {
   "cell_type": "markdown",
   "id": "422f12fe",
   "metadata": {
    "papermill": {
     "duration": 0.027815,
     "end_time": "2024-01-31T18:44:51.897048",
     "exception": false,
     "start_time": "2024-01-31T18:44:51.869233",
     "status": "completed"
    },
    "tags": []
   },
   "source": [
    "<center><font size = 4><span style=\"color:#F5F5E6\"> <p style=\"background-color:#005F5D;font-family:courier;color:#FFFFFF;font-size:280%;text-align:center;border-radius: 9px 5px;padding : 9px\">Bank Customer Churn Prediction</p>   </span></font></center> "
   ]
  },
  {
   "cell_type": "markdown",
   "id": "0a2508a5",
   "metadata": {
    "papermill": {
     "duration": 0.026088,
     "end_time": "2024-01-31T18:44:51.949594",
     "exception": false,
     "start_time": "2024-01-31T18:44:51.923506",
     "status": "completed"
    },
    "tags": []
   },
   "source": [
    " <img src=\"https://emyrael.github.io/assets/img/churn.png\" height=\"1000\" width=\"1000\" style=\"object-fit: cover;\">"
   ]
  },
  {
   "cell_type": "markdown",
   "id": "8430c7c6",
   "metadata": {
    "papermill": {
     "duration": 0.026972,
     "end_time": "2024-01-31T18:44:52.003099",
     "exception": false,
     "start_time": "2024-01-31T18:44:51.976127",
     "status": "completed"
    },
    "tags": []
   },
   "source": [
    "<div class=\"anchor\" id=\"top\" style=\" margin-right: auto; margin-left: auto; padding: 10px; font-size : 15px; background-color: #DFFFFE; border-radius: 2px; font-color :  #581845  ; border: 2px solid #581845;\"> Customer Churn : Customer churn is the percentage of customers who stop buying a business's products or services over a certain period of time. It's also known as customer attrition, customer turnover, or customer defection"
   ]
  },
  {
   "cell_type": "markdown",
   "id": "e9d63e7c",
   "metadata": {
    "papermill": {
     "duration": 0.026651,
     "end_time": "2024-01-31T18:44:52.056902",
     "exception": false,
     "start_time": "2024-01-31T18:44:52.030251",
     "status": "completed"
    },
    "tags": []
   },
   "source": [
    "# <center><font size = 4><span style=\"color:#F5F5E6\"> <p style=\"background-color:#005F5D;font-family:courier;color:#FFFFFF;font-size:250%;text-align:center;border-radius:5px 5px;padding : 2px\">Table of contents </p>   </span></font></center> \n",
    "\n",
    "# Table of Contents"
   ]
  },
  {
   "cell_type": "markdown",
   "id": "6a7a9a05",
   "metadata": {
    "papermill": {
     "duration": 0.026372,
     "end_time": "2024-01-31T18:44:52.168172",
     "exception": false,
     "start_time": "2024-01-31T18:44:52.141800",
     "status": "completed"
    },
    "tags": []
   },
   "source": [
    "<div class=\"anchor\" id=\"top\" style=\"\n",
    "    margin-right: auto; \n",
    "    margin-left: auto;\n",
    "    padding: 10px;\n",
    "   font-size : 15px;\n",
    "    background-color: #DFFFFE;\n",
    "    border-radius: 2px;\n",
    "    font-color :  #581845  ;        \n",
    "    border: 2px solid #581845;\">\n",
    " \n",
    "- [About the dataset](#1)\n",
    "    - [1.1 Dataset Description](#1.1)\n",
    "- [2. Importing the data](#2)\n",
    "    - [2.1 Columns creation](#2.1)\n",
    "- [3. Exploratory Data Analysis](#3)\n",
    "    - [3.1 Distribution of Features](#3.1)\n",
    "    - [3.2 Insights](#3.2)\n",
    "- [4. Preprocessing](#4)\n",
    "    - [4.1 RobustScaler](#4.1)  \n",
    "    - [4.2 One Hot Encoding](#4.2) \n",
    "- [5. Model Training](#5)\n",
    "    - [5.1 XGB Classifier](#5.1)\n",
    "    - [5.2 LGBM Classifier](#5.2)\n",
    "    - [5.2 Neural Network](#5.3)\n",
    "    - [5.3 CatBoost Classifier](#5.4)\n",
    "    - [5.4  Hyperparameter Optimization](#5.5)\n",
    "    - [5.5 Ensemble(XGB, LGBM, CatBoost](#5.6)\n",
    "- [6. Model Inference](#6)\n",
    "    - [6.1 Feature Importance](#6.1) \n"
   ]
  },
  {
   "cell_type": "markdown",
   "id": "e5e99a27",
   "metadata": {
    "papermill": {
     "duration": 0.027667,
     "end_time": "2024-01-31T18:44:52.222855",
     "exception": false,
     "start_time": "2024-01-31T18:44:52.195188",
     "status": "completed"
    },
    "tags": []
   },
   "source": [
    "# <a id=\"1\"></a><center><font size = 4><span style=\"color:#F5F5E6\"> <p style=\"background-color:#005F5D;font-family:courier;color:#FFFFFF;font-size:250%;text-align:center;border-radius:5px 5px;padding : 2px\">About the dataset </p>   </span></font></center> \n",
    "\n",
    "# About the dataset\n",
    "\n"
   ]
  },
  {
   "cell_type": "markdown",
   "id": "7e80adda",
   "metadata": {
    "papermill": {
     "duration": 0.026542,
     "end_time": "2024-01-31T18:44:52.276985",
     "exception": false,
     "start_time": "2024-01-31T18:44:52.250443",
     "status": "completed"
    },
    "tags": []
   },
   "source": [
    "# <a id=\"1.1\"></a><center><font size = 4><span style=\"color:#F5F5E6\"> <p style=\"background-color:#005F5D;font-family:courier;color:#FFFFFF;font-size:150%;text-align:center;border-radius:5px 5px;padding : 5px\">Dataset Description </p>   </span></font></center> \n",
    "\n",
    "## Dataset Description\n",
    "\n",
    "<div class=\"anchor\" id=\"top\" style=\"\n",
    "    margin-right: auto; \n",
    "    margin-left: auto;\n",
    "    padding: 10px;\n",
    "   font-size : 120%;\n",
    "    background-color: #DFFFFE;\n",
    "    border-radius: 2px;\n",
    "    font-color :  #581845  ;        \n",
    "    border: 2px solid #581845;\">\n",
    "\n",
    "* Customer ID: A unique identifier for each customer\n",
    "* Surname: The customer's surname or last name\n",
    "* Credit Score: A numerical value representing the customer's credit score\n",
    "* Geography: The country where the customer resides (France, Spain or Germany)\n",
    "* Gender: The customer's gender (Male or Female)\n",
    "* Age: The customer's age.\n",
    "* Tenure: The number of years the customer has been with the bank\n",
    "* Balance: The customer's account balance\n",
    "* NumOfProducts: The number of bank products the customer uses (e.g., savings account, credit card)\n",
    "* HasCrCard: Whether the customer has a credit card (1 = yes, 0 = no)\n",
    "* IsActiveMember: Whether the customer is an active member (1 = yes, 0 = no)\n",
    "* EstimatedSalary: The estimated salary of the customer\n",
    "* Exited: Whether the customer has churned (1 = yes, 0 = no)\n",
    "\n"
   ]
  },
  {
   "cell_type": "markdown",
   "id": "47abba51",
   "metadata": {
    "papermill": {
     "duration": 0.026216,
     "end_time": "2024-01-31T18:44:52.329794",
     "exception": false,
     "start_time": "2024-01-31T18:44:52.303578",
     "status": "completed"
    },
    "tags": []
   },
   "source": [
    "# <a id=\"2\"></a><center><font size = 4><span style=\"color:#F5F5E6\"> <p style=\"background-color:#005F5D;font-family:courier;color:#FFFFFF;font-size:250%;text-align:center;border-radius:5px 5px;padding : 2px\">Importing the data </p>   </span></font></center> \n",
    "\n",
    "#  💽 Importing the data"
   ]
  },
  {
   "cell_type": "code",
   "execution_count": 2,
   "id": "8cc10a36",
   "metadata": {
    "execution": {
     "iopub.execute_input": "2024-01-31T18:44:52.385845Z",
     "iopub.status.busy": "2024-01-31T18:44:52.385439Z",
     "iopub.status.idle": "2024-01-31T18:44:54.118622Z",
     "shell.execute_reply": "2024-01-31T18:44:54.117506Z"
    },
    "papermill": {
     "duration": 1.764373,
     "end_time": "2024-01-31T18:44:54.121588",
     "exception": false,
     "start_time": "2024-01-31T18:44:52.357215",
     "status": "completed"
    },
    "tags": []
   },
   "outputs": [
    {
     "name": "stdout",
     "output_type": "stream",
     "text": [
      "<class 'pandas.core.frame.DataFrame'>\n",
      "RangeIndex: 165034 entries, 0 to 165033\n",
      "Data columns (total 13 columns):\n",
      " #   Column           Non-Null Count   Dtype  \n",
      "---  ------           --------------   -----  \n",
      " 0   CustomerId       165034 non-null  int64  \n",
      " 1   Surname          165034 non-null  object \n",
      " 2   CreditScore      165034 non-null  int64  \n",
      " 3   Geography        165034 non-null  object \n",
      " 4   Gender           165034 non-null  object \n",
      " 5   Age              165034 non-null  float64\n",
      " 6   Tenure           165034 non-null  int64  \n",
      " 7   Balance          165034 non-null  float64\n",
      " 8   NumOfProducts    165034 non-null  int64  \n",
      " 9   HasCrCard        165034 non-null  float64\n",
      " 10  IsActiveMember   165034 non-null  float64\n",
      " 11  EstimatedSalary  165034 non-null  float64\n",
      " 12  Exited           165034 non-null  int64  \n",
      "dtypes: float64(5), int64(5), object(3)\n",
      "memory usage: 16.4+ MB\n"
     ]
    },
    {
     "data": {
      "text/plain": [
       "None"
      ]
     },
     "metadata": {},
     "output_type": "display_data"
    }
   ],
   "source": [
    "import pandas as pd\n",
    "syn_df= pd.read_csv('/kaggle/input/playground-series-s4e1/train.csv')\n",
    "syn_df = syn_df.drop('id',axis =1)\n",
    "original_df = pd.read_csv('/kaggle/input/bank-customer-churn-prediction/Churn_Modelling.csv')\n",
    "test_df = pd.read_csv('/kaggle/input/playground-series-s4e1/test.csv')\n",
    "ids = test_df['id']\n",
    "display(syn_df.info())"
   ]
  },
  {
   "cell_type": "code",
   "execution_count": 3,
   "id": "8d856001",
   "metadata": {
    "execution": {
     "iopub.execute_input": "2024-01-31T18:44:54.178285Z",
     "iopub.status.busy": "2024-01-31T18:44:54.177916Z",
     "iopub.status.idle": "2024-01-31T18:44:54.203913Z",
     "shell.execute_reply": "2024-01-31T18:44:54.202405Z"
    },
    "papermill": {
     "duration": 0.057325,
     "end_time": "2024-01-31T18:44:54.206568",
     "exception": false,
     "start_time": "2024-01-31T18:44:54.149243",
     "status": "completed"
    },
    "tags": []
   },
   "outputs": [
    {
     "data": {
      "text/html": [
       "<div>\n",
       "<style scoped>\n",
       "    .dataframe tbody tr th:only-of-type {\n",
       "        vertical-align: middle;\n",
       "    }\n",
       "\n",
       "    .dataframe tbody tr th {\n",
       "        vertical-align: top;\n",
       "    }\n",
       "\n",
       "    .dataframe thead th {\n",
       "        text-align: right;\n",
       "    }\n",
       "</style>\n",
       "<table border=\"1\" class=\"dataframe\">\n",
       "  <thead>\n",
       "    <tr style=\"text-align: right;\">\n",
       "      <th></th>\n",
       "      <th>id</th>\n",
       "      <th>CustomerId</th>\n",
       "      <th>Surname</th>\n",
       "      <th>CreditScore</th>\n",
       "      <th>Geography</th>\n",
       "      <th>Gender</th>\n",
       "      <th>Age</th>\n",
       "      <th>Tenure</th>\n",
       "      <th>Balance</th>\n",
       "      <th>NumOfProducts</th>\n",
       "      <th>HasCrCard</th>\n",
       "      <th>IsActiveMember</th>\n",
       "      <th>EstimatedSalary</th>\n",
       "    </tr>\n",
       "  </thead>\n",
       "  <tbody>\n",
       "    <tr>\n",
       "      <th>0</th>\n",
       "      <td>165034</td>\n",
       "      <td>15773898</td>\n",
       "      <td>Lucchese</td>\n",
       "      <td>586</td>\n",
       "      <td>France</td>\n",
       "      <td>Female</td>\n",
       "      <td>23.0</td>\n",
       "      <td>2</td>\n",
       "      <td>0.00</td>\n",
       "      <td>2</td>\n",
       "      <td>0.0</td>\n",
       "      <td>1.0</td>\n",
       "      <td>160976.75</td>\n",
       "    </tr>\n",
       "    <tr>\n",
       "      <th>1</th>\n",
       "      <td>165035</td>\n",
       "      <td>15782418</td>\n",
       "      <td>Nott</td>\n",
       "      <td>683</td>\n",
       "      <td>France</td>\n",
       "      <td>Female</td>\n",
       "      <td>46.0</td>\n",
       "      <td>2</td>\n",
       "      <td>0.00</td>\n",
       "      <td>1</td>\n",
       "      <td>1.0</td>\n",
       "      <td>0.0</td>\n",
       "      <td>72549.27</td>\n",
       "    </tr>\n",
       "    <tr>\n",
       "      <th>2</th>\n",
       "      <td>165036</td>\n",
       "      <td>15807120</td>\n",
       "      <td>K?</td>\n",
       "      <td>656</td>\n",
       "      <td>France</td>\n",
       "      <td>Female</td>\n",
       "      <td>34.0</td>\n",
       "      <td>7</td>\n",
       "      <td>0.00</td>\n",
       "      <td>2</td>\n",
       "      <td>1.0</td>\n",
       "      <td>0.0</td>\n",
       "      <td>138882.09</td>\n",
       "    </tr>\n",
       "    <tr>\n",
       "      <th>3</th>\n",
       "      <td>165037</td>\n",
       "      <td>15808905</td>\n",
       "      <td>O'Donnell</td>\n",
       "      <td>681</td>\n",
       "      <td>France</td>\n",
       "      <td>Male</td>\n",
       "      <td>36.0</td>\n",
       "      <td>8</td>\n",
       "      <td>0.00</td>\n",
       "      <td>1</td>\n",
       "      <td>1.0</td>\n",
       "      <td>0.0</td>\n",
       "      <td>113931.57</td>\n",
       "    </tr>\n",
       "    <tr>\n",
       "      <th>4</th>\n",
       "      <td>165038</td>\n",
       "      <td>15607314</td>\n",
       "      <td>Higgins</td>\n",
       "      <td>752</td>\n",
       "      <td>Germany</td>\n",
       "      <td>Male</td>\n",
       "      <td>38.0</td>\n",
       "      <td>10</td>\n",
       "      <td>121263.62</td>\n",
       "      <td>1</td>\n",
       "      <td>1.0</td>\n",
       "      <td>0.0</td>\n",
       "      <td>139431.00</td>\n",
       "    </tr>\n",
       "  </tbody>\n",
       "</table>\n",
       "</div>"
      ],
      "text/plain": [
       "       id  CustomerId    Surname  CreditScore Geography  Gender   Age  Tenure  \\\n",
       "0  165034    15773898   Lucchese          586    France  Female  23.0       2   \n",
       "1  165035    15782418       Nott          683    France  Female  46.0       2   \n",
       "2  165036    15807120         K?          656    France  Female  34.0       7   \n",
       "3  165037    15808905  O'Donnell          681    France    Male  36.0       8   \n",
       "4  165038    15607314    Higgins          752   Germany    Male  38.0      10   \n",
       "\n",
       "     Balance  NumOfProducts  HasCrCard  IsActiveMember  EstimatedSalary  \n",
       "0       0.00              2        0.0             1.0        160976.75  \n",
       "1       0.00              1        1.0             0.0         72549.27  \n",
       "2       0.00              2        1.0             0.0        138882.09  \n",
       "3       0.00              1        1.0             0.0        113931.57  \n",
       "4  121263.62              1        1.0             0.0        139431.00  "
      ]
     },
     "execution_count": 3,
     "metadata": {},
     "output_type": "execute_result"
    }
   ],
   "source": [
    "test_df.head()"
   ]
  },
  {
   "cell_type": "code",
   "execution_count": 4,
   "id": "e85c2e54",
   "metadata": {
    "execution": {
     "iopub.execute_input": "2024-01-31T18:44:54.274749Z",
     "iopub.status.busy": "2024-01-31T18:44:54.274356Z",
     "iopub.status.idle": "2024-01-31T18:44:54.284267Z",
     "shell.execute_reply": "2024-01-31T18:44:54.283322Z"
    },
    "papermill": {
     "duration": 0.043217,
     "end_time": "2024-01-31T18:44:54.286319",
     "exception": false,
     "start_time": "2024-01-31T18:44:54.243102",
     "status": "completed"
    },
    "tags": []
   },
   "outputs": [
    {
     "data": {
      "text/plain": [
       "110023"
      ]
     },
     "execution_count": 4,
     "metadata": {},
     "output_type": "execute_result"
    }
   ],
   "source": [
    "ids.nunique()"
   ]
  },
  {
   "cell_type": "code",
   "execution_count": 5,
   "id": "8fe3ac46",
   "metadata": {
    "execution": {
     "iopub.execute_input": "2024-01-31T18:44:54.346466Z",
     "iopub.status.busy": "2024-01-31T18:44:54.345682Z",
     "iopub.status.idle": "2024-01-31T18:44:54.500214Z",
     "shell.execute_reply": "2024-01-31T18:44:54.499158Z"
    },
    "papermill": {
     "duration": 0.188649,
     "end_time": "2024-01-31T18:44:54.502430",
     "exception": false,
     "start_time": "2024-01-31T18:44:54.313781",
     "status": "completed"
    },
    "tags": []
   },
   "outputs": [
    {
     "data": {
      "text/html": [
       "<style type=\"text/css\">\n",
       "#T_8a61e caption {\n",
       "  color: Brown;\n",
       "  font-size: 20px;\n",
       "  font-weight: bold;\n",
       "}\n",
       "#T_8a61e_row0_col0, #T_8a61e_row0_col5, #T_8a61e_row0_col7, #T_8a61e_row0_col9, #T_8a61e_row0_col10, #T_8a61e_row0_col12, #T_8a61e_row1_col5, #T_8a61e_row1_col6, #T_8a61e_row1_col7, #T_8a61e_row1_col9, #T_8a61e_row1_col12, #T_8a61e_row2_col7, #T_8a61e_row2_col9, #T_8a61e_row2_col10, #T_8a61e_row2_col12, #T_8a61e_row3_col2, #T_8a61e_row3_col8, #T_8a61e_row3_col9, #T_8a61e_row3_col12, #T_8a61e_row4_col5, #T_8a61e_row4_col7, #T_8a61e_row4_col9, #T_8a61e_row4_col11, #T_8a61e_row4_col12 {\n",
       "  background-color: #fff7f3;\n",
       "  color: #000000;\n",
       "}\n",
       "#T_8a61e_row0_col2 {\n",
       "  background-color: #d62d93;\n",
       "  color: #f1f1f1;\n",
       "}\n",
       "#T_8a61e_row0_col6 {\n",
       "  background-color: #fcccc7;\n",
       "  color: #000000;\n",
       "}\n",
       "#T_8a61e_row0_col8, #T_8a61e_row1_col8, #T_8a61e_row1_col10, #T_8a61e_row2_col5, #T_8a61e_row2_col6, #T_8a61e_row2_col8, #T_8a61e_row2_col11, #T_8a61e_row3_col7, #T_8a61e_row3_col10, #T_8a61e_row4_col0, #T_8a61e_row4_col2, #T_8a61e_row4_col8, #T_8a61e_row4_col10 {\n",
       "  background-color: #49006a;\n",
       "  color: #f1f1f1;\n",
       "}\n",
       "#T_8a61e_row0_col11 {\n",
       "  background-color: #51006c;\n",
       "  color: #f1f1f1;\n",
       "}\n",
       "#T_8a61e_row1_col0 {\n",
       "  background-color: #93017a;\n",
       "  color: #f1f1f1;\n",
       "}\n",
       "#T_8a61e_row1_col2 {\n",
       "  background-color: #fba9b8;\n",
       "  color: #000000;\n",
       "}\n",
       "#T_8a61e_row1_col11 {\n",
       "  background-color: #fcd0cc;\n",
       "  color: #000000;\n",
       "}\n",
       "#T_8a61e_row2_col0 {\n",
       "  background-color: #fccdc9;\n",
       "  color: #000000;\n",
       "}\n",
       "#T_8a61e_row2_col2 {\n",
       "  background-color: #ba0e84;\n",
       "  color: #f1f1f1;\n",
       "}\n",
       "#T_8a61e_row3_col0 {\n",
       "  background-color: #b60982;\n",
       "  color: #f1f1f1;\n",
       "}\n",
       "#T_8a61e_row3_col5 {\n",
       "  background-color: #fdddd9;\n",
       "  color: #000000;\n",
       "}\n",
       "#T_8a61e_row3_col6 {\n",
       "  background-color: #fde3e0;\n",
       "  color: #000000;\n",
       "}\n",
       "#T_8a61e_row3_col11 {\n",
       "  background-color: #f991b0;\n",
       "  color: #000000;\n",
       "}\n",
       "#T_8a61e_row4_col6 {\n",
       "  background-color: #f881aa;\n",
       "  color: #f1f1f1;\n",
       "}\n",
       "</style>\n",
       "<table id=\"T_8a61e\">\n",
       "  <caption>Training Data</caption>\n",
       "  <thead>\n",
       "    <tr>\n",
       "      <th class=\"blank level0\" >&nbsp;</th>\n",
       "      <th id=\"T_8a61e_level0_col0\" class=\"col_heading level0 col0\" >CustomerId</th>\n",
       "      <th id=\"T_8a61e_level0_col1\" class=\"col_heading level0 col1\" >Surname</th>\n",
       "      <th id=\"T_8a61e_level0_col2\" class=\"col_heading level0 col2\" >CreditScore</th>\n",
       "      <th id=\"T_8a61e_level0_col3\" class=\"col_heading level0 col3\" >Geography</th>\n",
       "      <th id=\"T_8a61e_level0_col4\" class=\"col_heading level0 col4\" >Gender</th>\n",
       "      <th id=\"T_8a61e_level0_col5\" class=\"col_heading level0 col5\" >Age</th>\n",
       "      <th id=\"T_8a61e_level0_col6\" class=\"col_heading level0 col6\" >Tenure</th>\n",
       "      <th id=\"T_8a61e_level0_col7\" class=\"col_heading level0 col7\" >Balance</th>\n",
       "      <th id=\"T_8a61e_level0_col8\" class=\"col_heading level0 col8\" >NumOfProducts</th>\n",
       "      <th id=\"T_8a61e_level0_col9\" class=\"col_heading level0 col9\" >HasCrCard</th>\n",
       "      <th id=\"T_8a61e_level0_col10\" class=\"col_heading level0 col10\" >IsActiveMember</th>\n",
       "      <th id=\"T_8a61e_level0_col11\" class=\"col_heading level0 col11\" >EstimatedSalary</th>\n",
       "      <th id=\"T_8a61e_level0_col12\" class=\"col_heading level0 col12\" >Exited</th>\n",
       "    </tr>\n",
       "  </thead>\n",
       "  <tbody>\n",
       "    <tr>\n",
       "      <th id=\"T_8a61e_level0_row0\" class=\"row_heading level0 row0\" >0</th>\n",
       "      <td id=\"T_8a61e_row0_col0\" class=\"data row0 col0\" >15674932</td>\n",
       "      <td id=\"T_8a61e_row0_col1\" class=\"data row0 col1\" >Okwudilichukwu</td>\n",
       "      <td id=\"T_8a61e_row0_col2\" class=\"data row0 col2\" >668</td>\n",
       "      <td id=\"T_8a61e_row0_col3\" class=\"data row0 col3\" >France</td>\n",
       "      <td id=\"T_8a61e_row0_col4\" class=\"data row0 col4\" >Male</td>\n",
       "      <td id=\"T_8a61e_row0_col5\" class=\"data row0 col5\" >33.000000</td>\n",
       "      <td id=\"T_8a61e_row0_col6\" class=\"data row0 col6\" >3</td>\n",
       "      <td id=\"T_8a61e_row0_col7\" class=\"data row0 col7\" >0.000000</td>\n",
       "      <td id=\"T_8a61e_row0_col8\" class=\"data row0 col8\" >2</td>\n",
       "      <td id=\"T_8a61e_row0_col9\" class=\"data row0 col9\" >1.000000</td>\n",
       "      <td id=\"T_8a61e_row0_col10\" class=\"data row0 col10\" >0.000000</td>\n",
       "      <td id=\"T_8a61e_row0_col11\" class=\"data row0 col11\" >181449.970000</td>\n",
       "      <td id=\"T_8a61e_row0_col12\" class=\"data row0 col12\" >0</td>\n",
       "    </tr>\n",
       "    <tr>\n",
       "      <th id=\"T_8a61e_level0_row1\" class=\"row_heading level0 row1\" >1</th>\n",
       "      <td id=\"T_8a61e_row1_col0\" class=\"data row1 col0\" >15749177</td>\n",
       "      <td id=\"T_8a61e_row1_col1\" class=\"data row1 col1\" >Okwudiliolisa</td>\n",
       "      <td id=\"T_8a61e_row1_col2\" class=\"data row1 col2\" >627</td>\n",
       "      <td id=\"T_8a61e_row1_col3\" class=\"data row1 col3\" >France</td>\n",
       "      <td id=\"T_8a61e_row1_col4\" class=\"data row1 col4\" >Male</td>\n",
       "      <td id=\"T_8a61e_row1_col5\" class=\"data row1 col5\" >33.000000</td>\n",
       "      <td id=\"T_8a61e_row1_col6\" class=\"data row1 col6\" >1</td>\n",
       "      <td id=\"T_8a61e_row1_col7\" class=\"data row1 col7\" >0.000000</td>\n",
       "      <td id=\"T_8a61e_row1_col8\" class=\"data row1 col8\" >2</td>\n",
       "      <td id=\"T_8a61e_row1_col9\" class=\"data row1 col9\" >1.000000</td>\n",
       "      <td id=\"T_8a61e_row1_col10\" class=\"data row1 col10\" >1.000000</td>\n",
       "      <td id=\"T_8a61e_row1_col11\" class=\"data row1 col11\" >49503.500000</td>\n",
       "      <td id=\"T_8a61e_row1_col12\" class=\"data row1 col12\" >0</td>\n",
       "    </tr>\n",
       "    <tr>\n",
       "      <th id=\"T_8a61e_level0_row2\" class=\"row_heading level0 row2\" >2</th>\n",
       "      <td id=\"T_8a61e_row2_col0\" class=\"data row2 col0\" >15694510</td>\n",
       "      <td id=\"T_8a61e_row2_col1\" class=\"data row2 col1\" >Hsueh</td>\n",
       "      <td id=\"T_8a61e_row2_col2\" class=\"data row2 col2\" >678</td>\n",
       "      <td id=\"T_8a61e_row2_col3\" class=\"data row2 col3\" >France</td>\n",
       "      <td id=\"T_8a61e_row2_col4\" class=\"data row2 col4\" >Male</td>\n",
       "      <td id=\"T_8a61e_row2_col5\" class=\"data row2 col5\" >40.000000</td>\n",
       "      <td id=\"T_8a61e_row2_col6\" class=\"data row2 col6\" >10</td>\n",
       "      <td id=\"T_8a61e_row2_col7\" class=\"data row2 col7\" >0.000000</td>\n",
       "      <td id=\"T_8a61e_row2_col8\" class=\"data row2 col8\" >2</td>\n",
       "      <td id=\"T_8a61e_row2_col9\" class=\"data row2 col9\" >1.000000</td>\n",
       "      <td id=\"T_8a61e_row2_col10\" class=\"data row2 col10\" >0.000000</td>\n",
       "      <td id=\"T_8a61e_row2_col11\" class=\"data row2 col11\" >184866.690000</td>\n",
       "      <td id=\"T_8a61e_row2_col12\" class=\"data row2 col12\" >0</td>\n",
       "    </tr>\n",
       "    <tr>\n",
       "      <th id=\"T_8a61e_level0_row3\" class=\"row_heading level0 row3\" >3</th>\n",
       "      <td id=\"T_8a61e_row3_col0\" class=\"data row3 col0\" >15741417</td>\n",
       "      <td id=\"T_8a61e_row3_col1\" class=\"data row3 col1\" >Kao</td>\n",
       "      <td id=\"T_8a61e_row3_col2\" class=\"data row3 col2\" >581</td>\n",
       "      <td id=\"T_8a61e_row3_col3\" class=\"data row3 col3\" >France</td>\n",
       "      <td id=\"T_8a61e_row3_col4\" class=\"data row3 col4\" >Male</td>\n",
       "      <td id=\"T_8a61e_row3_col5\" class=\"data row3 col5\" >34.000000</td>\n",
       "      <td id=\"T_8a61e_row3_col6\" class=\"data row3 col6\" >2</td>\n",
       "      <td id=\"T_8a61e_row3_col7\" class=\"data row3 col7\" >148882.540000</td>\n",
       "      <td id=\"T_8a61e_row3_col8\" class=\"data row3 col8\" >1</td>\n",
       "      <td id=\"T_8a61e_row3_col9\" class=\"data row3 col9\" >1.000000</td>\n",
       "      <td id=\"T_8a61e_row3_col10\" class=\"data row3 col10\" >1.000000</td>\n",
       "      <td id=\"T_8a61e_row3_col11\" class=\"data row3 col11\" >84560.880000</td>\n",
       "      <td id=\"T_8a61e_row3_col12\" class=\"data row3 col12\" >0</td>\n",
       "    </tr>\n",
       "    <tr>\n",
       "      <th id=\"T_8a61e_level0_row4\" class=\"row_heading level0 row4\" >4</th>\n",
       "      <td id=\"T_8a61e_row4_col0\" class=\"data row4 col0\" >15766172</td>\n",
       "      <td id=\"T_8a61e_row4_col1\" class=\"data row4 col1\" >Chiemenam</td>\n",
       "      <td id=\"T_8a61e_row4_col2\" class=\"data row4 col2\" >716</td>\n",
       "      <td id=\"T_8a61e_row4_col3\" class=\"data row4 col3\" >Spain</td>\n",
       "      <td id=\"T_8a61e_row4_col4\" class=\"data row4 col4\" >Male</td>\n",
       "      <td id=\"T_8a61e_row4_col5\" class=\"data row4 col5\" >33.000000</td>\n",
       "      <td id=\"T_8a61e_row4_col6\" class=\"data row4 col6\" >5</td>\n",
       "      <td id=\"T_8a61e_row4_col7\" class=\"data row4 col7\" >0.000000</td>\n",
       "      <td id=\"T_8a61e_row4_col8\" class=\"data row4 col8\" >2</td>\n",
       "      <td id=\"T_8a61e_row4_col9\" class=\"data row4 col9\" >1.000000</td>\n",
       "      <td id=\"T_8a61e_row4_col10\" class=\"data row4 col10\" >1.000000</td>\n",
       "      <td id=\"T_8a61e_row4_col11\" class=\"data row4 col11\" >15068.830000</td>\n",
       "      <td id=\"T_8a61e_row4_col12\" class=\"data row4 col12\" >0</td>\n",
       "    </tr>\n",
       "  </tbody>\n",
       "</table>\n"
      ],
      "text/plain": [
       "<pandas.io.formats.style.Styler at 0x7ec7c4507730>"
      ]
     },
     "execution_count": 5,
     "metadata": {},
     "output_type": "execute_result"
    }
   ],
   "source": [
    "set_frame_style(syn_df.head(),'Training Data')"
   ]
  },
  {
   "cell_type": "code",
   "execution_count": 6,
   "id": "b3ab49a4",
   "metadata": {
    "execution": {
     "iopub.execute_input": "2024-01-31T18:44:54.568302Z",
     "iopub.status.busy": "2024-01-31T18:44:54.567807Z",
     "iopub.status.idle": "2024-01-31T18:44:54.591138Z",
     "shell.execute_reply": "2024-01-31T18:44:54.590004Z"
    },
    "papermill": {
     "duration": 0.060397,
     "end_time": "2024-01-31T18:44:54.593517",
     "exception": false,
     "start_time": "2024-01-31T18:44:54.533120",
     "status": "completed"
    },
    "tags": []
   },
   "outputs": [
    {
     "name": "stdout",
     "output_type": "stream",
     "text": [
      " Total Number of Unique Surnames : 2797\n"
     ]
    }
   ],
   "source": [
    "print(f' Total Number of Unique Surnames : {syn_df.Surname.nunique()}')"
   ]
  },
  {
   "cell_type": "code",
   "execution_count": 7,
   "id": "21fdb5ef",
   "metadata": {
    "execution": {
     "iopub.execute_input": "2024-01-31T18:44:54.655011Z",
     "iopub.status.busy": "2024-01-31T18:44:54.654459Z",
     "iopub.status.idle": "2024-01-31T18:44:54.681610Z",
     "shell.execute_reply": "2024-01-31T18:44:54.680377Z"
    },
    "papermill": {
     "duration": 0.061896,
     "end_time": "2024-01-31T18:44:54.684141",
     "exception": false,
     "start_time": "2024-01-31T18:44:54.622245",
     "status": "completed"
    },
    "tags": []
   },
   "outputs": [
    {
     "name": "stdout",
     "output_type": "stream",
     "text": [
      " Total Number of Unique Countries : 3\n"
     ]
    }
   ],
   "source": [
    "print(f' Total Number of Unique Countries : {syn_df.Geography.nunique()}')"
   ]
  },
  {
   "cell_type": "code",
   "execution_count": 8,
   "id": "9fb253b1",
   "metadata": {
    "execution": {
     "iopub.execute_input": "2024-01-31T18:44:54.744445Z",
     "iopub.status.busy": "2024-01-31T18:44:54.744073Z",
     "iopub.status.idle": "2024-01-31T18:44:54.777447Z",
     "shell.execute_reply": "2024-01-31T18:44:54.776467Z"
    },
    "papermill": {
     "duration": 0.065662,
     "end_time": "2024-01-31T18:44:54.779922",
     "exception": false,
     "start_time": "2024-01-31T18:44:54.714260",
     "status": "completed"
    },
    "tags": []
   },
   "outputs": [
    {
     "data": {
      "text/html": [
       "<style type=\"text/css\">\n",
       "#T_446df caption {\n",
       "  color: Brown;\n",
       "  font-size: 20px;\n",
       "  font-weight: bold;\n",
       "}\n",
       "#T_446df_row0_col0 {\n",
       "  background-color: #fee5cc;\n",
       "  color: #000000;\n",
       "}\n",
       "#T_446df_row0_col2 {\n",
       "  background-color: #fdb87c;\n",
       "  color: #000000;\n",
       "}\n",
       "#T_446df_row0_col5, #T_446df_row2_col5 {\n",
       "  background-color: #d84801;\n",
       "  color: #f1f1f1;\n",
       "}\n",
       "#T_446df_row0_col6, #T_446df_row4_col6 {\n",
       "  background-color: #fee3c8;\n",
       "  color: #000000;\n",
       "}\n",
       "#T_446df_row0_col7, #T_446df_row0_col8, #T_446df_row1_col6, #T_446df_row1_col8, #T_446df_row1_col9, #T_446df_row1_col12, #T_446df_row2_col0, #T_446df_row2_col2, #T_446df_row2_col10, #T_446df_row3_col5, #T_446df_row3_col6, #T_446df_row3_col7, #T_446df_row3_col9, #T_446df_row3_col10, #T_446df_row3_col12, #T_446df_row4_col8, #T_446df_row4_col11, #T_446df_row4_col12 {\n",
       "  background-color: #fff5eb;\n",
       "  color: #000000;\n",
       "}\n",
       "#T_446df_row0_col9, #T_446df_row0_col10, #T_446df_row0_col12, #T_446df_row1_col10, #T_446df_row2_col6, #T_446df_row2_col7, #T_446df_row2_col8, #T_446df_row2_col9, #T_446df_row2_col11, #T_446df_row2_col12, #T_446df_row4_col0, #T_446df_row4_col2, #T_446df_row4_col5, #T_446df_row4_col10 {\n",
       "  background-color: #7f2704;\n",
       "  color: #f1f1f1;\n",
       "}\n",
       "#T_446df_row0_col11 {\n",
       "  background-color: #ee6511;\n",
       "  color: #f1f1f1;\n",
       "}\n",
       "#T_446df_row1_col0 {\n",
       "  background-color: #fdd3a7;\n",
       "  color: #000000;\n",
       "}\n",
       "#T_446df_row1_col2 {\n",
       "  background-color: #fdc28b;\n",
       "  color: #000000;\n",
       "}\n",
       "#T_446df_row1_col5, #T_446df_row3_col8 {\n",
       "  background-color: #fd8c3b;\n",
       "  color: #f1f1f1;\n",
       "}\n",
       "#T_446df_row1_col7 {\n",
       "  background-color: #fb8634;\n",
       "  color: #f1f1f1;\n",
       "}\n",
       "#T_446df_row1_col11 {\n",
       "  background-color: #8b2c04;\n",
       "  color: #f1f1f1;\n",
       "}\n",
       "#T_446df_row3_col0 {\n",
       "  background-color: #e45709;\n",
       "  color: #f1f1f1;\n",
       "}\n",
       "#T_446df_row3_col2 {\n",
       "  background-color: #f77a27;\n",
       "  color: #f1f1f1;\n",
       "}\n",
       "#T_446df_row3_col11 {\n",
       "  background-color: #fda159;\n",
       "  color: #000000;\n",
       "}\n",
       "#T_446df_row4_col7 {\n",
       "  background-color: #c94202;\n",
       "  color: #f1f1f1;\n",
       "}\n",
       "#T_446df_row4_col9 {\n",
       "  background-color: #000000;\n",
       "  color: #f1f1f1;\n",
       "}\n",
       "</style>\n",
       "<table id=\"T_446df\">\n",
       "  <thead>\n",
       "    <tr>\n",
       "      <th class=\"blank level0\" >&nbsp;</th>\n",
       "      <th id=\"T_446df_level0_col0\" class=\"col_heading level0 col0\" >CustomerId</th>\n",
       "      <th id=\"T_446df_level0_col1\" class=\"col_heading level0 col1\" >Surname</th>\n",
       "      <th id=\"T_446df_level0_col2\" class=\"col_heading level0 col2\" >CreditScore</th>\n",
       "      <th id=\"T_446df_level0_col3\" class=\"col_heading level0 col3\" >Geography</th>\n",
       "      <th id=\"T_446df_level0_col4\" class=\"col_heading level0 col4\" >Gender</th>\n",
       "      <th id=\"T_446df_level0_col5\" class=\"col_heading level0 col5\" >Age</th>\n",
       "      <th id=\"T_446df_level0_col6\" class=\"col_heading level0 col6\" >Tenure</th>\n",
       "      <th id=\"T_446df_level0_col7\" class=\"col_heading level0 col7\" >Balance</th>\n",
       "      <th id=\"T_446df_level0_col8\" class=\"col_heading level0 col8\" >NumOfProducts</th>\n",
       "      <th id=\"T_446df_level0_col9\" class=\"col_heading level0 col9\" >HasCrCard</th>\n",
       "      <th id=\"T_446df_level0_col10\" class=\"col_heading level0 col10\" >IsActiveMember</th>\n",
       "      <th id=\"T_446df_level0_col11\" class=\"col_heading level0 col11\" >EstimatedSalary</th>\n",
       "      <th id=\"T_446df_level0_col12\" class=\"col_heading level0 col12\" >Exited</th>\n",
       "    </tr>\n",
       "  </thead>\n",
       "  <tbody>\n",
       "    <tr>\n",
       "      <th id=\"T_446df_level0_row0\" class=\"row_heading level0 row0\" >0</th>\n",
       "      <td id=\"T_446df_row0_col0\" class=\"data row0 col0\" >15634602</td>\n",
       "      <td id=\"T_446df_row0_col1\" class=\"data row0 col1\" >Hargrave</td>\n",
       "      <td id=\"T_446df_row0_col2\" class=\"data row0 col2\" >619</td>\n",
       "      <td id=\"T_446df_row0_col3\" class=\"data row0 col3\" >France</td>\n",
       "      <td id=\"T_446df_row0_col4\" class=\"data row0 col4\" >Female</td>\n",
       "      <td id=\"T_446df_row0_col5\" class=\"data row0 col5\" >42.000000</td>\n",
       "      <td id=\"T_446df_row0_col6\" class=\"data row0 col6\" >2</td>\n",
       "      <td id=\"T_446df_row0_col7\" class=\"data row0 col7\" >0.000000</td>\n",
       "      <td id=\"T_446df_row0_col8\" class=\"data row0 col8\" >1</td>\n",
       "      <td id=\"T_446df_row0_col9\" class=\"data row0 col9\" >1.000000</td>\n",
       "      <td id=\"T_446df_row0_col10\" class=\"data row0 col10\" >1.000000</td>\n",
       "      <td id=\"T_446df_row0_col11\" class=\"data row0 col11\" >101348.880000</td>\n",
       "      <td id=\"T_446df_row0_col12\" class=\"data row0 col12\" >1</td>\n",
       "    </tr>\n",
       "    <tr>\n",
       "      <th id=\"T_446df_level0_row1\" class=\"row_heading level0 row1\" >1</th>\n",
       "      <td id=\"T_446df_row1_col0\" class=\"data row1 col0\" >15647311</td>\n",
       "      <td id=\"T_446df_row1_col1\" class=\"data row1 col1\" >Hill</td>\n",
       "      <td id=\"T_446df_row1_col2\" class=\"data row1 col2\" >608</td>\n",
       "      <td id=\"T_446df_row1_col3\" class=\"data row1 col3\" >Spain</td>\n",
       "      <td id=\"T_446df_row1_col4\" class=\"data row1 col4\" >Female</td>\n",
       "      <td id=\"T_446df_row1_col5\" class=\"data row1 col5\" >41.000000</td>\n",
       "      <td id=\"T_446df_row1_col6\" class=\"data row1 col6\" >1</td>\n",
       "      <td id=\"T_446df_row1_col7\" class=\"data row1 col7\" >83807.860000</td>\n",
       "      <td id=\"T_446df_row1_col8\" class=\"data row1 col8\" >1</td>\n",
       "      <td id=\"T_446df_row1_col9\" class=\"data row1 col9\" >0.000000</td>\n",
       "      <td id=\"T_446df_row1_col10\" class=\"data row1 col10\" >1.000000</td>\n",
       "      <td id=\"T_446df_row1_col11\" class=\"data row1 col11\" >112542.580000</td>\n",
       "      <td id=\"T_446df_row1_col12\" class=\"data row1 col12\" >0</td>\n",
       "    </tr>\n",
       "    <tr>\n",
       "      <th id=\"T_446df_level0_row2\" class=\"row_heading level0 row2\" >2</th>\n",
       "      <td id=\"T_446df_row2_col0\" class=\"data row2 col0\" >15619304</td>\n",
       "      <td id=\"T_446df_row2_col1\" class=\"data row2 col1\" >Onio</td>\n",
       "      <td id=\"T_446df_row2_col2\" class=\"data row2 col2\" >502</td>\n",
       "      <td id=\"T_446df_row2_col3\" class=\"data row2 col3\" >France</td>\n",
       "      <td id=\"T_446df_row2_col4\" class=\"data row2 col4\" >Female</td>\n",
       "      <td id=\"T_446df_row2_col5\" class=\"data row2 col5\" >42.000000</td>\n",
       "      <td id=\"T_446df_row2_col6\" class=\"data row2 col6\" >8</td>\n",
       "      <td id=\"T_446df_row2_col7\" class=\"data row2 col7\" >159660.800000</td>\n",
       "      <td id=\"T_446df_row2_col8\" class=\"data row2 col8\" >3</td>\n",
       "      <td id=\"T_446df_row2_col9\" class=\"data row2 col9\" >1.000000</td>\n",
       "      <td id=\"T_446df_row2_col10\" class=\"data row2 col10\" >0.000000</td>\n",
       "      <td id=\"T_446df_row2_col11\" class=\"data row2 col11\" >113931.570000</td>\n",
       "      <td id=\"T_446df_row2_col12\" class=\"data row2 col12\" >1</td>\n",
       "    </tr>\n",
       "    <tr>\n",
       "      <th id=\"T_446df_level0_row3\" class=\"row_heading level0 row3\" >3</th>\n",
       "      <td id=\"T_446df_row3_col0\" class=\"data row3 col0\" >15701354</td>\n",
       "      <td id=\"T_446df_row3_col1\" class=\"data row3 col1\" >Boni</td>\n",
       "      <td id=\"T_446df_row3_col2\" class=\"data row3 col2\" >699</td>\n",
       "      <td id=\"T_446df_row3_col3\" class=\"data row3 col3\" >France</td>\n",
       "      <td id=\"T_446df_row3_col4\" class=\"data row3 col4\" >Female</td>\n",
       "      <td id=\"T_446df_row3_col5\" class=\"data row3 col5\" >39.000000</td>\n",
       "      <td id=\"T_446df_row3_col6\" class=\"data row3 col6\" >1</td>\n",
       "      <td id=\"T_446df_row3_col7\" class=\"data row3 col7\" >0.000000</td>\n",
       "      <td id=\"T_446df_row3_col8\" class=\"data row3 col8\" >2</td>\n",
       "      <td id=\"T_446df_row3_col9\" class=\"data row3 col9\" >0.000000</td>\n",
       "      <td id=\"T_446df_row3_col10\" class=\"data row3 col10\" >0.000000</td>\n",
       "      <td id=\"T_446df_row3_col11\" class=\"data row3 col11\" >93826.630000</td>\n",
       "      <td id=\"T_446df_row3_col12\" class=\"data row3 col12\" >0</td>\n",
       "    </tr>\n",
       "    <tr>\n",
       "      <th id=\"T_446df_level0_row4\" class=\"row_heading level0 row4\" >4</th>\n",
       "      <td id=\"T_446df_row4_col0\" class=\"data row4 col0\" >15737888</td>\n",
       "      <td id=\"T_446df_row4_col1\" class=\"data row4 col1\" >Mitchell</td>\n",
       "      <td id=\"T_446df_row4_col2\" class=\"data row4 col2\" >850</td>\n",
       "      <td id=\"T_446df_row4_col3\" class=\"data row4 col3\" >Spain</td>\n",
       "      <td id=\"T_446df_row4_col4\" class=\"data row4 col4\" >Female</td>\n",
       "      <td id=\"T_446df_row4_col5\" class=\"data row4 col5\" >43.000000</td>\n",
       "      <td id=\"T_446df_row4_col6\" class=\"data row4 col6\" >2</td>\n",
       "      <td id=\"T_446df_row4_col7\" class=\"data row4 col7\" >125510.820000</td>\n",
       "      <td id=\"T_446df_row4_col8\" class=\"data row4 col8\" >1</td>\n",
       "      <td id=\"T_446df_row4_col9\" class=\"data row4 col9\" >nan</td>\n",
       "      <td id=\"T_446df_row4_col10\" class=\"data row4 col10\" >1.000000</td>\n",
       "      <td id=\"T_446df_row4_col11\" class=\"data row4 col11\" >79084.100000</td>\n",
       "      <td id=\"T_446df_row4_col12\" class=\"data row4 col12\" >0</td>\n",
       "    </tr>\n",
       "  </tbody>\n",
       "</table>\n"
      ],
      "text/plain": [
       "<pandas.io.formats.style.Styler at 0x7ec7a92bd960>"
      ]
     },
     "execution_count": 8,
     "metadata": {},
     "output_type": "execute_result"
    }
   ],
   "source": [
    "original_df = original_df.drop(['RowNumber'],axis =1)\n",
    "set_frame_style(original_df.head())"
   ]
  },
  {
   "cell_type": "code",
   "execution_count": 9,
   "id": "790e4a00",
   "metadata": {
    "execution": {
     "iopub.execute_input": "2024-01-31T18:44:54.838528Z",
     "iopub.status.busy": "2024-01-31T18:44:54.838152Z",
     "iopub.status.idle": "2024-01-31T18:44:54.935974Z",
     "shell.execute_reply": "2024-01-31T18:44:54.934816Z"
    },
    "papermill": {
     "duration": 0.130007,
     "end_time": "2024-01-31T18:44:54.938377",
     "exception": false,
     "start_time": "2024-01-31T18:44:54.808370",
     "status": "completed"
    },
    "tags": []
   },
   "outputs": [
    {
     "data": {
      "text/html": [
       "<div>\n",
       "<style scoped>\n",
       "    .dataframe tbody tr th:only-of-type {\n",
       "        vertical-align: middle;\n",
       "    }\n",
       "\n",
       "    .dataframe tbody tr th {\n",
       "        vertical-align: top;\n",
       "    }\n",
       "\n",
       "    .dataframe thead th {\n",
       "        text-align: right;\n",
       "    }\n",
       "</style>\n",
       "<table border=\"1\" class=\"dataframe\">\n",
       "  <thead>\n",
       "    <tr style=\"text-align: right;\">\n",
       "      <th></th>\n",
       "      <th></th>\n",
       "      <th></th>\n",
       "      <th></th>\n",
       "      <th></th>\n",
       "      <th></th>\n",
       "      <th></th>\n",
       "      <th></th>\n",
       "      <th></th>\n",
       "      <th></th>\n",
       "      <th></th>\n",
       "      <th></th>\n",
       "      <th></th>\n",
       "      <th>count</th>\n",
       "    </tr>\n",
       "    <tr>\n",
       "      <th>CustomerId</th>\n",
       "      <th>Surname</th>\n",
       "      <th>CreditScore</th>\n",
       "      <th>Geography</th>\n",
       "      <th>Gender</th>\n",
       "      <th>Age</th>\n",
       "      <th>Tenure</th>\n",
       "      <th>Balance</th>\n",
       "      <th>NumOfProducts</th>\n",
       "      <th>HasCrCard</th>\n",
       "      <th>IsActiveMember</th>\n",
       "      <th>EstimatedSalary</th>\n",
       "      <th>Exited</th>\n",
       "      <th></th>\n",
       "    </tr>\n",
       "  </thead>\n",
       "  <tbody>\n",
       "    <tr>\n",
       "      <th>False</th>\n",
       "      <th>False</th>\n",
       "      <th>False</th>\n",
       "      <th>False</th>\n",
       "      <th>False</th>\n",
       "      <th>False</th>\n",
       "      <th>False</th>\n",
       "      <th>False</th>\n",
       "      <th>False</th>\n",
       "      <th>False</th>\n",
       "      <th>False</th>\n",
       "      <th>False</th>\n",
       "      <th>False</th>\n",
       "      <td>165034</td>\n",
       "    </tr>\n",
       "  </tbody>\n",
       "</table>\n",
       "</div>"
      ],
      "text/plain": [
       "                                                                                                                                     count\n",
       "CustomerId Surname CreditScore Geography Gender Age   Tenure Balance NumOfProducts HasCrCard IsActiveMember EstimatedSalary Exited        \n",
       "False      False   False       False     False  False False  False   False         False     False          False           False   165034"
      ]
     },
     "metadata": {},
     "output_type": "display_data"
    }
   ],
   "source": [
    "display(pd.DataFrame(syn_df.isna().value_counts()))"
   ]
  },
  {
   "cell_type": "code",
   "execution_count": 10,
   "id": "e0e550de",
   "metadata": {
    "execution": {
     "iopub.execute_input": "2024-01-31T18:44:54.999939Z",
     "iopub.status.busy": "2024-01-31T18:44:54.999414Z",
     "iopub.status.idle": "2024-01-31T18:44:55.129196Z",
     "shell.execute_reply": "2024-01-31T18:44:55.128089Z"
    },
    "papermill": {
     "duration": 0.163704,
     "end_time": "2024-01-31T18:44:55.131954",
     "exception": false,
     "start_time": "2024-01-31T18:44:54.968250",
     "status": "completed"
    },
    "tags": []
   },
   "outputs": [
    {
     "name": "stdout",
     "output_type": "stream",
     "text": [
      "Unique values in synthetically generated dataset : \n",
      "\n",
      "+-----------------+---------------+\n",
      "|     Features    | Unique Values |\n",
      "+-----------------+---------------+\n",
      "|    CustomerId   |     23221     |\n",
      "|     Surname     |      2797     |\n",
      "|   CreditScore   |      457      |\n",
      "|    Geography    |       3       |\n",
      "|      Gender     |       2       |\n",
      "|       Age       |       71      |\n",
      "|      Tenure     |       11      |\n",
      "|     Balance     |     30075     |\n",
      "|  NumOfProducts  |       4       |\n",
      "|    HasCrCard    |       2       |\n",
      "|  IsActiveMember |       2       |\n",
      "| EstimatedSalary |     55298     |\n",
      "|      Exited     |       2       |\n",
      "+-----------------+---------------+\n"
     ]
    }
   ],
   "source": [
    "from prettytable import PrettyTable\n",
    "table = PrettyTable()\n",
    "table.field_names = [\"Features\",\"Unique Values\"]\n",
    "for i in list(syn_df.columns) :\n",
    "    nunique =syn_df[str(i)].nunique\n",
    "    table.add_row([i, f\"{nunique()}\"])\n",
    "print('Unique values in synthetically generated dataset : \\n')\n",
    "print(table)"
   ]
  },
  {
   "cell_type": "markdown",
   "id": "af1fe4fe",
   "metadata": {
    "papermill": {
     "duration": 0.029079,
     "end_time": "2024-01-31T18:44:55.190727",
     "exception": false,
     "start_time": "2024-01-31T18:44:55.161648",
     "status": "completed"
    },
    "tags": []
   },
   "source": [
    "## `Geography`, `Gender` , `Tenure`, ` NumOfProducts`, `HasCrCard`, `IsActiveMember` are the categorical features"
   ]
  },
  {
   "cell_type": "code",
   "execution_count": 11,
   "id": "5869132e",
   "metadata": {
    "execution": {
     "iopub.execute_input": "2024-01-31T18:44:55.252015Z",
     "iopub.status.busy": "2024-01-31T18:44:55.251644Z",
     "iopub.status.idle": "2024-01-31T18:44:55.266801Z",
     "shell.execute_reply": "2024-01-31T18:44:55.265801Z"
    },
    "papermill": {
     "duration": 0.050253,
     "end_time": "2024-01-31T18:44:55.269537",
     "exception": false,
     "start_time": "2024-01-31T18:44:55.219284",
     "status": "completed"
    },
    "tags": []
   },
   "outputs": [
    {
     "name": "stdout",
     "output_type": "stream",
     "text": [
      "Unique values in original dataset : \n",
      "\n",
      "+-----------------+---------------+\n",
      "|     Features    | Unique Values |\n",
      "+-----------------+---------------+\n",
      "|    CustomerId   |     10000     |\n",
      "|     Surname     |      2932     |\n",
      "|   CreditScore   |      460      |\n",
      "|    Geography    |       3       |\n",
      "|      Gender     |       2       |\n",
      "|       Age       |       73      |\n",
      "|      Tenure     |       11      |\n",
      "|     Balance     |      6382     |\n",
      "|  NumOfProducts  |       4       |\n",
      "|    HasCrCard    |       2       |\n",
      "|  IsActiveMember |       2       |\n",
      "| EstimatedSalary |      9999     |\n",
      "|      Exited     |       2       |\n",
      "+-----------------+---------------+\n"
     ]
    }
   ],
   "source": [
    "from prettytable import PrettyTable\n",
    "\n",
    "\n",
    "table = PrettyTable()\n",
    "table.field_names = [\"Features\",\"Unique Values\"]\n",
    "for i in list(original_df.columns) :\n",
    "    nunique =original_df[str(i)].nunique\n",
    "    table.add_row([i, f\"{nunique()}\"])\n",
    "print('Unique values in original dataset : \\n')\n",
    "print(table)"
   ]
  },
  {
   "cell_type": "markdown",
   "id": "7240b1c0",
   "metadata": {
    "papermill": {
     "duration": 0.028654,
     "end_time": "2024-01-31T18:44:55.327942",
     "exception": false,
     "start_time": "2024-01-31T18:44:55.299288",
     "status": "completed"
    },
    "tags": []
   },
   "source": [
    " > ### Both are similar (of course it was synthetically generated from the original one, but it's a good practice to check when merging both dataframes)"
   ]
  },
  {
   "cell_type": "code",
   "execution_count": 12,
   "id": "a0d97180",
   "metadata": {
    "execution": {
     "iopub.execute_input": "2024-01-31T18:44:55.387724Z",
     "iopub.status.busy": "2024-01-31T18:44:55.387334Z",
     "iopub.status.idle": "2024-01-31T18:44:55.630440Z",
     "shell.execute_reply": "2024-01-31T18:44:55.629357Z"
    },
    "papermill": {
     "duration": 0.27578,
     "end_time": "2024-01-31T18:44:55.632903",
     "exception": false,
     "start_time": "2024-01-31T18:44:55.357123",
     "status": "completed"
    },
    "tags": []
   },
   "outputs": [
    {
     "name": "stdout",
     "output_type": "stream",
     "text": [
      "<class 'pandas.core.frame.DataFrame'>\n",
      "RangeIndex: 175032 entries, 0 to 175031\n",
      "Data columns (total 13 columns):\n",
      " #   Column           Non-Null Count   Dtype  \n",
      "---  ------           --------------   -----  \n",
      " 0   CustomerId       175032 non-null  int64  \n",
      " 1   Surname          175032 non-null  object \n",
      " 2   CreditScore      175032 non-null  int64  \n",
      " 3   Geography        175032 non-null  object \n",
      " 4   Gender           175032 non-null  object \n",
      " 5   Age              175032 non-null  float64\n",
      " 6   Tenure           175032 non-null  int64  \n",
      " 7   Balance          175032 non-null  float64\n",
      " 8   NumOfProducts    175032 non-null  int64  \n",
      " 9   HasCrCard        175032 non-null  float64\n",
      " 10  IsActiveMember   175032 non-null  float64\n",
      " 11  EstimatedSalary  175032 non-null  float64\n",
      " 12  Exited           175032 non-null  int64  \n",
      "dtypes: float64(5), int64(5), object(3)\n",
      "memory usage: 17.4+ MB\n"
     ]
    }
   ],
   "source": [
    "df = pd.concat([syn_df,original_df], axis =0)\n",
    "\n",
    "df = df.dropna()\n",
    "df = df.sample(frac = 1).reset_index(drop = True)\n",
    "df.info()"
   ]
  },
  {
   "cell_type": "markdown",
   "id": "9db46372",
   "metadata": {
    "papermill": {
     "duration": 0.028782,
     "end_time": "2024-01-31T18:44:55.690870",
     "exception": false,
     "start_time": "2024-01-31T18:44:55.662088",
     "status": "completed"
    },
    "tags": []
   },
   "source": [
    "# <a id=\"3\"><center><font size = 4><span style=\"color:#F5F5E6\"> <p style=\"background-color:#005F5D;font-family:courier;color:#FFFFFF;font-size:250%;text-align:center;border-radius:5px 5px;padding : 2px\">Feature Engineering </p>   </span></font></center> \n",
    "    "
   ]
  },
  {
   "cell_type": "markdown",
   "id": "873bc47b",
   "metadata": {
    "papermill": {
     "duration": 0.028676,
     "end_time": "2024-01-31T18:44:55.748177",
     "exception": false,
     "start_time": "2024-01-31T18:44:55.719501",
     "status": "completed"
    },
    "tags": []
   },
   "source": [
    "## Feature Engineering"
   ]
  },
  {
   "cell_type": "markdown",
   "id": "2f749a6e",
   "metadata": {
    "papermill": {
     "duration": 0.028477,
     "end_time": "2024-01-31T18:44:55.805724",
     "exception": false,
     "start_time": "2024-01-31T18:44:55.777247",
     "status": "completed"
    },
    "tags": []
   },
   "source": [
    "#### Age Categories : "
   ]
  },
  {
   "cell_type": "code",
   "execution_count": 13,
   "id": "75f0ab7b",
   "metadata": {
    "execution": {
     "iopub.execute_input": "2024-01-31T18:44:55.868109Z",
     "iopub.status.busy": "2024-01-31T18:44:55.867708Z",
     "iopub.status.idle": "2024-01-31T18:44:55.887098Z",
     "shell.execute_reply": "2024-01-31T18:44:55.885904Z"
    },
    "papermill": {
     "duration": 0.053296,
     "end_time": "2024-01-31T18:44:55.889629",
     "exception": false,
     "start_time": "2024-01-31T18:44:55.836333",
     "status": "completed"
    },
    "tags": []
   },
   "outputs": [],
   "source": [
    "def age_tr(df) : \n",
    "    df['Age_Category'] = pd.cut(df['Age'], bins=[18, 30, 40, 50, 60, 100], labels=['18-30', '30-40', '40-50', '50-60', '60+'])\n",
    "    return df\n",
    "\n",
    "df = age_tr(df)\n",
    "test_df = age_tr(test_df)\n",
    "original_df = age_tr(original_df)"
   ]
  },
  {
   "cell_type": "markdown",
   "id": "6de32b19",
   "metadata": {
    "papermill": {
     "duration": 0.02881,
     "end_time": "2024-01-31T18:44:55.949371",
     "exception": false,
     "start_time": "2024-01-31T18:44:55.920561",
     "status": "completed"
    },
    "tags": []
   },
   "source": [
    "#### Credit Score Ranges:"
   ]
  },
  {
   "cell_type": "code",
   "execution_count": 14,
   "id": "4c6fb2b8",
   "metadata": {
    "execution": {
     "iopub.execute_input": "2024-01-31T18:44:56.009760Z",
     "iopub.status.busy": "2024-01-31T18:44:56.009343Z",
     "iopub.status.idle": "2024-01-31T18:44:56.027078Z",
     "shell.execute_reply": "2024-01-31T18:44:56.026153Z"
    },
    "papermill": {
     "duration": 0.051022,
     "end_time": "2024-01-31T18:44:56.029533",
     "exception": false,
     "start_time": "2024-01-31T18:44:55.978511",
     "status": "completed"
    },
    "tags": []
   },
   "outputs": [],
   "source": [
    "def cred_score_tr(df) : \n",
    "    df['Credit_Score_Range'] = pd.cut(df['CreditScore'], bins=[0, 300, 600, 700, 800, 900], labels=['0-300', '300-600', '600-700', '700-800', '900+'])\n",
    "    return df\n",
    "df = cred_score_tr(df)\n",
    "test_df = cred_score_tr(test_df)\n",
    "original_df = cred_score_tr(original_df)"
   ]
  },
  {
   "cell_type": "markdown",
   "id": "34879ce8",
   "metadata": {
    "papermill": {
     "duration": 0.030086,
     "end_time": "2024-01-31T18:44:56.089312",
     "exception": false,
     "start_time": "2024-01-31T18:44:56.059226",
     "status": "completed"
    },
    "tags": []
   },
   "source": [
    "#### Account Balance to Salary Ratio"
   ]
  },
  {
   "cell_type": "code",
   "execution_count": 15,
   "id": "09b4515b",
   "metadata": {
    "execution": {
     "iopub.execute_input": "2024-01-31T18:44:56.148915Z",
     "iopub.status.busy": "2024-01-31T18:44:56.148528Z",
     "iopub.status.idle": "2024-01-31T18:44:56.157528Z",
     "shell.execute_reply": "2024-01-31T18:44:56.156670Z"
    },
    "papermill": {
     "duration": 0.041926,
     "end_time": "2024-01-31T18:44:56.159979",
     "exception": false,
     "start_time": "2024-01-31T18:44:56.118053",
     "status": "completed"
    },
    "tags": []
   },
   "outputs": [],
   "source": [
    "def acc_sal_tr(df):\n",
    "\n",
    "    df['Balance_Salary_Ratio'] = df['Balance'] / df['EstimatedSalary']\n",
    "    return df\n",
    "\n",
    "df = acc_sal_tr(df)\n",
    "test_df = acc_sal_tr(test_df)\n",
    "original_df = acc_sal_tr(original_df)"
   ]
  },
  {
   "cell_type": "markdown",
   "id": "a606aad7",
   "metadata": {
    "papermill": {
     "duration": 0.027642,
     "end_time": "2024-01-31T18:44:56.216502",
     "exception": false,
     "start_time": "2024-01-31T18:44:56.188860",
     "status": "completed"
    },
    "tags": []
   },
   "source": [
    "#### Geography and Gender Interaction"
   ]
  },
  {
   "cell_type": "code",
   "execution_count": 16,
   "id": "1e4b2c4a",
   "metadata": {
    "execution": {
     "iopub.execute_input": "2024-01-31T18:44:56.277191Z",
     "iopub.status.busy": "2024-01-31T18:44:56.276815Z",
     "iopub.status.idle": "2024-01-31T18:44:56.368390Z",
     "shell.execute_reply": "2024-01-31T18:44:56.367555Z"
    },
    "papermill": {
     "duration": 0.125054,
     "end_time": "2024-01-31T18:44:56.371166",
     "exception": false,
     "start_time": "2024-01-31T18:44:56.246112",
     "status": "completed"
    },
    "tags": []
   },
   "outputs": [],
   "source": [
    "def geo_gender_tr(df) : \n",
    "    df['Geo_Gender'] = df['Geography'] + '_' + df['Gender']\n",
    "    return df\n",
    "\n",
    "df = geo_gender_tr(df)\n",
    "test_df = geo_gender_tr(test_df)\n",
    "original_df = geo_gender_tr(original_df)"
   ]
  },
  {
   "cell_type": "markdown",
   "id": "f36a4019",
   "metadata": {
    "papermill": {
     "duration": 0.02929,
     "end_time": "2024-01-31T18:44:56.428817",
     "exception": false,
     "start_time": "2024-01-31T18:44:56.399527",
     "status": "completed"
    },
    "tags": []
   },
   "source": [
    "#### Total Products Used"
   ]
  },
  {
   "cell_type": "code",
   "execution_count": 17,
   "id": "05c1154f",
   "metadata": {
    "execution": {
     "iopub.execute_input": "2024-01-31T18:44:56.488951Z",
     "iopub.status.busy": "2024-01-31T18:44:56.488565Z",
     "iopub.status.idle": "2024-01-31T18:44:56.497210Z",
     "shell.execute_reply": "2024-01-31T18:44:56.496417Z"
    },
    "papermill": {
     "duration": 0.041553,
     "end_time": "2024-01-31T18:44:56.499534",
     "exception": false,
     "start_time": "2024-01-31T18:44:56.457981",
     "status": "completed"
    },
    "tags": []
   },
   "outputs": [],
   "source": [
    "def total_pr_tr(df) :\n",
    "    df['Total_Products_Used'] = df['NumOfProducts'] + df['HasCrCard']\n",
    "    return df\n",
    "\n",
    "df = total_pr_tr(df)\n",
    "test_df = total_pr_tr(test_df)\n",
    "original_df = total_pr_tr(original_df)"
   ]
  },
  {
   "cell_type": "markdown",
   "id": "69ca4d71",
   "metadata": {
    "papermill": {
     "duration": 0.029127,
     "end_time": "2024-01-31T18:44:56.558345",
     "exception": false,
     "start_time": "2024-01-31T18:44:56.529218",
     "status": "completed"
    },
    "tags": []
   },
   "source": [
    "#### Gender and Total Products Interaction"
   ]
  },
  {
   "cell_type": "code",
   "execution_count": 18,
   "id": "d8bc5b10",
   "metadata": {
    "execution": {
     "iopub.execute_input": "2024-01-31T18:44:56.618912Z",
     "iopub.status.busy": "2024-01-31T18:44:56.618510Z",
     "iopub.status.idle": "2024-01-31T18:44:56.870971Z",
     "shell.execute_reply": "2024-01-31T18:44:56.869963Z"
    },
    "papermill": {
     "duration": 0.286129,
     "end_time": "2024-01-31T18:44:56.873795",
     "exception": false,
     "start_time": "2024-01-31T18:44:56.587666",
     "status": "completed"
    },
    "tags": []
   },
   "outputs": [],
   "source": [
    "def tp_gender_tr(df) : \n",
    "    df['Tp_Gender'] = df['Total_Products_Used'].astype('str') + df['Gender']\n",
    "    return df\n",
    "\n",
    "df = tp_gender_tr(df)\n",
    "test_df = tp_gender_tr(test_df)\n",
    "original_df = tp_gender_tr(original_df)\n"
   ]
  },
  {
   "cell_type": "markdown",
   "id": "00f2da12",
   "metadata": {
    "papermill": {
     "duration": 0.029561,
     "end_time": "2024-01-31T18:44:56.933520",
     "exception": false,
     "start_time": "2024-01-31T18:44:56.903959",
     "status": "completed"
    },
    "tags": []
   },
   "source": [
    "#### TF-IDF for Encoding Surnames : Credit [@arunklenin](https://www.kaggle.com/code/arunklenin/ps4e1-advanced-feature-engineering-ensemble?scriptVersionId=157561661&cellId=30)"
   ]
  },
  {
   "cell_type": "code",
   "execution_count": 19,
   "id": "182fdd9d",
   "metadata": {
    "execution": {
     "iopub.execute_input": "2024-01-31T18:44:56.995226Z",
     "iopub.status.busy": "2024-01-31T18:44:56.994821Z",
     "iopub.status.idle": "2024-01-31T18:45:01.058563Z",
     "shell.execute_reply": "2024-01-31T18:45:01.057615Z"
    },
    "papermill": {
     "duration": 4.097991,
     "end_time": "2024-01-31T18:45:01.061241",
     "exception": false,
     "start_time": "2024-01-31T18:44:56.963250",
     "status": "completed"
    },
    "tags": []
   },
   "outputs": [
    {
     "name": "stderr",
     "output_type": "stream",
     "text": [
      "/opt/conda/lib/python3.10/site-packages/scipy/__init__.py:146: UserWarning: A NumPy version >=1.16.5 and <1.23.0 is required for this version of SciPy (detected version 1.24.3\n",
      "  warnings.warn(f\"A NumPy version >={np_minversion} and <{np_maxversion}\"\n"
     ]
    }
   ],
   "source": [
    "from sklearn.feature_extraction.text import TfidfVectorizer\n",
    "from sklearn.decomposition import PCA\n",
    "from sklearn.decomposition import TruncatedSVD\n",
    "\n",
    "\n",
    "def tf_idf(train, test,original, column,n,p):\n",
    "    vectorizer=TfidfVectorizer(max_features=n)\n",
    "    vectors_train=vectorizer.fit_transform(train[column])\n",
    "    vectors_test=vectorizer.transform(test[column])\n",
    "    vectors_original=vectorizer.transform(original[column])\n",
    "    \n",
    "    svd=TruncatedSVD(p)\n",
    "    x_pca_train=svd.fit_transform(vectors_train)\n",
    "    x_pca_test=svd.transform(vectors_test)\n",
    "    x_pca_original = svd.transform(vectors_original)\n",
    "    tfidf_df_train=pd.DataFrame(x_pca_train)\n",
    "    tfidf_df_test=pd.DataFrame(x_pca_test)\n",
    "    tfidf_df_original=pd.DataFrame(x_pca_original)\n",
    "\n",
    "    \n",
    "    cols=[(column+\"_tfidf_\"+str(f)) for f in tfidf_df_train.columns]\n",
    "    tfidf_df_train.columns=cols\n",
    "    tfidf_df_test.columns=cols\n",
    "    tfidf_df_original.columns = cols\n",
    "    train=pd.concat([train,tfidf_df_train], axis=\"columns\")\n",
    "    test=pd.concat([test,tfidf_df_test], axis=\"columns\")\n",
    "    original=pd.concat([original,tfidf_df_original], axis=\"columns\")\n",
    "    \n",
    "    return train, test , original\n",
    "\n",
    "df,test_df, original_df=tf_idf(df,test_df,original_df, \"Surname\",1000,5)"
   ]
  },
  {
   "cell_type": "code",
   "execution_count": 20,
   "id": "2223c7d3",
   "metadata": {
    "execution": {
     "iopub.execute_input": "2024-01-31T18:45:01.121556Z",
     "iopub.status.busy": "2024-01-31T18:45:01.121129Z",
     "iopub.status.idle": "2024-01-31T18:45:01.232594Z",
     "shell.execute_reply": "2024-01-31T18:45:01.231098Z"
    },
    "papermill": {
     "duration": 0.144252,
     "end_time": "2024-01-31T18:45:01.235111",
     "exception": false,
     "start_time": "2024-01-31T18:45:01.090859",
     "status": "completed"
    },
    "tags": []
   },
   "outputs": [
    {
     "name": "stdout",
     "output_type": "stream",
     "text": [
      "<class 'pandas.core.frame.DataFrame'>\n",
      "RangeIndex: 175032 entries, 0 to 175031\n",
      "Data columns (total 24 columns):\n",
      " #   Column                Non-Null Count   Dtype   \n",
      "---  ------                --------------   -----   \n",
      " 0   CustomerId            175032 non-null  int64   \n",
      " 1   Surname               175032 non-null  object  \n",
      " 2   CreditScore           175032 non-null  int64   \n",
      " 3   Geography             175032 non-null  object  \n",
      " 4   Gender                175032 non-null  object  \n",
      " 5   Age                   175032 non-null  float64 \n",
      " 6   Tenure                175032 non-null  int64   \n",
      " 7   Balance               175032 non-null  float64 \n",
      " 8   NumOfProducts         175032 non-null  int64   \n",
      " 9   HasCrCard             175032 non-null  float64 \n",
      " 10  IsActiveMember        175032 non-null  float64 \n",
      " 11  EstimatedSalary       175032 non-null  float64 \n",
      " 12  Exited                175032 non-null  int64   \n",
      " 13  Age_Category          174892 non-null  category\n",
      " 14  Credit_Score_Range    175032 non-null  category\n",
      " 15  Balance_Salary_Ratio  175032 non-null  float64 \n",
      " 16  Geo_Gender            175032 non-null  object  \n",
      " 17  Total_Products_Used   175032 non-null  float64 \n",
      " 18  Tp_Gender             175032 non-null  object  \n",
      " 19  Surname_tfidf_0       175032 non-null  float64 \n",
      " 20  Surname_tfidf_1       175032 non-null  float64 \n",
      " 21  Surname_tfidf_2       175032 non-null  float64 \n",
      " 22  Surname_tfidf_3       175032 non-null  float64 \n",
      " 23  Surname_tfidf_4       175032 non-null  float64 \n",
      "dtypes: category(2), float64(12), int64(5), object(5)\n",
      "memory usage: 29.7+ MB\n"
     ]
    }
   ],
   "source": [
    "df.info()"
   ]
  },
  {
   "cell_type": "code",
   "execution_count": 21,
   "id": "15efdfd9",
   "metadata": {
    "execution": {
     "iopub.execute_input": "2024-01-31T18:45:01.297388Z",
     "iopub.status.busy": "2024-01-31T18:45:01.296993Z",
     "iopub.status.idle": "2024-01-31T18:45:01.304066Z",
     "shell.execute_reply": "2024-01-31T18:45:01.302974Z"
    },
    "papermill": {
     "duration": 0.039522,
     "end_time": "2024-01-31T18:45:01.306137",
     "exception": false,
     "start_time": "2024-01-31T18:45:01.266615",
     "status": "completed"
    },
    "tags": []
   },
   "outputs": [
    {
     "data": {
      "text/plain": [
       "Index(['CustomerId', 'Surname', 'CreditScore', 'Geography', 'Gender', 'Age',\n",
       "       'Tenure', 'Balance', 'NumOfProducts', 'HasCrCard', 'IsActiveMember',\n",
       "       'EstimatedSalary', 'Exited', 'Age_Category', 'Credit_Score_Range',\n",
       "       'Balance_Salary_Ratio', 'Geo_Gender', 'Total_Products_Used',\n",
       "       'Tp_Gender', 'Surname_tfidf_0', 'Surname_tfidf_1', 'Surname_tfidf_2',\n",
       "       'Surname_tfidf_3', 'Surname_tfidf_4'],\n",
       "      dtype='object')"
      ]
     },
     "execution_count": 21,
     "metadata": {},
     "output_type": "execute_result"
    }
   ],
   "source": [
    "df.columns"
   ]
  },
  {
   "cell_type": "markdown",
   "id": "e7cbb265",
   "metadata": {
    "papermill": {
     "duration": 0.029121,
     "end_time": "2024-01-31T18:45:01.364058",
     "exception": false,
     "start_time": "2024-01-31T18:45:01.334937",
     "status": "completed"
    },
    "tags": []
   },
   "source": [
    "# <a id=\"3\"><center><font size = 4><span style=\"color:#F5F5E6\"> <p style=\"background-color:#005F5D;font-family:courier;color:#FFFFFF;font-size:250%;text-align:center;border-radius:5px 5px;padding : 2px\">EDA </p>   </span></font></center> \n",
    "    "
   ]
  },
  {
   "cell_type": "markdown",
   "id": "e53f9be8",
   "metadata": {
    "papermill": {
     "duration": 0.028847,
     "end_time": "2024-01-31T18:45:01.421910",
     "exception": false,
     "start_time": "2024-01-31T18:45:01.393063",
     "status": "completed"
    },
    "tags": []
   },
   "source": [
    "# 📊 Exploratory Data Analysis"
   ]
  },
  {
   "cell_type": "code",
   "execution_count": 22,
   "id": "0f5e80b5",
   "metadata": {
    "execution": {
     "iopub.execute_input": "2024-01-31T18:45:01.483778Z",
     "iopub.status.busy": "2024-01-31T18:45:01.483364Z",
     "iopub.status.idle": "2024-01-31T18:45:01.490159Z",
     "shell.execute_reply": "2024-01-31T18:45:01.489141Z"
    },
    "papermill": {
     "duration": 0.040903,
     "end_time": "2024-01-31T18:45:01.492654",
     "exception": false,
     "start_time": "2024-01-31T18:45:01.451751",
     "status": "completed"
    },
    "tags": []
   },
   "outputs": [
    {
     "data": {
      "text/plain": [
       "Index(['CustomerId', 'Surname', 'CreditScore', 'Geography', 'Gender', 'Age',\n",
       "       'Tenure', 'Balance', 'NumOfProducts', 'HasCrCard', 'IsActiveMember',\n",
       "       'EstimatedSalary', 'Exited'],\n",
       "      dtype='object')"
      ]
     },
     "execution_count": 22,
     "metadata": {},
     "output_type": "execute_result"
    }
   ],
   "source": [
    "syn_df.columns"
   ]
  },
  {
   "cell_type": "code",
   "execution_count": 23,
   "id": "8be76420",
   "metadata": {
    "execution": {
     "iopub.execute_input": "2024-01-31T18:45:01.555173Z",
     "iopub.status.busy": "2024-01-31T18:45:01.554786Z",
     "iopub.status.idle": "2024-01-31T18:45:01.577730Z",
     "shell.execute_reply": "2024-01-31T18:45:01.576505Z"
    },
    "papermill": {
     "duration": 0.057567,
     "end_time": "2024-01-31T18:45:01.580498",
     "exception": false,
     "start_time": "2024-01-31T18:45:01.522931",
     "status": "completed"
    },
    "tags": []
   },
   "outputs": [
    {
     "name": "stdout",
     "output_type": "stream",
     "text": [
      "Unique values in original dataset : \n",
      "\n",
      "+----------------------+---------------+\n",
      "|       Features       | Unique Values |\n",
      "+----------------------+---------------+\n",
      "|      CustomerId      |     10000     |\n",
      "|       Surname        |      2932     |\n",
      "|     CreditScore      |      460      |\n",
      "|      Geography       |       3       |\n",
      "|        Gender        |       2       |\n",
      "|         Age          |       73      |\n",
      "|        Tenure        |       11      |\n",
      "|       Balance        |      6382     |\n",
      "|    NumOfProducts     |       4       |\n",
      "|      HasCrCard       |       2       |\n",
      "|    IsActiveMember    |       2       |\n",
      "|   EstimatedSalary    |      9999     |\n",
      "|        Exited        |       2       |\n",
      "|     Age_Category     |       5       |\n",
      "|  Credit_Score_Range  |       4       |\n",
      "| Balance_Salary_Ratio |      6384     |\n",
      "|      Geo_Gender      |       6       |\n",
      "| Total_Products_Used  |       5       |\n",
      "|      Tp_Gender       |       11      |\n",
      "|   Surname_tfidf_0    |      1007     |\n",
      "|   Surname_tfidf_1    |      1007     |\n",
      "|   Surname_tfidf_2    |      1007     |\n",
      "|   Surname_tfidf_3    |      1007     |\n",
      "|   Surname_tfidf_4    |      1007     |\n",
      "+----------------------+---------------+\n"
     ]
    }
   ],
   "source": [
    "from prettytable import PrettyTable\n",
    "\n",
    "table = PrettyTable()\n",
    "table.field_names = [\"Features\",\"Unique Values\"]\n",
    "for i in list(original_df.columns) :\n",
    "    nunique =original_df[str(i)].nunique\n",
    "    table.add_row([i, f\"{nunique()}\"])\n",
    "print('Unique values in original dataset : \\n')\n",
    "print(table)"
   ]
  },
  {
   "cell_type": "code",
   "execution_count": 24,
   "id": "500a54e8",
   "metadata": {
    "execution": {
     "iopub.execute_input": "2024-01-31T18:45:01.644522Z",
     "iopub.status.busy": "2024-01-31T18:45:01.644153Z",
     "iopub.status.idle": "2024-01-31T18:45:01.659474Z",
     "shell.execute_reply": "2024-01-31T18:45:01.658605Z"
    },
    "papermill": {
     "duration": 0.050889,
     "end_time": "2024-01-31T18:45:01.662076",
     "exception": false,
     "start_time": "2024-01-31T18:45:01.611187",
     "status": "completed"
    },
    "tags": []
   },
   "outputs": [],
   "source": [
    "numeric_cols= ['CreditScore',  'Age',  'Balance', 'EstimatedSalary','Balance_Salary_Ratio','Tenure', \"Surname_tfidf_0\",'Surname_tfidf_1',\n",
    "       'Surname_tfidf_2', 'Surname_tfidf_3', 'Surname_tfidf_4']\n",
    "original_cols = ['CreditScore',  'Age',  'Balance', 'EstimatedSalary','Balance_Salary_Ratio','Tenure',\"Surname_tfidf_0\",'Surname_tfidf_1',\n",
    "       'Surname_tfidf_2', 'Surname_tfidf_3', 'Surname_tfidf_4']\n",
    "test_to_scale = test_df[numeric_cols]\n",
    "train_to_scale = df[numeric_cols]\n",
    "set_frame_style(train_to_scale.head(), 'Features with continuous values')\n",
    "train_to_scale_original = original_df[original_cols]"
   ]
  },
  {
   "cell_type": "markdown",
   "id": "6cedd824",
   "metadata": {
    "papermill": {
     "duration": 0.029729,
     "end_time": "2024-01-31T18:45:01.724918",
     "exception": false,
     "start_time": "2024-01-31T18:45:01.695189",
     "status": "completed"
    },
    "tags": []
   },
   "source": [
    "## <a id=\"3.1\"><center><font size = 4><span style=\"color:#F5F5E6\"> <p style=\"background-color:#005F5D;font-family:courier;color:#FFFFFF;font-size:250%;text-align:center;border-radius:5px 5px;padding : 2px\">Distributions of Features </p>   </span></font></center> "
   ]
  },
  {
   "cell_type": "markdown",
   "id": "67cfb3bf",
   "metadata": {
    "papermill": {
     "duration": 0.029958,
     "end_time": "2024-01-31T18:45:01.784802",
     "exception": false,
     "start_time": "2024-01-31T18:45:01.754844",
     "status": "completed"
    },
    "tags": []
   },
   "source": [
    "# 📈 Feature Distribution"
   ]
  },
  {
   "cell_type": "code",
   "execution_count": 25,
   "id": "0624fe13",
   "metadata": {
    "execution": {
     "iopub.execute_input": "2024-01-31T18:45:01.847755Z",
     "iopub.status.busy": "2024-01-31T18:45:01.847326Z",
     "iopub.status.idle": "2024-01-31T18:45:01.853092Z",
     "shell.execute_reply": "2024-01-31T18:45:01.852026Z"
    },
    "papermill": {
     "duration": 0.039854,
     "end_time": "2024-01-31T18:45:01.855462",
     "exception": false,
     "start_time": "2024-01-31T18:45:01.815608",
     "status": "completed"
    },
    "tags": []
   },
   "outputs": [],
   "source": [
    "# from plotly.subplots import make_subplots\n",
    "# import random\n",
    "# import plotly.graph_objects as go\n",
    "# columns = list(train_to_scale_original.columns)\n",
    "# ultra_light_colors = [\n",
    "# \"#F0F8FF\", \"#F6F6F6\", \"#F0FFF0\",  \"#FAFAD2\",  \"#FFE4E1\",  \"#FFF5EE\", \"#F5FFFA\",  \"#F0FFFF\",\"#FFFAF0\",  \"#F8F8FF\"   \n",
    "# ]\n",
    "# fig = make_subplots(rows=len(columns), cols=2)\n",
    "# count = 0\n",
    "# for row in range(int(len(columns))) : \n",
    "#     random_col = f\"RGB({random.randint(100, 255)}, {random.randint(100, 255)}, {random.randint(150, 255)})\"\n",
    "#     fig.add_trace(go.Violin(y=train_to_scale[numeric_cols][columns[count]], x0 = columns[count], box_visible=True, line_color='black',\n",
    "#                                meanline_visible=True, fillcolor=random_col, opacity=0.6,), row=row + 1, col= 1)\n",
    "#     fig.add_trace(go.Violin(y= train_to_scale_original[columns[count]],x0 = columns[count], box_visible=True, line_color='black',\n",
    "#                                meanline_visible=True, fillcolor=random_col, opacity=0.6,), row=row + 1, col= 2)\n",
    " \n",
    "    \n",
    "#     count +=1\n",
    "\n",
    "\n",
    "# fig.update_layout(height=1000, width=800, title_text=\"Feature Distribution in Synthetic (Left) vs Original Dataset (Right)\",showlegend=False,paper_bgcolor= '#F5F5F5')\n",
    "# fig.show()\n"
   ]
  },
  {
   "cell_type": "code",
   "execution_count": 26,
   "id": "cff2cc2d",
   "metadata": {
    "execution": {
     "iopub.execute_input": "2024-01-31T18:45:01.920124Z",
     "iopub.status.busy": "2024-01-31T18:45:01.919736Z",
     "iopub.status.idle": "2024-01-31T18:45:01.937400Z",
     "shell.execute_reply": "2024-01-31T18:45:01.936410Z"
    },
    "papermill": {
     "duration": 0.052959,
     "end_time": "2024-01-31T18:45:01.939882",
     "exception": false,
     "start_time": "2024-01-31T18:45:01.886923",
     "status": "completed"
    },
    "tags": []
   },
   "outputs": [
    {
     "data": {
      "text/html": [
       "<style type=\"text/css\">\n",
       "#T_7603c caption {\n",
       "  color: Brown;\n",
       "  font-size: 15px;\n",
       "  font-weight: bold;\n",
       "}\n",
       "#T_7603c_row0_col0 {\n",
       "  background-color: #00441b;\n",
       "  color: #f1f1f1;\n",
       "}\n",
       "#T_7603c_row1_col0 {\n",
       "  background-color: #f7fcfd;\n",
       "  color: #000000;\n",
       "}\n",
       "</style>\n",
       "<table id=\"T_7603c\">\n",
       "  <caption>Data points per class</caption>\n",
       "  <thead>\n",
       "    <tr>\n",
       "      <th class=\"blank level0\" >&nbsp;</th>\n",
       "      <th id=\"T_7603c_level0_col0\" class=\"col_heading level0 col0\" >count</th>\n",
       "    </tr>\n",
       "    <tr>\n",
       "      <th class=\"index_name level0\" >Exited</th>\n",
       "      <th class=\"blank col0\" >&nbsp;</th>\n",
       "    </tr>\n",
       "  </thead>\n",
       "  <tbody>\n",
       "    <tr>\n",
       "      <th id=\"T_7603c_level0_row0\" class=\"row_heading level0 row0\" >0</th>\n",
       "      <td id=\"T_7603c_row0_col0\" class=\"data row0 col0\" >138073</td>\n",
       "    </tr>\n",
       "    <tr>\n",
       "      <th id=\"T_7603c_level0_row1\" class=\"row_heading level0 row1\" >1</th>\n",
       "      <td id=\"T_7603c_row1_col0\" class=\"data row1 col0\" >36959</td>\n",
       "    </tr>\n",
       "  </tbody>\n",
       "</table>\n"
      ],
      "text/plain": [
       "<pandas.io.formats.style.Styler at 0x7ec7a8e4e170>"
      ]
     },
     "execution_count": 26,
     "metadata": {},
     "output_type": "execute_result"
    }
   ],
   "source": [
    "set_frame_style(pd.DataFrame(df.Exited.value_counts()), 'Data points per class', '15px')"
   ]
  },
  {
   "cell_type": "code",
   "execution_count": null,
   "id": "e11e66cd",
   "metadata": {
    "papermill": {
     "duration": 0.030608,
     "end_time": "2024-01-31T18:45:02.001601",
     "exception": false,
     "start_time": "2024-01-31T18:45:01.970993",
     "status": "completed"
    },
    "tags": []
   },
   "outputs": [],
   "source": []
  },
  {
   "cell_type": "code",
   "execution_count": 27,
   "id": "89a1becf",
   "metadata": {
    "execution": {
     "iopub.execute_input": "2024-01-31T18:45:02.065942Z",
     "iopub.status.busy": "2024-01-31T18:45:02.065524Z",
     "iopub.status.idle": "2024-01-31T18:45:02.070633Z",
     "shell.execute_reply": "2024-01-31T18:45:02.069624Z"
    },
    "papermill": {
     "duration": 0.040569,
     "end_time": "2024-01-31T18:45:02.072912",
     "exception": false,
     "start_time": "2024-01-31T18:45:02.032343",
     "status": "completed"
    },
    "tags": []
   },
   "outputs": [],
   "source": [
    "# classes = list(df.Exited.unique())\n",
    "\n",
    "# ultra_light_colors = [\n",
    "# \"#F0F8FF\", \"#F6F6F6\", \"#F0FFF0\",  \"#FAFAD2\",  \"#FFE4E1\",  \"#FFF5EE\", \"#F5FFFA\",  \"#F0FFFF\",\"#FFFAF0\",  \"#F8F8FF\"   \n",
    "# ]\n",
    "# def col_per_class(col):\n",
    "#     fig = go.Figure()\n",
    "#     for clas in classes : \n",
    "#         fig.add_trace(go.Violin(y = df[col][df['Exited']== clas],   box_visible=True,\n",
    "#                             meanline_visible=True , x = df['Exited'][df['Exited'] == clas], name = str(clas) ))\n",
    "#         fig.update_layout(title = f'Distribution for {col} for each class', plot_bgcolor = ultra_light_colors[np.random.randint(1,10)],paper_bgcolor= '#F5F5F5', height=400,  \n",
    "#         width=1000 )\n",
    "#     return fig\n",
    "# for i in df : \n",
    "#     fig = col_per_class(i)\n",
    "#     fig.show()"
   ]
  },
  {
   "cell_type": "code",
   "execution_count": 28,
   "id": "1b3b03bd",
   "metadata": {
    "execution": {
     "iopub.execute_input": "2024-01-31T18:45:02.135899Z",
     "iopub.status.busy": "2024-01-31T18:45:02.135467Z",
     "iopub.status.idle": "2024-01-31T18:45:03.335420Z",
     "shell.execute_reply": "2024-01-31T18:45:03.334392Z"
    },
    "papermill": {
     "duration": 1.234569,
     "end_time": "2024-01-31T18:45:03.338845",
     "exception": false,
     "start_time": "2024-01-31T18:45:02.104276",
     "status": "completed"
    },
    "tags": []
   },
   "outputs": [
    {
     "data": {
      "image/png": "[encoded data removed]",
      "text/plain": [
       "<Figure size 1000x800 with 2 Axes>"
      ]
     },
     "metadata": {},
     "output_type": "display_data"
    }
   ],
   "source": [
    "import seaborn as sns\n",
    "import matplotlib.pyplot as plt\n",
    "\n",
    "correlation_matrix = train_to_scale.corr()\n",
    "\n",
    "# Create a heatmap with masked upper triangle\n",
    "plt.figure(figsize=(10, 8))\n",
    "sns.heatmap(correlation_matrix, annot=True, cmap='Blues', fmt='.2f', linewidths=.5)\n",
    "plt.title('Correlation Matrix (Lower Triangle)')\n",
    "plt.show()"
   ]
  },
  {
   "cell_type": "markdown",
   "id": "d63b4786",
   "metadata": {
    "papermill": {
     "duration": 0.032002,
     "end_time": "2024-01-31T18:45:03.403715",
     "exception": false,
     "start_time": "2024-01-31T18:45:03.371713",
     "status": "completed"
    },
    "tags": []
   },
   "source": [
    "# <a id=\"4\"><center><font size = 4><span style=\"color:#F5F5E6\"> <p style=\"background-color:#005F5D;font-family:courier;color:#FFFFFF;font-size:250%;text-align:center;border-radius:5px 5px;padding : 2px\">Preprocessing</p>   </span></font></center> "
   ]
  },
  {
   "cell_type": "markdown",
   "id": "bbdb8234",
   "metadata": {
    "papermill": {
     "duration": 0.031628,
     "end_time": "2024-01-31T18:45:03.467258",
     "exception": false,
     "start_time": "2024-01-31T18:45:03.435630",
     "status": "completed"
    },
    "tags": []
   },
   "source": [
    "# ⚙️ Preprocessing"
   ]
  },
  {
   "cell_type": "code",
   "execution_count": 29,
   "id": "86ecd246",
   "metadata": {
    "execution": {
     "iopub.execute_input": "2024-01-31T18:45:03.532978Z",
     "iopub.status.busy": "2024-01-31T18:45:03.532231Z",
     "iopub.status.idle": "2024-01-31T18:45:03.580247Z",
     "shell.execute_reply": "2024-01-31T18:45:03.579031Z"
    },
    "papermill": {
     "duration": 0.083615,
     "end_time": "2024-01-31T18:45:03.582621",
     "exception": false,
     "start_time": "2024-01-31T18:45:03.499006",
     "status": "completed"
    },
    "tags": []
   },
   "outputs": [
    {
     "data": {
      "text/html": [
       "<style type=\"text/css\">\n",
       "#T_ba7fa caption {\n",
       "  color: Brown;\n",
       "  font-size: 20px;\n",
       "  font-weight: bold;\n",
       "}\n",
       "#T_ba7fa_row0_col0 {\n",
       "  background-color: #e7e6f1;\n",
       "  color: #000000;\n",
       "}\n",
       "#T_ba7fa_row0_col2 {\n",
       "  background-color: #7e79b8;\n",
       "  color: #f1f1f1;\n",
       "}\n",
       "#T_ba7fa_row0_col5, #T_ba7fa_row0_col8, #T_ba7fa_row0_col10, #T_ba7fa_row0_col12, #T_ba7fa_row0_col20, #T_ba7fa_row1_col0, #T_ba7fa_row1_col8, #T_ba7fa_row1_col10, #T_ba7fa_row1_col22, #T_ba7fa_row2_col6, #T_ba7fa_row2_col7, #T_ba7fa_row2_col11, #T_ba7fa_row2_col12, #T_ba7fa_row2_col15, #T_ba7fa_row2_col19, #T_ba7fa_row2_col20, #T_ba7fa_row2_col23, #T_ba7fa_row3_col2, #T_ba7fa_row3_col8, #T_ba7fa_row3_col9, #T_ba7fa_row3_col17, #T_ba7fa_row3_col20, #T_ba7fa_row3_col21, #T_ba7fa_row4_col8, #T_ba7fa_row4_col10, #T_ba7fa_row4_col12, #T_ba7fa_row4_col20, #T_ba7fa_row4_col21 {\n",
       "  background-color: #fcfbfd;\n",
       "  color: #000000;\n",
       "}\n",
       "#T_ba7fa_row0_col6, #T_ba7fa_row3_col6 {\n",
       "  background-color: #ecebf4;\n",
       "  color: #000000;\n",
       "}\n",
       "#T_ba7fa_row0_col7 {\n",
       "  background-color: #52238d;\n",
       "  color: #f1f1f1;\n",
       "}\n",
       "#T_ba7fa_row0_col9, #T_ba7fa_row0_col11, #T_ba7fa_row0_col19, #T_ba7fa_row1_col6, #T_ba7fa_row1_col9, #T_ba7fa_row1_col12, #T_ba7fa_row1_col15, #T_ba7fa_row1_col20, #T_ba7fa_row1_col21, #T_ba7fa_row1_col23, #T_ba7fa_row2_col0, #T_ba7fa_row2_col8, #T_ba7fa_row2_col9, #T_ba7fa_row2_col10, #T_ba7fa_row2_col17, #T_ba7fa_row2_col22, #T_ba7fa_row3_col5, #T_ba7fa_row3_col7, #T_ba7fa_row3_col10, #T_ba7fa_row3_col12, #T_ba7fa_row4_col2, #T_ba7fa_row4_col9 {\n",
       "  background-color: #3f007d;\n",
       "  color: #f1f1f1;\n",
       "}\n",
       "#T_ba7fa_row0_col15 {\n",
       "  background-color: #b0afd4;\n",
       "  color: #000000;\n",
       "}\n",
       "#T_ba7fa_row0_col17, #T_ba7fa_row1_col17, #T_ba7fa_row4_col17 {\n",
       "  background-color: #9e9ac8;\n",
       "  color: #f1f1f1;\n",
       "}\n",
       "#T_ba7fa_row0_col21 {\n",
       "  background-color: #efedf5;\n",
       "  color: #000000;\n",
       "}\n",
       "#T_ba7fa_row0_col22 {\n",
       "  background-color: #d8d8ea;\n",
       "  color: #000000;\n",
       "}\n",
       "#T_ba7fa_row0_col23 {\n",
       "  background-color: #5c3696;\n",
       "  color: #f1f1f1;\n",
       "}\n",
       "#T_ba7fa_row1_col2 {\n",
       "  background-color: #7970b3;\n",
       "  color: #f1f1f1;\n",
       "}\n",
       "#T_ba7fa_row1_col5 {\n",
       "  background-color: #a29fcb;\n",
       "  color: #f1f1f1;\n",
       "}\n",
       "#T_ba7fa_row1_col7 {\n",
       "  background-color: #470f84;\n",
       "  color: #f1f1f1;\n",
       "}\n",
       "#T_ba7fa_row1_col11 {\n",
       "  background-color: #dcdcec;\n",
       "  color: #000000;\n",
       "}\n",
       "#T_ba7fa_row1_col19 {\n",
       "  background-color: #6b53a4;\n",
       "  color: #f1f1f1;\n",
       "}\n",
       "#T_ba7fa_row2_col2 {\n",
       "  background-color: #9490c3;\n",
       "  color: #f1f1f1;\n",
       "}\n",
       "#T_ba7fa_row2_col5 {\n",
       "  background-color: #eeecf5;\n",
       "  color: #000000;\n",
       "}\n",
       "#T_ba7fa_row2_col21 {\n",
       "  background-color: #dadaeb;\n",
       "  color: #000000;\n",
       "}\n",
       "#T_ba7fa_row3_col0 {\n",
       "  background-color: #acaad1;\n",
       "  color: #000000;\n",
       "}\n",
       "#T_ba7fa_row3_col11 {\n",
       "  background-color: #cecfe5;\n",
       "  color: #000000;\n",
       "}\n",
       "#T_ba7fa_row3_col15 {\n",
       "  background-color: #450b82;\n",
       "  color: #f1f1f1;\n",
       "}\n",
       "#T_ba7fa_row3_col19, #T_ba7fa_row4_col19 {\n",
       "  background-color: #6d57a6;\n",
       "  color: #f1f1f1;\n",
       "}\n",
       "#T_ba7fa_row3_col22 {\n",
       "  background-color: #ddddec;\n",
       "  color: #000000;\n",
       "}\n",
       "#T_ba7fa_row3_col23 {\n",
       "  background-color: #4e1c8a;\n",
       "  color: #f1f1f1;\n",
       "}\n",
       "#T_ba7fa_row4_col0 {\n",
       "  background-color: #f3f1f7;\n",
       "  color: #000000;\n",
       "}\n",
       "#T_ba7fa_row4_col5 {\n",
       "  background-color: #c1c2df;\n",
       "  color: #000000;\n",
       "}\n",
       "#T_ba7fa_row4_col6 {\n",
       "  background-color: #afaed4;\n",
       "  color: #000000;\n",
       "}\n",
       "#T_ba7fa_row4_col7 {\n",
       "  background-color: #7261ab;\n",
       "  color: #f1f1f1;\n",
       "}\n",
       "#T_ba7fa_row4_col11 {\n",
       "  background-color: #bebfdd;\n",
       "  color: #000000;\n",
       "}\n",
       "#T_ba7fa_row4_col15 {\n",
       "  background-color: #827fbb;\n",
       "  color: #f1f1f1;\n",
       "}\n",
       "#T_ba7fa_row4_col22 {\n",
       "  background-color: #dedeed;\n",
       "  color: #000000;\n",
       "}\n",
       "#T_ba7fa_row4_col23 {\n",
       "  background-color: #4d1a89;\n",
       "  color: #f1f1f1;\n",
       "}\n",
       "</style>\n",
       "<table id=\"T_ba7fa\">\n",
       "  <thead>\n",
       "    <tr>\n",
       "      <th class=\"blank level0\" >&nbsp;</th>\n",
       "      <th id=\"T_ba7fa_level0_col0\" class=\"col_heading level0 col0\" >CustomerId</th>\n",
       "      <th id=\"T_ba7fa_level0_col1\" class=\"col_heading level0 col1\" >Surname</th>\n",
       "      <th id=\"T_ba7fa_level0_col2\" class=\"col_heading level0 col2\" >CreditScore</th>\n",
       "      <th id=\"T_ba7fa_level0_col3\" class=\"col_heading level0 col3\" >Geography</th>\n",
       "      <th id=\"T_ba7fa_level0_col4\" class=\"col_heading level0 col4\" >Gender</th>\n",
       "      <th id=\"T_ba7fa_level0_col5\" class=\"col_heading level0 col5\" >Age</th>\n",
       "      <th id=\"T_ba7fa_level0_col6\" class=\"col_heading level0 col6\" >Tenure</th>\n",
       "      <th id=\"T_ba7fa_level0_col7\" class=\"col_heading level0 col7\" >Balance</th>\n",
       "      <th id=\"T_ba7fa_level0_col8\" class=\"col_heading level0 col8\" >NumOfProducts</th>\n",
       "      <th id=\"T_ba7fa_level0_col9\" class=\"col_heading level0 col9\" >HasCrCard</th>\n",
       "      <th id=\"T_ba7fa_level0_col10\" class=\"col_heading level0 col10\" >IsActiveMember</th>\n",
       "      <th id=\"T_ba7fa_level0_col11\" class=\"col_heading level0 col11\" >EstimatedSalary</th>\n",
       "      <th id=\"T_ba7fa_level0_col12\" class=\"col_heading level0 col12\" >Exited</th>\n",
       "      <th id=\"T_ba7fa_level0_col13\" class=\"col_heading level0 col13\" >Age_Category</th>\n",
       "      <th id=\"T_ba7fa_level0_col14\" class=\"col_heading level0 col14\" >Credit_Score_Range</th>\n",
       "      <th id=\"T_ba7fa_level0_col15\" class=\"col_heading level0 col15\" >Balance_Salary_Ratio</th>\n",
       "      <th id=\"T_ba7fa_level0_col16\" class=\"col_heading level0 col16\" >Geo_Gender</th>\n",
       "      <th id=\"T_ba7fa_level0_col17\" class=\"col_heading level0 col17\" >Total_Products_Used</th>\n",
       "      <th id=\"T_ba7fa_level0_col18\" class=\"col_heading level0 col18\" >Tp_Gender</th>\n",
       "      <th id=\"T_ba7fa_level0_col19\" class=\"col_heading level0 col19\" >Surname_tfidf_0</th>\n",
       "      <th id=\"T_ba7fa_level0_col20\" class=\"col_heading level0 col20\" >Surname_tfidf_1</th>\n",
       "      <th id=\"T_ba7fa_level0_col21\" class=\"col_heading level0 col21\" >Surname_tfidf_2</th>\n",
       "      <th id=\"T_ba7fa_level0_col22\" class=\"col_heading level0 col22\" >Surname_tfidf_3</th>\n",
       "      <th id=\"T_ba7fa_level0_col23\" class=\"col_heading level0 col23\" >Surname_tfidf_4</th>\n",
       "    </tr>\n",
       "  </thead>\n",
       "  <tbody>\n",
       "    <tr>\n",
       "      <th id=\"T_ba7fa_level0_row0\" class=\"row_heading level0 row0\" >0</th>\n",
       "      <td id=\"T_ba7fa_row0_col0\" class=\"data row0 col0\" >15624471</td>\n",
       "      <td id=\"T_ba7fa_row0_col1\" class=\"data row0 col1\" >Trevisani</td>\n",
       "      <td id=\"T_ba7fa_row0_col2\" class=\"data row0 col2\" >633</td>\n",
       "      <td id=\"T_ba7fa_row0_col3\" class=\"data row0 col3\" >Germany</td>\n",
       "      <td id=\"T_ba7fa_row0_col4\" class=\"data row0 col4\" >Male</td>\n",
       "      <td id=\"T_ba7fa_row0_col5\" class=\"data row0 col5\" >30.000000</td>\n",
       "      <td id=\"T_ba7fa_row0_col6\" class=\"data row0 col6\" >3</td>\n",
       "      <td id=\"T_ba7fa_row0_col7\" class=\"data row0 col7\" >131033.760000</td>\n",
       "      <td id=\"T_ba7fa_row0_col8\" class=\"data row0 col8\" >1</td>\n",
       "      <td id=\"T_ba7fa_row0_col9\" class=\"data row0 col9\" >1.000000</td>\n",
       "      <td id=\"T_ba7fa_row0_col10\" class=\"data row0 col10\" >0.000000</td>\n",
       "      <td id=\"T_ba7fa_row0_col11\" class=\"data row0 col11\" >179436.600000</td>\n",
       "      <td id=\"T_ba7fa_row0_col12\" class=\"data row0 col12\" >0</td>\n",
       "      <td id=\"T_ba7fa_row0_col13\" class=\"data row0 col13\" >18-30</td>\n",
       "      <td id=\"T_ba7fa_row0_col14\" class=\"data row0 col14\" >600-700</td>\n",
       "      <td id=\"T_ba7fa_row0_col15\" class=\"data row0 col15\" >0.730251</td>\n",
       "      <td id=\"T_ba7fa_row0_col16\" class=\"data row0 col16\" >Germany_Male</td>\n",
       "      <td id=\"T_ba7fa_row0_col17\" class=\"data row0 col17\" >2.000000</td>\n",
       "      <td id=\"T_ba7fa_row0_col18\" class=\"data row0 col18\" >2.0Male</td>\n",
       "      <td id=\"T_ba7fa_row0_col19\" class=\"data row0 col19\" >0.000467</td>\n",
       "      <td id=\"T_ba7fa_row0_col20\" class=\"data row0 col20\" >-0.000367</td>\n",
       "      <td id=\"T_ba7fa_row0_col21\" class=\"data row0 col21\" >0.001197</td>\n",
       "      <td id=\"T_ba7fa_row0_col22\" class=\"data row0 col22\" >0.000207</td>\n",
       "      <td id=\"T_ba7fa_row0_col23\" class=\"data row0 col23\" >-0.001950</td>\n",
       "    </tr>\n",
       "    <tr>\n",
       "      <th id=\"T_ba7fa_level0_row1\" class=\"row_heading level0 row1\" >1</th>\n",
       "      <td id=\"T_ba7fa_row1_col0\" class=\"data row1 col0\" >15586518</td>\n",
       "      <td id=\"T_ba7fa_row1_col1\" class=\"data row1 col1\" >Hsia</td>\n",
       "      <td id=\"T_ba7fa_row1_col2\" class=\"data row1 col2\" >637</td>\n",
       "      <td id=\"T_ba7fa_row1_col3\" class=\"data row1 col3\" >France</td>\n",
       "      <td id=\"T_ba7fa_row1_col4\" class=\"data row1 col4\" >Male</td>\n",
       "      <td id=\"T_ba7fa_row1_col5\" class=\"data row1 col5\" >45.000000</td>\n",
       "      <td id=\"T_ba7fa_row1_col6\" class=\"data row1 col6\" >9</td>\n",
       "      <td id=\"T_ba7fa_row1_col7\" class=\"data row1 col7\" >140700.610000</td>\n",
       "      <td id=\"T_ba7fa_row1_col8\" class=\"data row1 col8\" >1</td>\n",
       "      <td id=\"T_ba7fa_row1_col9\" class=\"data row1 col9\" >1.000000</td>\n",
       "      <td id=\"T_ba7fa_row1_col10\" class=\"data row1 col10\" >0.000000</td>\n",
       "      <td id=\"T_ba7fa_row1_col11\" class=\"data row1 col11\" >81478.510000</td>\n",
       "      <td id=\"T_ba7fa_row1_col12\" class=\"data row1 col12\" >1</td>\n",
       "      <td id=\"T_ba7fa_row1_col13\" class=\"data row1 col13\" >40-50</td>\n",
       "      <td id=\"T_ba7fa_row1_col14\" class=\"data row1 col14\" >600-700</td>\n",
       "      <td id=\"T_ba7fa_row1_col15\" class=\"data row1 col15\" >1.726843</td>\n",
       "      <td id=\"T_ba7fa_row1_col16\" class=\"data row1 col16\" >France_Male</td>\n",
       "      <td id=\"T_ba7fa_row1_col17\" class=\"data row1 col17\" >2.000000</td>\n",
       "      <td id=\"T_ba7fa_row1_col18\" class=\"data row1 col18\" >2.0Male</td>\n",
       "      <td id=\"T_ba7fa_row1_col19\" class=\"data row1 col19\" >0.000022</td>\n",
       "      <td id=\"T_ba7fa_row1_col20\" class=\"data row1 col20\" >0.999818</td>\n",
       "      <td id=\"T_ba7fa_row1_col21\" class=\"data row1 col21\" >0.009680</td>\n",
       "      <td id=\"T_ba7fa_row1_col22\" class=\"data row1 col22\" >-0.001318</td>\n",
       "      <td id=\"T_ba7fa_row1_col23\" class=\"data row1 col23\" >0.001945</td>\n",
       "    </tr>\n",
       "    <tr>\n",
       "      <th id=\"T_ba7fa_level0_row2\" class=\"row_heading level0 row2\" >2</th>\n",
       "      <td id=\"T_ba7fa_row2_col0\" class=\"data row2 col0\" >15803337</td>\n",
       "      <td id=\"T_ba7fa_row2_col1\" class=\"data row2 col1\" >Nwankwo</td>\n",
       "      <td id=\"T_ba7fa_row2_col2\" class=\"data row2 col2\" >619</td>\n",
       "      <td id=\"T_ba7fa_row2_col3\" class=\"data row2 col3\" >France</td>\n",
       "      <td id=\"T_ba7fa_row2_col4\" class=\"data row2 col4\" >Male</td>\n",
       "      <td id=\"T_ba7fa_row2_col5\" class=\"data row2 col5\" >34.000000</td>\n",
       "      <td id=\"T_ba7fa_row2_col6\" class=\"data row2 col6\" >2</td>\n",
       "      <td id=\"T_ba7fa_row2_col7\" class=\"data row2 col7\" >0.000000</td>\n",
       "      <td id=\"T_ba7fa_row2_col8\" class=\"data row2 col8\" >2</td>\n",
       "      <td id=\"T_ba7fa_row2_col9\" class=\"data row2 col9\" >1.000000</td>\n",
       "      <td id=\"T_ba7fa_row2_col10\" class=\"data row2 col10\" >1.000000</td>\n",
       "      <td id=\"T_ba7fa_row2_col11\" class=\"data row2 col11\" >50578.400000</td>\n",
       "      <td id=\"T_ba7fa_row2_col12\" class=\"data row2 col12\" >0</td>\n",
       "      <td id=\"T_ba7fa_row2_col13\" class=\"data row2 col13\" >30-40</td>\n",
       "      <td id=\"T_ba7fa_row2_col14\" class=\"data row2 col14\" >600-700</td>\n",
       "      <td id=\"T_ba7fa_row2_col15\" class=\"data row2 col15\" >0.000000</td>\n",
       "      <td id=\"T_ba7fa_row2_col16\" class=\"data row2 col16\" >France_Male</td>\n",
       "      <td id=\"T_ba7fa_row2_col17\" class=\"data row2 col17\" >3.000000</td>\n",
       "      <td id=\"T_ba7fa_row2_col18\" class=\"data row2 col18\" >3.0Male</td>\n",
       "      <td id=\"T_ba7fa_row2_col19\" class=\"data row2 col19\" >-0.001280</td>\n",
       "      <td id=\"T_ba7fa_row2_col20\" class=\"data row2 col20\" >0.001960</td>\n",
       "      <td id=\"T_ba7fa_row2_col21\" class=\"data row2 col21\" >0.002411</td>\n",
       "      <td id=\"T_ba7fa_row2_col22\" class=\"data row2 col22\" >0.004510</td>\n",
       "      <td id=\"T_ba7fa_row2_col23\" class=\"data row2 col23\" >-0.020747</td>\n",
       "    </tr>\n",
       "    <tr>\n",
       "      <th id=\"T_ba7fa_level0_row3\" class=\"row_heading level0 row3\" >3</th>\n",
       "      <td id=\"T_ba7fa_row3_col0\" class=\"data row3 col0\" >15682355</td>\n",
       "      <td id=\"T_ba7fa_row3_col1\" class=\"data row3 col1\" >Chukwufumnanya</td>\n",
       "      <td id=\"T_ba7fa_row3_col2\" class=\"data row3 col2\" >539</td>\n",
       "      <td id=\"T_ba7fa_row3_col3\" class=\"data row3 col3\" >Spain</td>\n",
       "      <td id=\"T_ba7fa_row3_col4\" class=\"data row3 col4\" >Female</td>\n",
       "      <td id=\"T_ba7fa_row3_col5\" class=\"data row3 col5\" >61.000000</td>\n",
       "      <td id=\"T_ba7fa_row3_col6\" class=\"data row3 col6\" >3</td>\n",
       "      <td id=\"T_ba7fa_row3_col7\" class=\"data row3 col7\" >147832.270000</td>\n",
       "      <td id=\"T_ba7fa_row3_col8\" class=\"data row3 col8\" >1</td>\n",
       "      <td id=\"T_ba7fa_row3_col9\" class=\"data row3 col9\" >0.000000</td>\n",
       "      <td id=\"T_ba7fa_row3_col10\" class=\"data row3 col10\" >1.000000</td>\n",
       "      <td id=\"T_ba7fa_row3_col11\" class=\"data row3 col11\" >88941.300000</td>\n",
       "      <td id=\"T_ba7fa_row3_col12\" class=\"data row3 col12\" >1</td>\n",
       "      <td id=\"T_ba7fa_row3_col13\" class=\"data row3 col13\" >60+</td>\n",
       "      <td id=\"T_ba7fa_row3_col14\" class=\"data row3 col14\" >300-600</td>\n",
       "      <td id=\"T_ba7fa_row3_col15\" class=\"data row3 col15\" >1.662133</td>\n",
       "      <td id=\"T_ba7fa_row3_col16\" class=\"data row3 col16\" >Spain_Female</td>\n",
       "      <td id=\"T_ba7fa_row3_col17\" class=\"data row3 col17\" >1.000000</td>\n",
       "      <td id=\"T_ba7fa_row3_col18\" class=\"data row3 col18\" >1.0Female</td>\n",
       "      <td id=\"T_ba7fa_row3_col19\" class=\"data row3 col19\" >0.000002</td>\n",
       "      <td id=\"T_ba7fa_row3_col20\" class=\"data row3 col20\" >-0.000014</td>\n",
       "      <td id=\"T_ba7fa_row3_col21\" class=\"data row3 col21\" >-0.000000</td>\n",
       "      <td id=\"T_ba7fa_row3_col22\" class=\"data row3 col22\" >0.000026</td>\n",
       "      <td id=\"T_ba7fa_row3_col23\" class=\"data row3 col23\" >-0.000110</td>\n",
       "    </tr>\n",
       "    <tr>\n",
       "      <th id=\"T_ba7fa_level0_row4\" class=\"row_heading level0 row4\" >4</th>\n",
       "      <td id=\"T_ba7fa_row4_col0\" class=\"data row4 col0\" >15605965</td>\n",
       "      <td id=\"T_ba7fa_row4_col1\" class=\"data row4 col1\" >Ulyanova</td>\n",
       "      <td id=\"T_ba7fa_row4_col2\" class=\"data row4 col2\" >687</td>\n",
       "      <td id=\"T_ba7fa_row4_col3\" class=\"data row4 col3\" >Germany</td>\n",
       "      <td id=\"T_ba7fa_row4_col4\" class=\"data row4 col4\" >Male</td>\n",
       "      <td id=\"T_ba7fa_row4_col5\" class=\"data row4 col5\" >41.000000</td>\n",
       "      <td id=\"T_ba7fa_row4_col6\" class=\"data row4 col6\" >5</td>\n",
       "      <td id=\"T_ba7fa_row4_col7\" class=\"data row4 col7\" >104016.820000</td>\n",
       "      <td id=\"T_ba7fa_row4_col8\" class=\"data row4 col8\" >1</td>\n",
       "      <td id=\"T_ba7fa_row4_col9\" class=\"data row4 col9\" >1.000000</td>\n",
       "      <td id=\"T_ba7fa_row4_col10\" class=\"data row4 col10\" >0.000000</td>\n",
       "      <td id=\"T_ba7fa_row4_col11\" class=\"data row4 col11\" >97623.210000</td>\n",
       "      <td id=\"T_ba7fa_row4_col12\" class=\"data row4 col12\" >0</td>\n",
       "      <td id=\"T_ba7fa_row4_col13\" class=\"data row4 col13\" >40-50</td>\n",
       "      <td id=\"T_ba7fa_row4_col14\" class=\"data row4 col14\" >600-700</td>\n",
       "      <td id=\"T_ba7fa_row4_col15\" class=\"data row4 col15\" >1.065493</td>\n",
       "      <td id=\"T_ba7fa_row4_col16\" class=\"data row4 col16\" >Germany_Male</td>\n",
       "      <td id=\"T_ba7fa_row4_col17\" class=\"data row4 col17\" >2.000000</td>\n",
       "      <td id=\"T_ba7fa_row4_col18\" class=\"data row4 col18\" >2.0Male</td>\n",
       "      <td id=\"T_ba7fa_row4_col19\" class=\"data row4 col19\" >-0.000000</td>\n",
       "      <td id=\"T_ba7fa_row4_col20\" class=\"data row4 col20\" >-0.000000</td>\n",
       "      <td id=\"T_ba7fa_row4_col21\" class=\"data row4 col21\" >-0.000000</td>\n",
       "      <td id=\"T_ba7fa_row4_col22\" class=\"data row4 col22\" >-0.000000</td>\n",
       "      <td id=\"T_ba7fa_row4_col23\" class=\"data row4 col23\" >0.000000</td>\n",
       "    </tr>\n",
       "  </tbody>\n",
       "</table>\n"
      ],
      "text/plain": [
       "<pandas.io.formats.style.Styler at 0x7ec799605ed0>"
      ]
     },
     "execution_count": 29,
     "metadata": {},
     "output_type": "execute_result"
    }
   ],
   "source": [
    "set_frame_style(df.head())"
   ]
  },
  {
   "cell_type": "markdown",
   "id": "b8fd67b9",
   "metadata": {
    "papermill": {
     "duration": 0.032126,
     "end_time": "2024-01-31T18:45:03.647407",
     "exception": false,
     "start_time": "2024-01-31T18:45:03.615281",
     "status": "completed"
    },
    "tags": []
   },
   "source": [
    "# <a id=\"4.1\"><center><font size = 4><span style=\"color:#F5F5E6\"> <p style=\"background-color:#005F5D;font-family:courier;color:#FFFFFF;font-size:200%;text-align:center;border-radius:5px 5px;padding : 2px\">Robust Scaler</p>   </span></font></center> \n",
    "> ###  It focuses only on the IQR for scaling unless specified/changed\n",
    "    "
   ]
  },
  {
   "cell_type": "markdown",
   "id": "36c67a2b",
   "metadata": {
    "papermill": {
     "duration": 0.033417,
     "end_time": "2024-01-31T18:45:03.713831",
     "exception": false,
     "start_time": "2024-01-31T18:45:03.680414",
     "status": "completed"
    },
    "tags": []
   },
   "source": [
    "# Robustscaler"
   ]
  },
  {
   "cell_type": "code",
   "execution_count": 30,
   "id": "44df9861",
   "metadata": {
    "execution": {
     "iopub.execute_input": "2024-01-31T18:45:03.781340Z",
     "iopub.status.busy": "2024-01-31T18:45:03.780921Z",
     "iopub.status.idle": "2024-01-31T18:45:03.831269Z",
     "shell.execute_reply": "2024-01-31T18:45:03.830000Z"
    },
    "papermill": {
     "duration": 0.087327,
     "end_time": "2024-01-31T18:45:03.834071",
     "exception": false,
     "start_time": "2024-01-31T18:45:03.746744",
     "status": "completed"
    },
    "tags": []
   },
   "outputs": [],
   "source": [
    "from sklearn.preprocessing import StandardScaler\n",
    "\n",
    "sc = StandardScaler()\n",
    "\n",
    "# Assuming train_to_scale and test_to_scale are your DataFrames\n",
    "scaled_train = pd.DataFrame(sc.fit_transform(train_to_scale), columns=train_to_scale.columns)\n",
    "scaled_test = pd.DataFrame(sc.transform(test_to_scale), columns=test_to_scale.columns)\n"
   ]
  },
  {
   "cell_type": "code",
   "execution_count": 31,
   "id": "ea97d062",
   "metadata": {
    "execution": {
     "iopub.execute_input": "2024-01-31T18:45:03.901765Z",
     "iopub.status.busy": "2024-01-31T18:45:03.901376Z",
     "iopub.status.idle": "2024-01-31T18:45:03.935696Z",
     "shell.execute_reply": "2024-01-31T18:45:03.934513Z"
    },
    "papermill": {
     "duration": 0.070927,
     "end_time": "2024-01-31T18:45:03.937981",
     "exception": false,
     "start_time": "2024-01-31T18:45:03.867054",
     "status": "completed"
    },
    "tags": []
   },
   "outputs": [
    {
     "data": {
      "text/html": [
       "<style type=\"text/css\">\n",
       "#T_ea67c caption {\n",
       "  color: Brown;\n",
       "  font-size: 20px;\n",
       "  font-weight: bold;\n",
       "}\n",
       "#T_ea67c_row0_col0 {\n",
       "  background-color: #328fbc;\n",
       "  color: #f1f1f1;\n",
       "}\n",
       "#T_ea67c_row0_col1, #T_ea67c_row0_col7, #T_ea67c_row1_col9, #T_ea67c_row2_col2, #T_ea67c_row2_col3, #T_ea67c_row2_col4, #T_ea67c_row2_col5, #T_ea67c_row2_col6, #T_ea67c_row2_col7, #T_ea67c_row2_col10, #T_ea67c_row3_col0, #T_ea67c_row3_col7, #T_ea67c_row3_col8, #T_ea67c_row4_col7, #T_ea67c_row4_col8 {\n",
       "  background-color: #fff7fb;\n",
       "  color: #000000;\n",
       "}\n",
       "#T_ea67c_row0_col2 {\n",
       "  background-color: #016956;\n",
       "  color: #f1f1f1;\n",
       "}\n",
       "#T_ea67c_row0_col3, #T_ea67c_row0_col6, #T_ea67c_row1_col4, #T_ea67c_row1_col5, #T_ea67c_row1_col7, #T_ea67c_row1_col8, #T_ea67c_row1_col10, #T_ea67c_row2_col9, #T_ea67c_row3_col1, #T_ea67c_row3_col2, #T_ea67c_row4_col0 {\n",
       "  background-color: #014636;\n",
       "  color: #f1f1f1;\n",
       "}\n",
       "#T_ea67c_row0_col4 {\n",
       "  background-color: #8eb5d6;\n",
       "  color: #000000;\n",
       "}\n",
       "#T_ea67c_row0_col5, #T_ea67c_row3_col5 {\n",
       "  background-color: #e8e0ef;\n",
       "  color: #000000;\n",
       "}\n",
       "#T_ea67c_row0_col8 {\n",
       "  background-color: #ede3f0;\n",
       "  color: #000000;\n",
       "}\n",
       "#T_ea67c_row0_col9 {\n",
       "  background-color: #cdd0e5;\n",
       "  color: #000000;\n",
       "}\n",
       "#T_ea67c_row0_col10 {\n",
       "  background-color: #01736a;\n",
       "  color: #f1f1f1;\n",
       "}\n",
       "#T_ea67c_row1_col0 {\n",
       "  background-color: #268bb0;\n",
       "  color: #f1f1f1;\n",
       "}\n",
       "#T_ea67c_row1_col1 {\n",
       "  background-color: #70acd1;\n",
       "  color: #f1f1f1;\n",
       "}\n",
       "#T_ea67c_row1_col2 {\n",
       "  background-color: #015443;\n",
       "  color: #f1f1f1;\n",
       "}\n",
       "#T_ea67c_row1_col3 {\n",
       "  background-color: #d2d2e7;\n",
       "  color: #000000;\n",
       "}\n",
       "#T_ea67c_row1_col6 {\n",
       "  background-color: #04828c;\n",
       "  color: #f1f1f1;\n",
       "}\n",
       "#T_ea67c_row2_col0 {\n",
       "  background-color: #57a1ca;\n",
       "  color: #f1f1f1;\n",
       "}\n",
       "#T_ea67c_row2_col1 {\n",
       "  background-color: #ebe1f0;\n",
       "  color: #000000;\n",
       "}\n",
       "#T_ea67c_row2_col8 {\n",
       "  background-color: #d1d1e6;\n",
       "  color: #000000;\n",
       "}\n",
       "#T_ea67c_row3_col3 {\n",
       "  background-color: #c0c9e2;\n",
       "  color: #000000;\n",
       "}\n",
       "#T_ea67c_row3_col4 {\n",
       "  background-color: #015140;\n",
       "  color: #f1f1f1;\n",
       "}\n",
       "#T_ea67c_row3_col6, #T_ea67c_row4_col6 {\n",
       "  background-color: #098391;\n",
       "  color: #f1f1f1;\n",
       "}\n",
       "#T_ea67c_row3_col9 {\n",
       "  background-color: #d4d4e7;\n",
       "  color: #000000;\n",
       "}\n",
       "#T_ea67c_row3_col10 {\n",
       "  background-color: #01614f;\n",
       "  color: #f1f1f1;\n",
       "}\n",
       "#T_ea67c_row4_col1 {\n",
       "  background-color: #adc1dd;\n",
       "  color: #000000;\n",
       "}\n",
       "#T_ea67c_row4_col2 {\n",
       "  background-color: #14869d;\n",
       "  color: #f1f1f1;\n",
       "}\n",
       "#T_ea67c_row4_col3 {\n",
       "  background-color: #a9bfdc;\n",
       "  color: #000000;\n",
       "}\n",
       "#T_ea67c_row4_col4 {\n",
       "  background-color: #3a92c1;\n",
       "  color: #f1f1f1;\n",
       "}\n",
       "#T_ea67c_row4_col5 {\n",
       "  background-color: #8cb5d6;\n",
       "  color: #000000;\n",
       "}\n",
       "#T_ea67c_row4_col9 {\n",
       "  background-color: #d6d5e8;\n",
       "  color: #000000;\n",
       "}\n",
       "#T_ea67c_row4_col10 {\n",
       "  background-color: #015f4d;\n",
       "  color: #f1f1f1;\n",
       "}\n",
       "</style>\n",
       "<table id=\"T_ea67c\">\n",
       "  <thead>\n",
       "    <tr>\n",
       "      <th class=\"blank level0\" >&nbsp;</th>\n",
       "      <th id=\"T_ea67c_level0_col0\" class=\"col_heading level0 col0\" >CreditScore</th>\n",
       "      <th id=\"T_ea67c_level0_col1\" class=\"col_heading level0 col1\" >Age</th>\n",
       "      <th id=\"T_ea67c_level0_col2\" class=\"col_heading level0 col2\" >Balance</th>\n",
       "      <th id=\"T_ea67c_level0_col3\" class=\"col_heading level0 col3\" >EstimatedSalary</th>\n",
       "      <th id=\"T_ea67c_level0_col4\" class=\"col_heading level0 col4\" >Balance_Salary_Ratio</th>\n",
       "      <th id=\"T_ea67c_level0_col5\" class=\"col_heading level0 col5\" >Tenure</th>\n",
       "      <th id=\"T_ea67c_level0_col6\" class=\"col_heading level0 col6\" >Surname_tfidf_0</th>\n",
       "      <th id=\"T_ea67c_level0_col7\" class=\"col_heading level0 col7\" >Surname_tfidf_1</th>\n",
       "      <th id=\"T_ea67c_level0_col8\" class=\"col_heading level0 col8\" >Surname_tfidf_2</th>\n",
       "      <th id=\"T_ea67c_level0_col9\" class=\"col_heading level0 col9\" >Surname_tfidf_3</th>\n",
       "      <th id=\"T_ea67c_level0_col10\" class=\"col_heading level0 col10\" >Surname_tfidf_4</th>\n",
       "    </tr>\n",
       "  </thead>\n",
       "  <tbody>\n",
       "    <tr>\n",
       "      <th id=\"T_ea67c_level0_row0\" class=\"row_heading level0 row0\" >0</th>\n",
       "      <td id=\"T_ea67c_row0_col0\" class=\"data row0 col0\" >-0.284857</td>\n",
       "      <td id=\"T_ea67c_row0_col1\" class=\"data row0 col1\" >-0.911004</td>\n",
       "      <td id=\"T_ea67c_row0_col2\" class=\"data row0 col2\" >1.180590</td>\n",
       "      <td id=\"T_ea67c_row0_col3\" class=\"data row0 col3\" >1.329810</td>\n",
       "      <td id=\"T_ea67c_row0_col4\" class=\"data row0 col4\" >-0.015886</td>\n",
       "      <td id=\"T_ea67c_row0_col5\" class=\"data row0 col5\" >-0.718550</td>\n",
       "      <td id=\"T_ea67c_row0_col6\" class=\"data row0 col6\" >-0.219500</td>\n",
       "      <td id=\"T_ea67c_row0_col7\" class=\"data row0 col7\" >-0.123400</td>\n",
       "      <td id=\"T_ea67c_row0_col8\" class=\"data row0 col8\" >0.079102</td>\n",
       "      <td id=\"T_ea67c_row0_col9\" class=\"data row0 col9\" >-0.138387</td>\n",
       "      <td id=\"T_ea67c_row0_col10\" class=\"data row0 col10\" >-0.037752</td>\n",
       "    </tr>\n",
       "    <tr>\n",
       "      <th id=\"T_ea67c_level0_row1\" class=\"row_heading level0 row1\" >1</th>\n",
       "      <td id=\"T_ea67c_row1_col0\" class=\"data row1 col0\" >-0.235565</td>\n",
       "      <td id=\"T_ea67c_row1_col1\" class=\"data row1 col1\" >0.761327</td>\n",
       "      <td id=\"T_ea67c_row1_col2\" class=\"data row1 col2\" >1.334075</td>\n",
       "      <td id=\"T_ea67c_row1_col3\" class=\"data row1 col3\" >-0.597928</td>\n",
       "      <td id=\"T_ea67c_row1_col4\" class=\"data row1 col4\" >-0.005132</td>\n",
       "      <td id=\"T_ea67c_row1_col5\" class=\"data row1 col5\" >1.415827</td>\n",
       "      <td id=\"T_ea67c_row1_col6\" class=\"data row1 col6\" >-0.222856</td>\n",
       "      <td id=\"T_ea67c_row1_col7\" class=\"data row1 col7\" >8.350583</td>\n",
       "      <td id=\"T_ea67c_row1_col8\" class=\"data row1 col8\" >0.150801</td>\n",
       "      <td id=\"T_ea67c_row1_col9\" class=\"data row1 col9\" >-0.152640</td>\n",
       "      <td id=\"T_ea67c_row1_col10\" class=\"data row1 col10\" >-0.000150</td>\n",
       "    </tr>\n",
       "    <tr>\n",
       "      <th id=\"T_ea67c_level0_row2\" class=\"row_heading level0 row2\" >2</th>\n",
       "      <td id=\"T_ea67c_row2_col0\" class=\"data row2 col0\" >-0.457378</td>\n",
       "      <td id=\"T_ea67c_row2_col1\" class=\"data row2 col1\" >-0.465049</td>\n",
       "      <td id=\"T_ea67c_row2_col2\" class=\"data row2 col2\" >-0.899905</td>\n",
       "      <td id=\"T_ea67c_row2_col3\" class=\"data row2 col3\" >-1.206018</td>\n",
       "      <td id=\"T_ea67c_row2_col4\" class=\"data row2 col4\" >-0.023765</td>\n",
       "      <td id=\"T_ea67c_row2_col5\" class=\"data row2 col5\" >-1.074279</td>\n",
       "      <td id=\"T_ea67c_row2_col6\" class=\"data row2 col6\" >-0.232669</td>\n",
       "      <td id=\"T_ea67c_row2_col7\" class=\"data row2 col7\" >-0.103687</td>\n",
       "      <td id=\"T_ea67c_row2_col8\" class=\"data row2 col8\" >0.089362</td>\n",
       "      <td id=\"T_ea67c_row2_col9\" class=\"data row2 col9\" >-0.098171</td>\n",
       "      <td id=\"T_ea67c_row2_col10\" class=\"data row2 col10\" >-0.219186</td>\n",
       "    </tr>\n",
       "    <tr>\n",
       "      <th id=\"T_ea67c_level0_row3\" class=\"row_heading level0 row3\" >3</th>\n",
       "      <td id=\"T_ea67c_row3_col0\" class=\"data row3 col0\" >-1.443215</td>\n",
       "      <td id=\"T_ea67c_row3_col1\" class=\"data row3 col1\" >2.545148</td>\n",
       "      <td id=\"T_ea67c_row3_col2\" class=\"data row3 col2\" >1.447309</td>\n",
       "      <td id=\"T_ea67c_row3_col3\" class=\"data row3 col3\" >-0.451066</td>\n",
       "      <td id=\"T_ea67c_row3_col4\" class=\"data row3 col4\" >-0.005830</td>\n",
       "      <td id=\"T_ea67c_row3_col5\" class=\"data row3 col5\" >-0.718550</td>\n",
       "      <td id=\"T_ea67c_row3_col6\" class=\"data row3 col6\" >-0.223007</td>\n",
       "      <td id=\"T_ea67c_row3_col7\" class=\"data row3 col7\" >-0.120411</td>\n",
       "      <td id=\"T_ea67c_row3_col8\" class=\"data row3 col8\" >0.068981</td>\n",
       "      <td id=\"T_ea67c_row3_col9\" class=\"data row3 col9\" >-0.140083</td>\n",
       "      <td id=\"T_ea67c_row3_col10\" class=\"data row3 col10\" >-0.019983</td>\n",
       "    </tr>\n",
       "    <tr>\n",
       "      <th id=\"T_ea67c_level0_row4\" class=\"row_heading level0 row4\" >4</th>\n",
       "      <td id=\"T_ea67c_row4_col0\" class=\"data row4 col0\" >0.380583</td>\n",
       "      <td id=\"T_ea67c_row4_col1\" class=\"data row4 col1\" >0.315372</td>\n",
       "      <td id=\"T_ea67c_row4_col2\" class=\"data row4 col2\" >0.751627</td>\n",
       "      <td id=\"T_ea67c_row4_col3\" class=\"data row4 col3\" >-0.280213</td>\n",
       "      <td id=\"T_ea67c_row4_col4\" class=\"data row4 col4\" >-0.012268</td>\n",
       "      <td id=\"T_ea67c_row4_col5\" class=\"data row4 col5\" >-0.007091</td>\n",
       "      <td id=\"T_ea67c_row4_col6\" class=\"data row4 col6\" >-0.223023</td>\n",
       "      <td id=\"T_ea67c_row4_col7\" class=\"data row4 col7\" >-0.120291</td>\n",
       "      <td id=\"T_ea67c_row4_col8\" class=\"data row4 col8\" >0.068982</td>\n",
       "      <td id=\"T_ea67c_row4_col9\" class=\"data row4 col9\" >-0.140323</td>\n",
       "      <td id=\"T_ea67c_row4_col10\" class=\"data row4 col10\" >-0.018925</td>\n",
       "    </tr>\n",
       "  </tbody>\n",
       "</table>\n"
      ],
      "text/plain": [
       "<pandas.io.formats.style.Styler at 0x7ec799604640>"
      ]
     },
     "execution_count": 31,
     "metadata": {},
     "output_type": "execute_result"
    }
   ],
   "source": [
    "set_frame_style(scaled_train.head())"
   ]
  },
  {
   "cell_type": "code",
   "execution_count": 32,
   "id": "f2116621",
   "metadata": {
    "execution": {
     "iopub.execute_input": "2024-01-31T18:45:04.007818Z",
     "iopub.status.busy": "2024-01-31T18:45:04.006879Z",
     "iopub.status.idle": "2024-01-31T18:45:04.072371Z",
     "shell.execute_reply": "2024-01-31T18:45:04.071314Z"
    },
    "papermill": {
     "duration": 0.10312,
     "end_time": "2024-01-31T18:45:04.074892",
     "exception": false,
     "start_time": "2024-01-31T18:45:03.971772",
     "status": "completed"
    },
    "tags": []
   },
   "outputs": [
    {
     "data": {
      "text/html": [
       "<style type=\"text/css\">\n",
       "#T_23235 caption {\n",
       "  color: Brown;\n",
       "  font-size: 20px;\n",
       "  font-weight: bold;\n",
       "}\n",
       "#T_23235_row0_col2, #T_23235_row0_col4, #T_23235_row1_col2, #T_23235_row1_col4, #T_23235_row3_col2, #T_23235_row3_col3, #T_23235_row3_col8, #T_23235_row4_col2, #T_23235_row4_col4 {\n",
       "  background-color: #f7fcf5;\n",
       "  color: #000000;\n",
       "}\n",
       "#T_23235_row0_col3, #T_23235_row1_col3, #T_23235_row2_col2, #T_23235_row2_col3, #T_23235_row2_col4, #T_23235_row2_col8, #T_23235_row3_col4, #T_23235_row4_col3 {\n",
       "  background-color: #00441b;\n",
       "  color: #f1f1f1;\n",
       "}\n",
       "#T_23235_row0_col8, #T_23235_row1_col8, #T_23235_row4_col8 {\n",
       "  background-color: #73c476;\n",
       "  color: #000000;\n",
       "}\n",
       "</style>\n",
       "<table id=\"T_23235\">\n",
       "  <thead>\n",
       "    <tr>\n",
       "      <th class=\"blank level0\" >&nbsp;</th>\n",
       "      <th id=\"T_23235_level0_col0\" class=\"col_heading level0 col0\" >Geography</th>\n",
       "      <th id=\"T_23235_level0_col1\" class=\"col_heading level0 col1\" >Gender</th>\n",
       "      <th id=\"T_23235_level0_col2\" class=\"col_heading level0 col2\" >NumOfProducts</th>\n",
       "      <th id=\"T_23235_level0_col3\" class=\"col_heading level0 col3\" >HasCrCard</th>\n",
       "      <th id=\"T_23235_level0_col4\" class=\"col_heading level0 col4\" >IsActiveMember</th>\n",
       "      <th id=\"T_23235_level0_col5\" class=\"col_heading level0 col5\" >Age_Category</th>\n",
       "      <th id=\"T_23235_level0_col6\" class=\"col_heading level0 col6\" >Credit_Score_Range</th>\n",
       "      <th id=\"T_23235_level0_col7\" class=\"col_heading level0 col7\" >Geo_Gender</th>\n",
       "      <th id=\"T_23235_level0_col8\" class=\"col_heading level0 col8\" >Total_Products_Used</th>\n",
       "      <th id=\"T_23235_level0_col9\" class=\"col_heading level0 col9\" >Tp_Gender</th>\n",
       "    </tr>\n",
       "  </thead>\n",
       "  <tbody>\n",
       "    <tr>\n",
       "      <th id=\"T_23235_level0_row0\" class=\"row_heading level0 row0\" >0</th>\n",
       "      <td id=\"T_23235_row0_col0\" class=\"data row0 col0\" >Germany</td>\n",
       "      <td id=\"T_23235_row0_col1\" class=\"data row0 col1\" >Male</td>\n",
       "      <td id=\"T_23235_row0_col2\" class=\"data row0 col2\" >1</td>\n",
       "      <td id=\"T_23235_row0_col3\" class=\"data row0 col3\" >1.000000</td>\n",
       "      <td id=\"T_23235_row0_col4\" class=\"data row0 col4\" >0.000000</td>\n",
       "      <td id=\"T_23235_row0_col5\" class=\"data row0 col5\" >18-30</td>\n",
       "      <td id=\"T_23235_row0_col6\" class=\"data row0 col6\" >600-700</td>\n",
       "      <td id=\"T_23235_row0_col7\" class=\"data row0 col7\" >Germany_Male</td>\n",
       "      <td id=\"T_23235_row0_col8\" class=\"data row0 col8\" >2.000000</td>\n",
       "      <td id=\"T_23235_row0_col9\" class=\"data row0 col9\" >2.0Male</td>\n",
       "    </tr>\n",
       "    <tr>\n",
       "      <th id=\"T_23235_level0_row1\" class=\"row_heading level0 row1\" >1</th>\n",
       "      <td id=\"T_23235_row1_col0\" class=\"data row1 col0\" >France</td>\n",
       "      <td id=\"T_23235_row1_col1\" class=\"data row1 col1\" >Male</td>\n",
       "      <td id=\"T_23235_row1_col2\" class=\"data row1 col2\" >1</td>\n",
       "      <td id=\"T_23235_row1_col3\" class=\"data row1 col3\" >1.000000</td>\n",
       "      <td id=\"T_23235_row1_col4\" class=\"data row1 col4\" >0.000000</td>\n",
       "      <td id=\"T_23235_row1_col5\" class=\"data row1 col5\" >40-50</td>\n",
       "      <td id=\"T_23235_row1_col6\" class=\"data row1 col6\" >600-700</td>\n",
       "      <td id=\"T_23235_row1_col7\" class=\"data row1 col7\" >France_Male</td>\n",
       "      <td id=\"T_23235_row1_col8\" class=\"data row1 col8\" >2.000000</td>\n",
       "      <td id=\"T_23235_row1_col9\" class=\"data row1 col9\" >2.0Male</td>\n",
       "    </tr>\n",
       "    <tr>\n",
       "      <th id=\"T_23235_level0_row2\" class=\"row_heading level0 row2\" >2</th>\n",
       "      <td id=\"T_23235_row2_col0\" class=\"data row2 col0\" >France</td>\n",
       "      <td id=\"T_23235_row2_col1\" class=\"data row2 col1\" >Male</td>\n",
       "      <td id=\"T_23235_row2_col2\" class=\"data row2 col2\" >2</td>\n",
       "      <td id=\"T_23235_row2_col3\" class=\"data row2 col3\" >1.000000</td>\n",
       "      <td id=\"T_23235_row2_col4\" class=\"data row2 col4\" >1.000000</td>\n",
       "      <td id=\"T_23235_row2_col5\" class=\"data row2 col5\" >30-40</td>\n",
       "      <td id=\"T_23235_row2_col6\" class=\"data row2 col6\" >600-700</td>\n",
       "      <td id=\"T_23235_row2_col7\" class=\"data row2 col7\" >France_Male</td>\n",
       "      <td id=\"T_23235_row2_col8\" class=\"data row2 col8\" >3.000000</td>\n",
       "      <td id=\"T_23235_row2_col9\" class=\"data row2 col9\" >3.0Male</td>\n",
       "    </tr>\n",
       "    <tr>\n",
       "      <th id=\"T_23235_level0_row3\" class=\"row_heading level0 row3\" >3</th>\n",
       "      <td id=\"T_23235_row3_col0\" class=\"data row3 col0\" >Spain</td>\n",
       "      <td id=\"T_23235_row3_col1\" class=\"data row3 col1\" >Female</td>\n",
       "      <td id=\"T_23235_row3_col2\" class=\"data row3 col2\" >1</td>\n",
       "      <td id=\"T_23235_row3_col3\" class=\"data row3 col3\" >0.000000</td>\n",
       "      <td id=\"T_23235_row3_col4\" class=\"data row3 col4\" >1.000000</td>\n",
       "      <td id=\"T_23235_row3_col5\" class=\"data row3 col5\" >60+</td>\n",
       "      <td id=\"T_23235_row3_col6\" class=\"data row3 col6\" >300-600</td>\n",
       "      <td id=\"T_23235_row3_col7\" class=\"data row3 col7\" >Spain_Female</td>\n",
       "      <td id=\"T_23235_row3_col8\" class=\"data row3 col8\" >1.000000</td>\n",
       "      <td id=\"T_23235_row3_col9\" class=\"data row3 col9\" >1.0Female</td>\n",
       "    </tr>\n",
       "    <tr>\n",
       "      <th id=\"T_23235_level0_row4\" class=\"row_heading level0 row4\" >4</th>\n",
       "      <td id=\"T_23235_row4_col0\" class=\"data row4 col0\" >Germany</td>\n",
       "      <td id=\"T_23235_row4_col1\" class=\"data row4 col1\" >Male</td>\n",
       "      <td id=\"T_23235_row4_col2\" class=\"data row4 col2\" >1</td>\n",
       "      <td id=\"T_23235_row4_col3\" class=\"data row4 col3\" >1.000000</td>\n",
       "      <td id=\"T_23235_row4_col4\" class=\"data row4 col4\" >0.000000</td>\n",
       "      <td id=\"T_23235_row4_col5\" class=\"data row4 col5\" >40-50</td>\n",
       "      <td id=\"T_23235_row4_col6\" class=\"data row4 col6\" >600-700</td>\n",
       "      <td id=\"T_23235_row4_col7\" class=\"data row4 col7\" >Germany_Male</td>\n",
       "      <td id=\"T_23235_row4_col8\" class=\"data row4 col8\" >2.000000</td>\n",
       "      <td id=\"T_23235_row4_col9\" class=\"data row4 col9\" >2.0Male</td>\n",
       "    </tr>\n",
       "  </tbody>\n",
       "</table>\n"
      ],
      "text/plain": [
       "<pandas.io.formats.style.Styler at 0x7ec799604ac0>"
      ]
     },
     "execution_count": 32,
     "metadata": {},
     "output_type": "execute_result"
    }
   ],
   "source": [
    "train_ohe = df.drop(numeric_cols, axis =1)\n",
    "train_to_ohe = train_ohe.drop(['CustomerId','Exited','Surname'], axis =1)\n",
    "test_ohe = test_df.drop(numeric_cols, axis =1)\n",
    "test_to_ohe = test_ohe.drop(['id','CustomerId','Surname'],axis =1)\n",
    "set_frame_style(train_to_ohe.head())"
   ]
  },
  {
   "cell_type": "code",
   "execution_count": 33,
   "id": "83883944",
   "metadata": {
    "execution": {
     "iopub.execute_input": "2024-01-31T18:45:04.144350Z",
     "iopub.status.busy": "2024-01-31T18:45:04.143662Z",
     "iopub.status.idle": "2024-01-31T18:45:04.166435Z",
     "shell.execute_reply": "2024-01-31T18:45:04.165499Z"
    },
    "papermill": {
     "duration": 0.059615,
     "end_time": "2024-01-31T18:45:04.168681",
     "exception": false,
     "start_time": "2024-01-31T18:45:04.109066",
     "status": "completed"
    },
    "tags": []
   },
   "outputs": [
    {
     "data": {
      "text/html": [
       "<style type=\"text/css\">\n",
       "#T_09b6c caption {\n",
       "  color: Brown;\n",
       "  font-size: 20px;\n",
       "  font-weight: bold;\n",
       "}\n",
       "#T_09b6c_row0_col2, #T_09b6c_row0_col4, #T_09b6c_row1_col3, #T_09b6c_row2_col2, #T_09b6c_row2_col3, #T_09b6c_row2_col8, #T_09b6c_row3_col3, #T_09b6c_row4_col3 {\n",
       "  background-color: #081d58;\n",
       "  color: #f1f1f1;\n",
       "}\n",
       "#T_09b6c_row0_col3, #T_09b6c_row0_col8, #T_09b6c_row1_col2, #T_09b6c_row1_col4, #T_09b6c_row1_col8, #T_09b6c_row2_col4, #T_09b6c_row3_col2, #T_09b6c_row3_col4, #T_09b6c_row3_col8, #T_09b6c_row4_col2, #T_09b6c_row4_col4, #T_09b6c_row4_col8 {\n",
       "  background-color: #ffffd9;\n",
       "  color: #000000;\n",
       "}\n",
       "</style>\n",
       "<table id=\"T_09b6c\">\n",
       "  <thead>\n",
       "    <tr>\n",
       "      <th class=\"blank level0\" >&nbsp;</th>\n",
       "      <th id=\"T_09b6c_level0_col0\" class=\"col_heading level0 col0\" >Geography</th>\n",
       "      <th id=\"T_09b6c_level0_col1\" class=\"col_heading level0 col1\" >Gender</th>\n",
       "      <th id=\"T_09b6c_level0_col2\" class=\"col_heading level0 col2\" >NumOfProducts</th>\n",
       "      <th id=\"T_09b6c_level0_col3\" class=\"col_heading level0 col3\" >HasCrCard</th>\n",
       "      <th id=\"T_09b6c_level0_col4\" class=\"col_heading level0 col4\" >IsActiveMember</th>\n",
       "      <th id=\"T_09b6c_level0_col5\" class=\"col_heading level0 col5\" >Age_Category</th>\n",
       "      <th id=\"T_09b6c_level0_col6\" class=\"col_heading level0 col6\" >Credit_Score_Range</th>\n",
       "      <th id=\"T_09b6c_level0_col7\" class=\"col_heading level0 col7\" >Geo_Gender</th>\n",
       "      <th id=\"T_09b6c_level0_col8\" class=\"col_heading level0 col8\" >Total_Products_Used</th>\n",
       "      <th id=\"T_09b6c_level0_col9\" class=\"col_heading level0 col9\" >Tp_Gender</th>\n",
       "    </tr>\n",
       "  </thead>\n",
       "  <tbody>\n",
       "    <tr>\n",
       "      <th id=\"T_09b6c_level0_row0\" class=\"row_heading level0 row0\" >0</th>\n",
       "      <td id=\"T_09b6c_row0_col0\" class=\"data row0 col0\" >France</td>\n",
       "      <td id=\"T_09b6c_row0_col1\" class=\"data row0 col1\" >Female</td>\n",
       "      <td id=\"T_09b6c_row0_col2\" class=\"data row0 col2\" >2</td>\n",
       "      <td id=\"T_09b6c_row0_col3\" class=\"data row0 col3\" >0.000000</td>\n",
       "      <td id=\"T_09b6c_row0_col4\" class=\"data row0 col4\" >1.000000</td>\n",
       "      <td id=\"T_09b6c_row0_col5\" class=\"data row0 col5\" >18-30</td>\n",
       "      <td id=\"T_09b6c_row0_col6\" class=\"data row0 col6\" >300-600</td>\n",
       "      <td id=\"T_09b6c_row0_col7\" class=\"data row0 col7\" >France_Female</td>\n",
       "      <td id=\"T_09b6c_row0_col8\" class=\"data row0 col8\" >2.000000</td>\n",
       "      <td id=\"T_09b6c_row0_col9\" class=\"data row0 col9\" >2.0Female</td>\n",
       "    </tr>\n",
       "    <tr>\n",
       "      <th id=\"T_09b6c_level0_row1\" class=\"row_heading level0 row1\" >1</th>\n",
       "      <td id=\"T_09b6c_row1_col0\" class=\"data row1 col0\" >France</td>\n",
       "      <td id=\"T_09b6c_row1_col1\" class=\"data row1 col1\" >Female</td>\n",
       "      <td id=\"T_09b6c_row1_col2\" class=\"data row1 col2\" >1</td>\n",
       "      <td id=\"T_09b6c_row1_col3\" class=\"data row1 col3\" >1.000000</td>\n",
       "      <td id=\"T_09b6c_row1_col4\" class=\"data row1 col4\" >0.000000</td>\n",
       "      <td id=\"T_09b6c_row1_col5\" class=\"data row1 col5\" >40-50</td>\n",
       "      <td id=\"T_09b6c_row1_col6\" class=\"data row1 col6\" >600-700</td>\n",
       "      <td id=\"T_09b6c_row1_col7\" class=\"data row1 col7\" >France_Female</td>\n",
       "      <td id=\"T_09b6c_row1_col8\" class=\"data row1 col8\" >2.000000</td>\n",
       "      <td id=\"T_09b6c_row1_col9\" class=\"data row1 col9\" >2.0Female</td>\n",
       "    </tr>\n",
       "    <tr>\n",
       "      <th id=\"T_09b6c_level0_row2\" class=\"row_heading level0 row2\" >2</th>\n",
       "      <td id=\"T_09b6c_row2_col0\" class=\"data row2 col0\" >France</td>\n",
       "      <td id=\"T_09b6c_row2_col1\" class=\"data row2 col1\" >Female</td>\n",
       "      <td id=\"T_09b6c_row2_col2\" class=\"data row2 col2\" >2</td>\n",
       "      <td id=\"T_09b6c_row2_col3\" class=\"data row2 col3\" >1.000000</td>\n",
       "      <td id=\"T_09b6c_row2_col4\" class=\"data row2 col4\" >0.000000</td>\n",
       "      <td id=\"T_09b6c_row2_col5\" class=\"data row2 col5\" >30-40</td>\n",
       "      <td id=\"T_09b6c_row2_col6\" class=\"data row2 col6\" >600-700</td>\n",
       "      <td id=\"T_09b6c_row2_col7\" class=\"data row2 col7\" >France_Female</td>\n",
       "      <td id=\"T_09b6c_row2_col8\" class=\"data row2 col8\" >3.000000</td>\n",
       "      <td id=\"T_09b6c_row2_col9\" class=\"data row2 col9\" >3.0Female</td>\n",
       "    </tr>\n",
       "    <tr>\n",
       "      <th id=\"T_09b6c_level0_row3\" class=\"row_heading level0 row3\" >3</th>\n",
       "      <td id=\"T_09b6c_row3_col0\" class=\"data row3 col0\" >France</td>\n",
       "      <td id=\"T_09b6c_row3_col1\" class=\"data row3 col1\" >Male</td>\n",
       "      <td id=\"T_09b6c_row3_col2\" class=\"data row3 col2\" >1</td>\n",
       "      <td id=\"T_09b6c_row3_col3\" class=\"data row3 col3\" >1.000000</td>\n",
       "      <td id=\"T_09b6c_row3_col4\" class=\"data row3 col4\" >0.000000</td>\n",
       "      <td id=\"T_09b6c_row3_col5\" class=\"data row3 col5\" >30-40</td>\n",
       "      <td id=\"T_09b6c_row3_col6\" class=\"data row3 col6\" >600-700</td>\n",
       "      <td id=\"T_09b6c_row3_col7\" class=\"data row3 col7\" >France_Male</td>\n",
       "      <td id=\"T_09b6c_row3_col8\" class=\"data row3 col8\" >2.000000</td>\n",
       "      <td id=\"T_09b6c_row3_col9\" class=\"data row3 col9\" >2.0Male</td>\n",
       "    </tr>\n",
       "    <tr>\n",
       "      <th id=\"T_09b6c_level0_row4\" class=\"row_heading level0 row4\" >4</th>\n",
       "      <td id=\"T_09b6c_row4_col0\" class=\"data row4 col0\" >Germany</td>\n",
       "      <td id=\"T_09b6c_row4_col1\" class=\"data row4 col1\" >Male</td>\n",
       "      <td id=\"T_09b6c_row4_col2\" class=\"data row4 col2\" >1</td>\n",
       "      <td id=\"T_09b6c_row4_col3\" class=\"data row4 col3\" >1.000000</td>\n",
       "      <td id=\"T_09b6c_row4_col4\" class=\"data row4 col4\" >0.000000</td>\n",
       "      <td id=\"T_09b6c_row4_col5\" class=\"data row4 col5\" >30-40</td>\n",
       "      <td id=\"T_09b6c_row4_col6\" class=\"data row4 col6\" >700-800</td>\n",
       "      <td id=\"T_09b6c_row4_col7\" class=\"data row4 col7\" >Germany_Male</td>\n",
       "      <td id=\"T_09b6c_row4_col8\" class=\"data row4 col8\" >2.000000</td>\n",
       "      <td id=\"T_09b6c_row4_col9\" class=\"data row4 col9\" >2.0Male</td>\n",
       "    </tr>\n",
       "  </tbody>\n",
       "</table>\n"
      ],
      "text/plain": [
       "<pandas.io.formats.style.Styler at 0x7ec799606b60>"
      ]
     },
     "execution_count": 33,
     "metadata": {},
     "output_type": "execute_result"
    }
   ],
   "source": [
    "set_frame_style(test_to_ohe.head())"
   ]
  },
  {
   "cell_type": "code",
   "execution_count": 34,
   "id": "dd726fae",
   "metadata": {
    "execution": {
     "iopub.execute_input": "2024-01-31T18:45:04.243020Z",
     "iopub.status.busy": "2024-01-31T18:45:04.241984Z",
     "iopub.status.idle": "2024-01-31T18:45:04.316492Z",
     "shell.execute_reply": "2024-01-31T18:45:04.315410Z"
    },
    "papermill": {
     "duration": 0.112225,
     "end_time": "2024-01-31T18:45:04.319258",
     "exception": false,
     "start_time": "2024-01-31T18:45:04.207033",
     "status": "completed"
    },
    "tags": []
   },
   "outputs": [
    {
     "name": "stdout",
     "output_type": "stream",
     "text": [
      "<class 'pandas.core.frame.DataFrame'>\n",
      "RangeIndex: 110023 entries, 0 to 110022\n",
      "Data columns (total 24 columns):\n",
      " #   Column                Non-Null Count   Dtype   \n",
      "---  ------                --------------   -----   \n",
      " 0   id                    110023 non-null  int64   \n",
      " 1   CustomerId            110023 non-null  int64   \n",
      " 2   Surname               110023 non-null  object  \n",
      " 3   CreditScore           110023 non-null  int64   \n",
      " 4   Geography             110023 non-null  object  \n",
      " 5   Gender                110023 non-null  object  \n",
      " 6   Age                   110023 non-null  float64 \n",
      " 7   Tenure                110023 non-null  int64   \n",
      " 8   Balance               110023 non-null  float64 \n",
      " 9   NumOfProducts         110023 non-null  int64   \n",
      " 10  HasCrCard             110023 non-null  float64 \n",
      " 11  IsActiveMember        110023 non-null  float64 \n",
      " 12  EstimatedSalary       110023 non-null  float64 \n",
      " 13  Age_Category          109921 non-null  category\n",
      " 14  Credit_Score_Range    110023 non-null  category\n",
      " 15  Balance_Salary_Ratio  110023 non-null  float64 \n",
      " 16  Geo_Gender            110023 non-null  object  \n",
      " 17  Total_Products_Used   110023 non-null  float64 \n",
      " 18  Tp_Gender             110023 non-null  object  \n",
      " 19  Surname_tfidf_0       110023 non-null  float64 \n",
      " 20  Surname_tfidf_1       110023 non-null  float64 \n",
      " 21  Surname_tfidf_2       110023 non-null  float64 \n",
      " 22  Surname_tfidf_3       110023 non-null  float64 \n",
      " 23  Surname_tfidf_4       110023 non-null  float64 \n",
      "dtypes: category(2), float64(12), int64(5), object(5)\n",
      "memory usage: 18.7+ MB\n"
     ]
    }
   ],
   "source": [
    "test_df.info()"
   ]
  },
  {
   "cell_type": "markdown",
   "id": "fdc53afa",
   "metadata": {
    "papermill": {
     "duration": 0.042457,
     "end_time": "2024-01-31T18:45:04.400506",
     "exception": false,
     "start_time": "2024-01-31T18:45:04.358049",
     "status": "completed"
    },
    "tags": []
   },
   "source": [
    "## <a id=\"4.2\"><center><font size = 4><span style=\"color:#F5F5E6\"> <p style=\"background-color:#005F5D;font-family:courier;color:#FFFFFF;font-size:200%;text-align:center;border-radius:5px 5px;padding : 2px\">One-hot encoding the categorical columns</p>   </span></font></center> "
   ]
  },
  {
   "cell_type": "markdown",
   "id": "732dbeb2",
   "metadata": {
    "papermill": {
     "duration": 0.032973,
     "end_time": "2024-01-31T18:45:04.470746",
     "exception": false,
     "start_time": "2024-01-31T18:45:04.437773",
     "status": "completed"
    },
    "tags": []
   },
   "source": [
    "# One-hot Encoding"
   ]
  },
  {
   "cell_type": "code",
   "execution_count": 35,
   "id": "27911d24",
   "metadata": {
    "execution": {
     "iopub.execute_input": "2024-01-31T18:45:04.539832Z",
     "iopub.status.busy": "2024-01-31T18:45:04.539414Z",
     "iopub.status.idle": "2024-01-31T18:45:13.140303Z",
     "shell.execute_reply": "2024-01-31T18:45:13.139247Z"
    },
    "papermill": {
     "duration": 8.638823,
     "end_time": "2024-01-31T18:45:13.142771",
     "exception": false,
     "start_time": "2024-01-31T18:45:04.503948",
     "status": "completed"
    },
    "tags": []
   },
   "outputs": [
    {
     "data": {
      "text/html": [
       "<style type=\"text/css\">\n",
       "#T_24a8d caption {\n",
       "  color: Brown;\n",
       "  font-size: 20px;\n",
       "  font-weight: bold;\n",
       "}\n",
       "#T_24a8d_row0_col0, #T_24a8d_row0_col2, #T_24a8d_row0_col3, #T_24a8d_row0_col6, #T_24a8d_row0_col7, #T_24a8d_row0_col8, #T_24a8d_row0_col9, #T_24a8d_row0_col12, #T_24a8d_row0_col14, #T_24a8d_row0_col15, #T_24a8d_row0_col16, #T_24a8d_row0_col17, #T_24a8d_row0_col18, #T_24a8d_row0_col19, #T_24a8d_row0_col21, #T_24a8d_row0_col22, #T_24a8d_row0_col23, #T_24a8d_row0_col24, #T_24a8d_row0_col25, #T_24a8d_row0_col27, #T_24a8d_row0_col28, #T_24a8d_row0_col29, #T_24a8d_row0_col31, #T_24a8d_row0_col32, #T_24a8d_row0_col33, #T_24a8d_row0_col34, #T_24a8d_row0_col35, #T_24a8d_row0_col36, #T_24a8d_row0_col38, #T_24a8d_row0_col39, #T_24a8d_row0_col40, #T_24a8d_row0_col41, #T_24a8d_row0_col42, #T_24a8d_row0_col43, #T_24a8d_row1_col1, #T_24a8d_row1_col2, #T_24a8d_row1_col3, #T_24a8d_row1_col6, #T_24a8d_row1_col7, #T_24a8d_row1_col8, #T_24a8d_row1_col9, #T_24a8d_row1_col12, #T_24a8d_row1_col13, #T_24a8d_row1_col14, #T_24a8d_row1_col16, #T_24a8d_row1_col17, #T_24a8d_row1_col18, #T_24a8d_row1_col19, #T_24a8d_row1_col21, #T_24a8d_row1_col22, #T_24a8d_row1_col23, #T_24a8d_row1_col25, #T_24a8d_row1_col26, #T_24a8d_row1_col27, #T_24a8d_row1_col28, #T_24a8d_row1_col29, #T_24a8d_row1_col31, #T_24a8d_row1_col32, #T_24a8d_row1_col33, #T_24a8d_row1_col34, #T_24a8d_row1_col35, #T_24a8d_row1_col36, #T_24a8d_row1_col38, #T_24a8d_row1_col39, #T_24a8d_row1_col40, #T_24a8d_row1_col41, #T_24a8d_row1_col42, #T_24a8d_row1_col43, #T_24a8d_row2_col1, #T_24a8d_row2_col2, #T_24a8d_row2_col3, #T_24a8d_row2_col5, #T_24a8d_row2_col7, #T_24a8d_row2_col8, #T_24a8d_row2_col9, #T_24a8d_row2_col11, #T_24a8d_row2_col13, #T_24a8d_row2_col15, #T_24a8d_row2_col16, #T_24a8d_row2_col17, #T_24a8d_row2_col18, #T_24a8d_row2_col19, #T_24a8d_row2_col21, #T_24a8d_row2_col22, #T_24a8d_row2_col23, #T_24a8d_row2_col25, #T_24a8d_row2_col26, #T_24a8d_row2_col27, #T_24a8d_row2_col28, #T_24a8d_row2_col29, #T_24a8d_row2_col30, #T_24a8d_row2_col32, #T_24a8d_row2_col33, #T_24a8d_row2_col34, #T_24a8d_row2_col35, #T_24a8d_row2_col36, #T_24a8d_row2_col37, #T_24a8d_row2_col38, #T_24a8d_row2_col40, #T_24a8d_row2_col41, #T_24a8d_row2_col42, #T_24a8d_row2_col43, #T_24a8d_row3_col0, #T_24a8d_row3_col1, #T_24a8d_row3_col4, #T_24a8d_row3_col6, #T_24a8d_row3_col7, #T_24a8d_row3_col8, #T_24a8d_row3_col10, #T_24a8d_row3_col11, #T_24a8d_row3_col13, #T_24a8d_row3_col14, #T_24a8d_row3_col15, #T_24a8d_row3_col16, #T_24a8d_row3_col18, #T_24a8d_row3_col20, #T_24a8d_row3_col21, #T_24a8d_row3_col22, #T_24a8d_row3_col23, #T_24a8d_row3_col24, #T_24a8d_row3_col25, #T_24a8d_row3_col26, #T_24a8d_row3_col28, #T_24a8d_row3_col30, #T_24a8d_row3_col31, #T_24a8d_row3_col32, #T_24a8d_row3_col33, #T_24a8d_row3_col35, #T_24a8d_row3_col36, #T_24a8d_row3_col37, #T_24a8d_row3_col38, #T_24a8d_row3_col39, #T_24a8d_row3_col40, #T_24a8d_row3_col41, #T_24a8d_row3_col42, #T_24a8d_row3_col43, #T_24a8d_row4_col0, #T_24a8d_row4_col2, #T_24a8d_row4_col3, #T_24a8d_row4_col6, #T_24a8d_row4_col7, #T_24a8d_row4_col8, #T_24a8d_row4_col9, #T_24a8d_row4_col12, #T_24a8d_row4_col13, #T_24a8d_row4_col14, #T_24a8d_row4_col16, #T_24a8d_row4_col17, #T_24a8d_row4_col18, #T_24a8d_row4_col19, #T_24a8d_row4_col21, #T_24a8d_row4_col22, #T_24a8d_row4_col23, #T_24a8d_row4_col24, #T_24a8d_row4_col25, #T_24a8d_row4_col27, #T_24a8d_row4_col28, #T_24a8d_row4_col29, #T_24a8d_row4_col31, #T_24a8d_row4_col32, #T_24a8d_row4_col33, #T_24a8d_row4_col34, #T_24a8d_row4_col35, #T_24a8d_row4_col36, #T_24a8d_row4_col38, #T_24a8d_row4_col39, #T_24a8d_row4_col40, #T_24a8d_row4_col41, #T_24a8d_row4_col42, #T_24a8d_row4_col43 {\n",
       "  background-color: #f7fbff;\n",
       "  color: #000000;\n",
       "}\n",
       "#T_24a8d_row0_col1, #T_24a8d_row0_col4, #T_24a8d_row0_col5, #T_24a8d_row0_col10, #T_24a8d_row0_col11, #T_24a8d_row0_col13, #T_24a8d_row0_col20, #T_24a8d_row0_col26, #T_24a8d_row0_col30, #T_24a8d_row0_col37, #T_24a8d_row1_col0, #T_24a8d_row1_col4, #T_24a8d_row1_col5, #T_24a8d_row1_col10, #T_24a8d_row1_col11, #T_24a8d_row1_col15, #T_24a8d_row1_col20, #T_24a8d_row1_col24, #T_24a8d_row1_col30, #T_24a8d_row1_col37, #T_24a8d_row2_col0, #T_24a8d_row2_col4, #T_24a8d_row2_col6, #T_24a8d_row2_col10, #T_24a8d_row2_col12, #T_24a8d_row2_col14, #T_24a8d_row2_col20, #T_24a8d_row2_col24, #T_24a8d_row2_col31, #T_24a8d_row2_col39, #T_24a8d_row3_col2, #T_24a8d_row3_col3, #T_24a8d_row3_col5, #T_24a8d_row3_col9, #T_24a8d_row3_col12, #T_24a8d_row3_col17, #T_24a8d_row3_col19, #T_24a8d_row3_col27, #T_24a8d_row3_col29, #T_24a8d_row3_col34, #T_24a8d_row4_col1, #T_24a8d_row4_col4, #T_24a8d_row4_col5, #T_24a8d_row4_col10, #T_24a8d_row4_col11, #T_24a8d_row4_col15, #T_24a8d_row4_col20, #T_24a8d_row4_col26, #T_24a8d_row4_col30, #T_24a8d_row4_col37 {\n",
       "  background-color: #08306b;\n",
       "  color: #f1f1f1;\n",
       "}\n",
       "</style>\n",
       "<table id=\"T_24a8d\">\n",
       "  <thead>\n",
       "    <tr>\n",
       "      <th class=\"blank level0\" >&nbsp;</th>\n",
       "      <th id=\"T_24a8d_level0_col0\" class=\"col_heading level0 col0\" >Geography_France</th>\n",
       "      <th id=\"T_24a8d_level0_col1\" class=\"col_heading level0 col1\" >Geography_Germany</th>\n",
       "      <th id=\"T_24a8d_level0_col2\" class=\"col_heading level0 col2\" >Geography_Spain</th>\n",
       "      <th id=\"T_24a8d_level0_col3\" class=\"col_heading level0 col3\" >Gender_Female</th>\n",
       "      <th id=\"T_24a8d_level0_col4\" class=\"col_heading level0 col4\" >Gender_Male</th>\n",
       "      <th id=\"T_24a8d_level0_col5\" class=\"col_heading level0 col5\" >NumOfProducts_1</th>\n",
       "      <th id=\"T_24a8d_level0_col6\" class=\"col_heading level0 col6\" >NumOfProducts_2</th>\n",
       "      <th id=\"T_24a8d_level0_col7\" class=\"col_heading level0 col7\" >NumOfProducts_3</th>\n",
       "      <th id=\"T_24a8d_level0_col8\" class=\"col_heading level0 col8\" >NumOfProducts_4</th>\n",
       "      <th id=\"T_24a8d_level0_col9\" class=\"col_heading level0 col9\" >HasCrCard_0.0</th>\n",
       "      <th id=\"T_24a8d_level0_col10\" class=\"col_heading level0 col10\" >HasCrCard_1.0</th>\n",
       "      <th id=\"T_24a8d_level0_col11\" class=\"col_heading level0 col11\" >IsActiveMember_0.0</th>\n",
       "      <th id=\"T_24a8d_level0_col12\" class=\"col_heading level0 col12\" >IsActiveMember_1.0</th>\n",
       "      <th id=\"T_24a8d_level0_col13\" class=\"col_heading level0 col13\" >Age_Category_18-30</th>\n",
       "      <th id=\"T_24a8d_level0_col14\" class=\"col_heading level0 col14\" >Age_Category_30-40</th>\n",
       "      <th id=\"T_24a8d_level0_col15\" class=\"col_heading level0 col15\" >Age_Category_40-50</th>\n",
       "      <th id=\"T_24a8d_level0_col16\" class=\"col_heading level0 col16\" >Age_Category_50-60</th>\n",
       "      <th id=\"T_24a8d_level0_col17\" class=\"col_heading level0 col17\" >Age_Category_60+</th>\n",
       "      <th id=\"T_24a8d_level0_col18\" class=\"col_heading level0 col18\" >Credit_Score_Range_0-300</th>\n",
       "      <th id=\"T_24a8d_level0_col19\" class=\"col_heading level0 col19\" >Credit_Score_Range_300-600</th>\n",
       "      <th id=\"T_24a8d_level0_col20\" class=\"col_heading level0 col20\" >Credit_Score_Range_600-700</th>\n",
       "      <th id=\"T_24a8d_level0_col21\" class=\"col_heading level0 col21\" >Credit_Score_Range_700-800</th>\n",
       "      <th id=\"T_24a8d_level0_col22\" class=\"col_heading level0 col22\" >Credit_Score_Range_900+</th>\n",
       "      <th id=\"T_24a8d_level0_col23\" class=\"col_heading level0 col23\" >Geo_Gender_France_Female</th>\n",
       "      <th id=\"T_24a8d_level0_col24\" class=\"col_heading level0 col24\" >Geo_Gender_France_Male</th>\n",
       "      <th id=\"T_24a8d_level0_col25\" class=\"col_heading level0 col25\" >Geo_Gender_Germany_Female</th>\n",
       "      <th id=\"T_24a8d_level0_col26\" class=\"col_heading level0 col26\" >Geo_Gender_Germany_Male</th>\n",
       "      <th id=\"T_24a8d_level0_col27\" class=\"col_heading level0 col27\" >Geo_Gender_Spain_Female</th>\n",
       "      <th id=\"T_24a8d_level0_col28\" class=\"col_heading level0 col28\" >Geo_Gender_Spain_Male</th>\n",
       "      <th id=\"T_24a8d_level0_col29\" class=\"col_heading level0 col29\" >Total_Products_Used_1.0</th>\n",
       "      <th id=\"T_24a8d_level0_col30\" class=\"col_heading level0 col30\" >Total_Products_Used_2.0</th>\n",
       "      <th id=\"T_24a8d_level0_col31\" class=\"col_heading level0 col31\" >Total_Products_Used_3.0</th>\n",
       "      <th id=\"T_24a8d_level0_col32\" class=\"col_heading level0 col32\" >Total_Products_Used_4.0</th>\n",
       "      <th id=\"T_24a8d_level0_col33\" class=\"col_heading level0 col33\" >Total_Products_Used_5.0</th>\n",
       "      <th id=\"T_24a8d_level0_col34\" class=\"col_heading level0 col34\" >Tp_Gender_1.0Female</th>\n",
       "      <th id=\"T_24a8d_level0_col35\" class=\"col_heading level0 col35\" >Tp_Gender_1.0Male</th>\n",
       "      <th id=\"T_24a8d_level0_col36\" class=\"col_heading level0 col36\" >Tp_Gender_2.0Female</th>\n",
       "      <th id=\"T_24a8d_level0_col37\" class=\"col_heading level0 col37\" >Tp_Gender_2.0Male</th>\n",
       "      <th id=\"T_24a8d_level0_col38\" class=\"col_heading level0 col38\" >Tp_Gender_3.0Female</th>\n",
       "      <th id=\"T_24a8d_level0_col39\" class=\"col_heading level0 col39\" >Tp_Gender_3.0Male</th>\n",
       "      <th id=\"T_24a8d_level0_col40\" class=\"col_heading level0 col40\" >Tp_Gender_4.0Female</th>\n",
       "      <th id=\"T_24a8d_level0_col41\" class=\"col_heading level0 col41\" >Tp_Gender_4.0Male</th>\n",
       "      <th id=\"T_24a8d_level0_col42\" class=\"col_heading level0 col42\" >Tp_Gender_5.0Female</th>\n",
       "      <th id=\"T_24a8d_level0_col43\" class=\"col_heading level0 col43\" >Tp_Gender_5.0Male</th>\n",
       "    </tr>\n",
       "  </thead>\n",
       "  <tbody>\n",
       "    <tr>\n",
       "      <th id=\"T_24a8d_level0_row0\" class=\"row_heading level0 row0\" >0</th>\n",
       "      <td id=\"T_24a8d_row0_col0\" class=\"data row0 col0\" >0</td>\n",
       "      <td id=\"T_24a8d_row0_col1\" class=\"data row0 col1\" >1</td>\n",
       "      <td id=\"T_24a8d_row0_col2\" class=\"data row0 col2\" >0</td>\n",
       "      <td id=\"T_24a8d_row0_col3\" class=\"data row0 col3\" >0</td>\n",
       "      <td id=\"T_24a8d_row0_col4\" class=\"data row0 col4\" >1</td>\n",
       "      <td id=\"T_24a8d_row0_col5\" class=\"data row0 col5\" >1</td>\n",
       "      <td id=\"T_24a8d_row0_col6\" class=\"data row0 col6\" >0</td>\n",
       "      <td id=\"T_24a8d_row0_col7\" class=\"data row0 col7\" >0</td>\n",
       "      <td id=\"T_24a8d_row0_col8\" class=\"data row0 col8\" >0</td>\n",
       "      <td id=\"T_24a8d_row0_col9\" class=\"data row0 col9\" >0</td>\n",
       "      <td id=\"T_24a8d_row0_col10\" class=\"data row0 col10\" >1</td>\n",
       "      <td id=\"T_24a8d_row0_col11\" class=\"data row0 col11\" >1</td>\n",
       "      <td id=\"T_24a8d_row0_col12\" class=\"data row0 col12\" >0</td>\n",
       "      <td id=\"T_24a8d_row0_col13\" class=\"data row0 col13\" >1</td>\n",
       "      <td id=\"T_24a8d_row0_col14\" class=\"data row0 col14\" >0</td>\n",
       "      <td id=\"T_24a8d_row0_col15\" class=\"data row0 col15\" >0</td>\n",
       "      <td id=\"T_24a8d_row0_col16\" class=\"data row0 col16\" >0</td>\n",
       "      <td id=\"T_24a8d_row0_col17\" class=\"data row0 col17\" >0</td>\n",
       "      <td id=\"T_24a8d_row0_col18\" class=\"data row0 col18\" >0</td>\n",
       "      <td id=\"T_24a8d_row0_col19\" class=\"data row0 col19\" >0</td>\n",
       "      <td id=\"T_24a8d_row0_col20\" class=\"data row0 col20\" >1</td>\n",
       "      <td id=\"T_24a8d_row0_col21\" class=\"data row0 col21\" >0</td>\n",
       "      <td id=\"T_24a8d_row0_col22\" class=\"data row0 col22\" >0</td>\n",
       "      <td id=\"T_24a8d_row0_col23\" class=\"data row0 col23\" >0</td>\n",
       "      <td id=\"T_24a8d_row0_col24\" class=\"data row0 col24\" >0</td>\n",
       "      <td id=\"T_24a8d_row0_col25\" class=\"data row0 col25\" >0</td>\n",
       "      <td id=\"T_24a8d_row0_col26\" class=\"data row0 col26\" >1</td>\n",
       "      <td id=\"T_24a8d_row0_col27\" class=\"data row0 col27\" >0</td>\n",
       "      <td id=\"T_24a8d_row0_col28\" class=\"data row0 col28\" >0</td>\n",
       "      <td id=\"T_24a8d_row0_col29\" class=\"data row0 col29\" >0</td>\n",
       "      <td id=\"T_24a8d_row0_col30\" class=\"data row0 col30\" >1</td>\n",
       "      <td id=\"T_24a8d_row0_col31\" class=\"data row0 col31\" >0</td>\n",
       "      <td id=\"T_24a8d_row0_col32\" class=\"data row0 col32\" >0</td>\n",
       "      <td id=\"T_24a8d_row0_col33\" class=\"data row0 col33\" >0</td>\n",
       "      <td id=\"T_24a8d_row0_col34\" class=\"data row0 col34\" >0</td>\n",
       "      <td id=\"T_24a8d_row0_col35\" class=\"data row0 col35\" >0</td>\n",
       "      <td id=\"T_24a8d_row0_col36\" class=\"data row0 col36\" >0</td>\n",
       "      <td id=\"T_24a8d_row0_col37\" class=\"data row0 col37\" >1</td>\n",
       "      <td id=\"T_24a8d_row0_col38\" class=\"data row0 col38\" >0</td>\n",
       "      <td id=\"T_24a8d_row0_col39\" class=\"data row0 col39\" >0</td>\n",
       "      <td id=\"T_24a8d_row0_col40\" class=\"data row0 col40\" >0</td>\n",
       "      <td id=\"T_24a8d_row0_col41\" class=\"data row0 col41\" >0</td>\n",
       "      <td id=\"T_24a8d_row0_col42\" class=\"data row0 col42\" >0</td>\n",
       "      <td id=\"T_24a8d_row0_col43\" class=\"data row0 col43\" >0</td>\n",
       "    </tr>\n",
       "    <tr>\n",
       "      <th id=\"T_24a8d_level0_row1\" class=\"row_heading level0 row1\" >1</th>\n",
       "      <td id=\"T_24a8d_row1_col0\" class=\"data row1 col0\" >1</td>\n",
       "      <td id=\"T_24a8d_row1_col1\" class=\"data row1 col1\" >0</td>\n",
       "      <td id=\"T_24a8d_row1_col2\" class=\"data row1 col2\" >0</td>\n",
       "      <td id=\"T_24a8d_row1_col3\" class=\"data row1 col3\" >0</td>\n",
       "      <td id=\"T_24a8d_row1_col4\" class=\"data row1 col4\" >1</td>\n",
       "      <td id=\"T_24a8d_row1_col5\" class=\"data row1 col5\" >1</td>\n",
       "      <td id=\"T_24a8d_row1_col6\" class=\"data row1 col6\" >0</td>\n",
       "      <td id=\"T_24a8d_row1_col7\" class=\"data row1 col7\" >0</td>\n",
       "      <td id=\"T_24a8d_row1_col8\" class=\"data row1 col8\" >0</td>\n",
       "      <td id=\"T_24a8d_row1_col9\" class=\"data row1 col9\" >0</td>\n",
       "      <td id=\"T_24a8d_row1_col10\" class=\"data row1 col10\" >1</td>\n",
       "      <td id=\"T_24a8d_row1_col11\" class=\"data row1 col11\" >1</td>\n",
       "      <td id=\"T_24a8d_row1_col12\" class=\"data row1 col12\" >0</td>\n",
       "      <td id=\"T_24a8d_row1_col13\" class=\"data row1 col13\" >0</td>\n",
       "      <td id=\"T_24a8d_row1_col14\" class=\"data row1 col14\" >0</td>\n",
       "      <td id=\"T_24a8d_row1_col15\" class=\"data row1 col15\" >1</td>\n",
       "      <td id=\"T_24a8d_row1_col16\" class=\"data row1 col16\" >0</td>\n",
       "      <td id=\"T_24a8d_row1_col17\" class=\"data row1 col17\" >0</td>\n",
       "      <td id=\"T_24a8d_row1_col18\" class=\"data row1 col18\" >0</td>\n",
       "      <td id=\"T_24a8d_row1_col19\" class=\"data row1 col19\" >0</td>\n",
       "      <td id=\"T_24a8d_row1_col20\" class=\"data row1 col20\" >1</td>\n",
       "      <td id=\"T_24a8d_row1_col21\" class=\"data row1 col21\" >0</td>\n",
       "      <td id=\"T_24a8d_row1_col22\" class=\"data row1 col22\" >0</td>\n",
       "      <td id=\"T_24a8d_row1_col23\" class=\"data row1 col23\" >0</td>\n",
       "      <td id=\"T_24a8d_row1_col24\" class=\"data row1 col24\" >1</td>\n",
       "      <td id=\"T_24a8d_row1_col25\" class=\"data row1 col25\" >0</td>\n",
       "      <td id=\"T_24a8d_row1_col26\" class=\"data row1 col26\" >0</td>\n",
       "      <td id=\"T_24a8d_row1_col27\" class=\"data row1 col27\" >0</td>\n",
       "      <td id=\"T_24a8d_row1_col28\" class=\"data row1 col28\" >0</td>\n",
       "      <td id=\"T_24a8d_row1_col29\" class=\"data row1 col29\" >0</td>\n",
       "      <td id=\"T_24a8d_row1_col30\" class=\"data row1 col30\" >1</td>\n",
       "      <td id=\"T_24a8d_row1_col31\" class=\"data row1 col31\" >0</td>\n",
       "      <td id=\"T_24a8d_row1_col32\" class=\"data row1 col32\" >0</td>\n",
       "      <td id=\"T_24a8d_row1_col33\" class=\"data row1 col33\" >0</td>\n",
       "      <td id=\"T_24a8d_row1_col34\" class=\"data row1 col34\" >0</td>\n",
       "      <td id=\"T_24a8d_row1_col35\" class=\"data row1 col35\" >0</td>\n",
       "      <td id=\"T_24a8d_row1_col36\" class=\"data row1 col36\" >0</td>\n",
       "      <td id=\"T_24a8d_row1_col37\" class=\"data row1 col37\" >1</td>\n",
       "      <td id=\"T_24a8d_row1_col38\" class=\"data row1 col38\" >0</td>\n",
       "      <td id=\"T_24a8d_row1_col39\" class=\"data row1 col39\" >0</td>\n",
       "      <td id=\"T_24a8d_row1_col40\" class=\"data row1 col40\" >0</td>\n",
       "      <td id=\"T_24a8d_row1_col41\" class=\"data row1 col41\" >0</td>\n",
       "      <td id=\"T_24a8d_row1_col42\" class=\"data row1 col42\" >0</td>\n",
       "      <td id=\"T_24a8d_row1_col43\" class=\"data row1 col43\" >0</td>\n",
       "    </tr>\n",
       "    <tr>\n",
       "      <th id=\"T_24a8d_level0_row2\" class=\"row_heading level0 row2\" >2</th>\n",
       "      <td id=\"T_24a8d_row2_col0\" class=\"data row2 col0\" >1</td>\n",
       "      <td id=\"T_24a8d_row2_col1\" class=\"data row2 col1\" >0</td>\n",
       "      <td id=\"T_24a8d_row2_col2\" class=\"data row2 col2\" >0</td>\n",
       "      <td id=\"T_24a8d_row2_col3\" class=\"data row2 col3\" >0</td>\n",
       "      <td id=\"T_24a8d_row2_col4\" class=\"data row2 col4\" >1</td>\n",
       "      <td id=\"T_24a8d_row2_col5\" class=\"data row2 col5\" >0</td>\n",
       "      <td id=\"T_24a8d_row2_col6\" class=\"data row2 col6\" >1</td>\n",
       "      <td id=\"T_24a8d_row2_col7\" class=\"data row2 col7\" >0</td>\n",
       "      <td id=\"T_24a8d_row2_col8\" class=\"data row2 col8\" >0</td>\n",
       "      <td id=\"T_24a8d_row2_col9\" class=\"data row2 col9\" >0</td>\n",
       "      <td id=\"T_24a8d_row2_col10\" class=\"data row2 col10\" >1</td>\n",
       "      <td id=\"T_24a8d_row2_col11\" class=\"data row2 col11\" >0</td>\n",
       "      <td id=\"T_24a8d_row2_col12\" class=\"data row2 col12\" >1</td>\n",
       "      <td id=\"T_24a8d_row2_col13\" class=\"data row2 col13\" >0</td>\n",
       "      <td id=\"T_24a8d_row2_col14\" class=\"data row2 col14\" >1</td>\n",
       "      <td id=\"T_24a8d_row2_col15\" class=\"data row2 col15\" >0</td>\n",
       "      <td id=\"T_24a8d_row2_col16\" class=\"data row2 col16\" >0</td>\n",
       "      <td id=\"T_24a8d_row2_col17\" class=\"data row2 col17\" >0</td>\n",
       "      <td id=\"T_24a8d_row2_col18\" class=\"data row2 col18\" >0</td>\n",
       "      <td id=\"T_24a8d_row2_col19\" class=\"data row2 col19\" >0</td>\n",
       "      <td id=\"T_24a8d_row2_col20\" class=\"data row2 col20\" >1</td>\n",
       "      <td id=\"T_24a8d_row2_col21\" class=\"data row2 col21\" >0</td>\n",
       "      <td id=\"T_24a8d_row2_col22\" class=\"data row2 col22\" >0</td>\n",
       "      <td id=\"T_24a8d_row2_col23\" class=\"data row2 col23\" >0</td>\n",
       "      <td id=\"T_24a8d_row2_col24\" class=\"data row2 col24\" >1</td>\n",
       "      <td id=\"T_24a8d_row2_col25\" class=\"data row2 col25\" >0</td>\n",
       "      <td id=\"T_24a8d_row2_col26\" class=\"data row2 col26\" >0</td>\n",
       "      <td id=\"T_24a8d_row2_col27\" class=\"data row2 col27\" >0</td>\n",
       "      <td id=\"T_24a8d_row2_col28\" class=\"data row2 col28\" >0</td>\n",
       "      <td id=\"T_24a8d_row2_col29\" class=\"data row2 col29\" >0</td>\n",
       "      <td id=\"T_24a8d_row2_col30\" class=\"data row2 col30\" >0</td>\n",
       "      <td id=\"T_24a8d_row2_col31\" class=\"data row2 col31\" >1</td>\n",
       "      <td id=\"T_24a8d_row2_col32\" class=\"data row2 col32\" >0</td>\n",
       "      <td id=\"T_24a8d_row2_col33\" class=\"data row2 col33\" >0</td>\n",
       "      <td id=\"T_24a8d_row2_col34\" class=\"data row2 col34\" >0</td>\n",
       "      <td id=\"T_24a8d_row2_col35\" class=\"data row2 col35\" >0</td>\n",
       "      <td id=\"T_24a8d_row2_col36\" class=\"data row2 col36\" >0</td>\n",
       "      <td id=\"T_24a8d_row2_col37\" class=\"data row2 col37\" >0</td>\n",
       "      <td id=\"T_24a8d_row2_col38\" class=\"data row2 col38\" >0</td>\n",
       "      <td id=\"T_24a8d_row2_col39\" class=\"data row2 col39\" >1</td>\n",
       "      <td id=\"T_24a8d_row2_col40\" class=\"data row2 col40\" >0</td>\n",
       "      <td id=\"T_24a8d_row2_col41\" class=\"data row2 col41\" >0</td>\n",
       "      <td id=\"T_24a8d_row2_col42\" class=\"data row2 col42\" >0</td>\n",
       "      <td id=\"T_24a8d_row2_col43\" class=\"data row2 col43\" >0</td>\n",
       "    </tr>\n",
       "    <tr>\n",
       "      <th id=\"T_24a8d_level0_row3\" class=\"row_heading level0 row3\" >3</th>\n",
       "      <td id=\"T_24a8d_row3_col0\" class=\"data row3 col0\" >0</td>\n",
       "      <td id=\"T_24a8d_row3_col1\" class=\"data row3 col1\" >0</td>\n",
       "      <td id=\"T_24a8d_row3_col2\" class=\"data row3 col2\" >1</td>\n",
       "      <td id=\"T_24a8d_row3_col3\" class=\"data row3 col3\" >1</td>\n",
       "      <td id=\"T_24a8d_row3_col4\" class=\"data row3 col4\" >0</td>\n",
       "      <td id=\"T_24a8d_row3_col5\" class=\"data row3 col5\" >1</td>\n",
       "      <td id=\"T_24a8d_row3_col6\" class=\"data row3 col6\" >0</td>\n",
       "      <td id=\"T_24a8d_row3_col7\" class=\"data row3 col7\" >0</td>\n",
       "      <td id=\"T_24a8d_row3_col8\" class=\"data row3 col8\" >0</td>\n",
       "      <td id=\"T_24a8d_row3_col9\" class=\"data row3 col9\" >1</td>\n",
       "      <td id=\"T_24a8d_row3_col10\" class=\"data row3 col10\" >0</td>\n",
       "      <td id=\"T_24a8d_row3_col11\" class=\"data row3 col11\" >0</td>\n",
       "      <td id=\"T_24a8d_row3_col12\" class=\"data row3 col12\" >1</td>\n",
       "      <td id=\"T_24a8d_row3_col13\" class=\"data row3 col13\" >0</td>\n",
       "      <td id=\"T_24a8d_row3_col14\" class=\"data row3 col14\" >0</td>\n",
       "      <td id=\"T_24a8d_row3_col15\" class=\"data row3 col15\" >0</td>\n",
       "      <td id=\"T_24a8d_row3_col16\" class=\"data row3 col16\" >0</td>\n",
       "      <td id=\"T_24a8d_row3_col17\" class=\"data row3 col17\" >1</td>\n",
       "      <td id=\"T_24a8d_row3_col18\" class=\"data row3 col18\" >0</td>\n",
       "      <td id=\"T_24a8d_row3_col19\" class=\"data row3 col19\" >1</td>\n",
       "      <td id=\"T_24a8d_row3_col20\" class=\"data row3 col20\" >0</td>\n",
       "      <td id=\"T_24a8d_row3_col21\" class=\"data row3 col21\" >0</td>\n",
       "      <td id=\"T_24a8d_row3_col22\" class=\"data row3 col22\" >0</td>\n",
       "      <td id=\"T_24a8d_row3_col23\" class=\"data row3 col23\" >0</td>\n",
       "      <td id=\"T_24a8d_row3_col24\" class=\"data row3 col24\" >0</td>\n",
       "      <td id=\"T_24a8d_row3_col25\" class=\"data row3 col25\" >0</td>\n",
       "      <td id=\"T_24a8d_row3_col26\" class=\"data row3 col26\" >0</td>\n",
       "      <td id=\"T_24a8d_row3_col27\" class=\"data row3 col27\" >1</td>\n",
       "      <td id=\"T_24a8d_row3_col28\" class=\"data row3 col28\" >0</td>\n",
       "      <td id=\"T_24a8d_row3_col29\" class=\"data row3 col29\" >1</td>\n",
       "      <td id=\"T_24a8d_row3_col30\" class=\"data row3 col30\" >0</td>\n",
       "      <td id=\"T_24a8d_row3_col31\" class=\"data row3 col31\" >0</td>\n",
       "      <td id=\"T_24a8d_row3_col32\" class=\"data row3 col32\" >0</td>\n",
       "      <td id=\"T_24a8d_row3_col33\" class=\"data row3 col33\" >0</td>\n",
       "      <td id=\"T_24a8d_row3_col34\" class=\"data row3 col34\" >1</td>\n",
       "      <td id=\"T_24a8d_row3_col35\" class=\"data row3 col35\" >0</td>\n",
       "      <td id=\"T_24a8d_row3_col36\" class=\"data row3 col36\" >0</td>\n",
       "      <td id=\"T_24a8d_row3_col37\" class=\"data row3 col37\" >0</td>\n",
       "      <td id=\"T_24a8d_row3_col38\" class=\"data row3 col38\" >0</td>\n",
       "      <td id=\"T_24a8d_row3_col39\" class=\"data row3 col39\" >0</td>\n",
       "      <td id=\"T_24a8d_row3_col40\" class=\"data row3 col40\" >0</td>\n",
       "      <td id=\"T_24a8d_row3_col41\" class=\"data row3 col41\" >0</td>\n",
       "      <td id=\"T_24a8d_row3_col42\" class=\"data row3 col42\" >0</td>\n",
       "      <td id=\"T_24a8d_row3_col43\" class=\"data row3 col43\" >0</td>\n",
       "    </tr>\n",
       "    <tr>\n",
       "      <th id=\"T_24a8d_level0_row4\" class=\"row_heading level0 row4\" >4</th>\n",
       "      <td id=\"T_24a8d_row4_col0\" class=\"data row4 col0\" >0</td>\n",
       "      <td id=\"T_24a8d_row4_col1\" class=\"data row4 col1\" >1</td>\n",
       "      <td id=\"T_24a8d_row4_col2\" class=\"data row4 col2\" >0</td>\n",
       "      <td id=\"T_24a8d_row4_col3\" class=\"data row4 col3\" >0</td>\n",
       "      <td id=\"T_24a8d_row4_col4\" class=\"data row4 col4\" >1</td>\n",
       "      <td id=\"T_24a8d_row4_col5\" class=\"data row4 col5\" >1</td>\n",
       "      <td id=\"T_24a8d_row4_col6\" class=\"data row4 col6\" >0</td>\n",
       "      <td id=\"T_24a8d_row4_col7\" class=\"data row4 col7\" >0</td>\n",
       "      <td id=\"T_24a8d_row4_col8\" class=\"data row4 col8\" >0</td>\n",
       "      <td id=\"T_24a8d_row4_col9\" class=\"data row4 col9\" >0</td>\n",
       "      <td id=\"T_24a8d_row4_col10\" class=\"data row4 col10\" >1</td>\n",
       "      <td id=\"T_24a8d_row4_col11\" class=\"data row4 col11\" >1</td>\n",
       "      <td id=\"T_24a8d_row4_col12\" class=\"data row4 col12\" >0</td>\n",
       "      <td id=\"T_24a8d_row4_col13\" class=\"data row4 col13\" >0</td>\n",
       "      <td id=\"T_24a8d_row4_col14\" class=\"data row4 col14\" >0</td>\n",
       "      <td id=\"T_24a8d_row4_col15\" class=\"data row4 col15\" >1</td>\n",
       "      <td id=\"T_24a8d_row4_col16\" class=\"data row4 col16\" >0</td>\n",
       "      <td id=\"T_24a8d_row4_col17\" class=\"data row4 col17\" >0</td>\n",
       "      <td id=\"T_24a8d_row4_col18\" class=\"data row4 col18\" >0</td>\n",
       "      <td id=\"T_24a8d_row4_col19\" class=\"data row4 col19\" >0</td>\n",
       "      <td id=\"T_24a8d_row4_col20\" class=\"data row4 col20\" >1</td>\n",
       "      <td id=\"T_24a8d_row4_col21\" class=\"data row4 col21\" >0</td>\n",
       "      <td id=\"T_24a8d_row4_col22\" class=\"data row4 col22\" >0</td>\n",
       "      <td id=\"T_24a8d_row4_col23\" class=\"data row4 col23\" >0</td>\n",
       "      <td id=\"T_24a8d_row4_col24\" class=\"data row4 col24\" >0</td>\n",
       "      <td id=\"T_24a8d_row4_col25\" class=\"data row4 col25\" >0</td>\n",
       "      <td id=\"T_24a8d_row4_col26\" class=\"data row4 col26\" >1</td>\n",
       "      <td id=\"T_24a8d_row4_col27\" class=\"data row4 col27\" >0</td>\n",
       "      <td id=\"T_24a8d_row4_col28\" class=\"data row4 col28\" >0</td>\n",
       "      <td id=\"T_24a8d_row4_col29\" class=\"data row4 col29\" >0</td>\n",
       "      <td id=\"T_24a8d_row4_col30\" class=\"data row4 col30\" >1</td>\n",
       "      <td id=\"T_24a8d_row4_col31\" class=\"data row4 col31\" >0</td>\n",
       "      <td id=\"T_24a8d_row4_col32\" class=\"data row4 col32\" >0</td>\n",
       "      <td id=\"T_24a8d_row4_col33\" class=\"data row4 col33\" >0</td>\n",
       "      <td id=\"T_24a8d_row4_col34\" class=\"data row4 col34\" >0</td>\n",
       "      <td id=\"T_24a8d_row4_col35\" class=\"data row4 col35\" >0</td>\n",
       "      <td id=\"T_24a8d_row4_col36\" class=\"data row4 col36\" >0</td>\n",
       "      <td id=\"T_24a8d_row4_col37\" class=\"data row4 col37\" >1</td>\n",
       "      <td id=\"T_24a8d_row4_col38\" class=\"data row4 col38\" >0</td>\n",
       "      <td id=\"T_24a8d_row4_col39\" class=\"data row4 col39\" >0</td>\n",
       "      <td id=\"T_24a8d_row4_col40\" class=\"data row4 col40\" >0</td>\n",
       "      <td id=\"T_24a8d_row4_col41\" class=\"data row4 col41\" >0</td>\n",
       "      <td id=\"T_24a8d_row4_col42\" class=\"data row4 col42\" >0</td>\n",
       "      <td id=\"T_24a8d_row4_col43\" class=\"data row4 col43\" >0</td>\n",
       "    </tr>\n",
       "  </tbody>\n",
       "</table>\n"
      ],
      "text/plain": [
       "<pandas.io.formats.style.Styler at 0x7ec7996048b0>"
      ]
     },
     "execution_count": 35,
     "metadata": {},
     "output_type": "execute_result"
    }
   ],
   "source": [
    "ohe_train = pd.get_dummies(train_to_ohe, columns =train_to_ohe.columns )\n",
    "ohe_test  = pd.get_dummies(test_to_ohe, columns = train_to_ohe.columns)\n",
    "ohe_train = ohe_train.replace({True: 1, False: 0})\n",
    "ohe_test = ohe_test.replace({True: 1, False: 0})\n",
    "set_frame_style(ohe_train.head())"
   ]
  },
  {
   "cell_type": "code",
   "execution_count": 36,
   "id": "df87b6a7",
   "metadata": {
    "execution": {
     "iopub.execute_input": "2024-01-31T18:45:13.213946Z",
     "iopub.status.busy": "2024-01-31T18:45:13.213568Z",
     "iopub.status.idle": "2024-01-31T18:45:13.252179Z",
     "shell.execute_reply": "2024-01-31T18:45:13.251067Z"
    },
    "papermill": {
     "duration": 0.077528,
     "end_time": "2024-01-31T18:45:13.255132",
     "exception": false,
     "start_time": "2024-01-31T18:45:13.177604",
     "status": "completed"
    },
    "tags": []
   },
   "outputs": [],
   "source": [
    "ohe_train = ohe_train.drop(['Gender_Male'],axis =1)\n",
    "ohe_test = ohe_test.drop(['Gender_Male'],axis =1)"
   ]
  },
  {
   "cell_type": "markdown",
   "id": "4172054c",
   "metadata": {
    "papermill": {
     "duration": 0.035861,
     "end_time": "2024-01-31T18:45:13.328997",
     "exception": false,
     "start_time": "2024-01-31T18:45:13.293136",
     "status": "completed"
    },
    "tags": []
   },
   "source": [
    "## Frequency Encoding"
   ]
  },
  {
   "cell_type": "code",
   "execution_count": 37,
   "id": "38ee42db",
   "metadata": {
    "execution": {
     "iopub.execute_input": "2024-01-31T18:45:13.400831Z",
     "iopub.status.busy": "2024-01-31T18:45:13.400413Z",
     "iopub.status.idle": "2024-01-31T18:45:13.484032Z",
     "shell.execute_reply": "2024-01-31T18:45:13.483141Z"
    },
    "papermill": {
     "duration": 0.122782,
     "end_time": "2024-01-31T18:45:13.486785",
     "exception": false,
     "start_time": "2024-01-31T18:45:13.364003",
     "status": "completed"
    },
    "tags": []
   },
   "outputs": [],
   "source": [
    "def freq_enc(df) :\n",
    "    frequency_encoding = df['Surname'].value_counts(normalize=True)\n",
    "    df['Surname'] = df['Surname'].map(frequency_encoding)\n",
    "    return df\n",
    "df = freq_enc(df)\n",
    "test_df = freq_enc(test_df)"
   ]
  },
  {
   "cell_type": "markdown",
   "id": "48524bce",
   "metadata": {
    "papermill": {
     "duration": 0.034848,
     "end_time": "2024-01-31T18:45:13.557166",
     "exception": false,
     "start_time": "2024-01-31T18:45:13.522318",
     "status": "completed"
    },
    "tags": []
   },
   "source": [
    "## <a><center><font size = 4><span style=\"color:#F5F5E6\"> <p style=\"background-color:#005F5D;font-family:courier;color:#FFFFFF;font-size:200%;text-align:center;border-radius:5px 5px;padding : 2px\">Join the scaled and one-hot encoded columns</p>   </span></font></center> "
   ]
  },
  {
   "cell_type": "code",
   "execution_count": 38,
   "id": "154e3a74",
   "metadata": {
    "execution": {
     "iopub.execute_input": "2024-01-31T18:45:13.629924Z",
     "iopub.status.busy": "2024-01-31T18:45:13.629505Z",
     "iopub.status.idle": "2024-01-31T18:45:13.803254Z",
     "shell.execute_reply": "2024-01-31T18:45:13.802235Z"
    },
    "papermill": {
     "duration": 0.213799,
     "end_time": "2024-01-31T18:45:13.806255",
     "exception": false,
     "start_time": "2024-01-31T18:45:13.592456",
     "status": "completed"
    },
    "tags": []
   },
   "outputs": [
    {
     "data": {
      "text/html": [
       "<style type=\"text/css\">\n",
       "#T_e1ebf caption {\n",
       "  color: Brown;\n",
       "  font-size: 20px;\n",
       "  font-weight: bold;\n",
       "}\n",
       "#T_e1ebf_row0_col0, #T_e1ebf_row0_col2, #T_e1ebf_row0_col3, #T_e1ebf_row0_col5, #T_e1ebf_row0_col6, #T_e1ebf_row0_col7, #T_e1ebf_row0_col8, #T_e1ebf_row0_col11, #T_e1ebf_row0_col13, #T_e1ebf_row0_col14, #T_e1ebf_row0_col15, #T_e1ebf_row0_col16, #T_e1ebf_row0_col17, #T_e1ebf_row0_col18, #T_e1ebf_row0_col20, #T_e1ebf_row0_col21, #T_e1ebf_row0_col22, #T_e1ebf_row0_col23, #T_e1ebf_row0_col24, #T_e1ebf_row0_col26, #T_e1ebf_row0_col27, #T_e1ebf_row0_col28, #T_e1ebf_row0_col30, #T_e1ebf_row0_col31, #T_e1ebf_row0_col32, #T_e1ebf_row0_col33, #T_e1ebf_row0_col34, #T_e1ebf_row0_col35, #T_e1ebf_row0_col37, #T_e1ebf_row0_col38, #T_e1ebf_row0_col39, #T_e1ebf_row0_col40, #T_e1ebf_row0_col41, #T_e1ebf_row0_col42, #T_e1ebf_row0_col44, #T_e1ebf_row0_col50, #T_e1ebf_row1_col1, #T_e1ebf_row1_col2, #T_e1ebf_row1_col3, #T_e1ebf_row1_col5, #T_e1ebf_row1_col6, #T_e1ebf_row1_col7, #T_e1ebf_row1_col8, #T_e1ebf_row1_col11, #T_e1ebf_row1_col12, #T_e1ebf_row1_col13, #T_e1ebf_row1_col15, #T_e1ebf_row1_col16, #T_e1ebf_row1_col17, #T_e1ebf_row1_col18, #T_e1ebf_row1_col20, #T_e1ebf_row1_col21, #T_e1ebf_row1_col22, #T_e1ebf_row1_col24, #T_e1ebf_row1_col25, #T_e1ebf_row1_col26, #T_e1ebf_row1_col27, #T_e1ebf_row1_col28, #T_e1ebf_row1_col30, #T_e1ebf_row1_col31, #T_e1ebf_row1_col32, #T_e1ebf_row1_col33, #T_e1ebf_row1_col34, #T_e1ebf_row1_col35, #T_e1ebf_row1_col37, #T_e1ebf_row1_col38, #T_e1ebf_row1_col39, #T_e1ebf_row1_col40, #T_e1ebf_row1_col41, #T_e1ebf_row1_col42, #T_e1ebf_row1_col52, #T_e1ebf_row2_col1, #T_e1ebf_row2_col2, #T_e1ebf_row2_col3, #T_e1ebf_row2_col4, #T_e1ebf_row2_col6, #T_e1ebf_row2_col7, #T_e1ebf_row2_col8, #T_e1ebf_row2_col10, #T_e1ebf_row2_col12, #T_e1ebf_row2_col14, #T_e1ebf_row2_col15, #T_e1ebf_row2_col16, #T_e1ebf_row2_col17, #T_e1ebf_row2_col18, #T_e1ebf_row2_col20, #T_e1ebf_row2_col21, #T_e1ebf_row2_col22, #T_e1ebf_row2_col24, #T_e1ebf_row2_col25, #T_e1ebf_row2_col26, #T_e1ebf_row2_col27, #T_e1ebf_row2_col28, #T_e1ebf_row2_col29, #T_e1ebf_row2_col31, #T_e1ebf_row2_col32, #T_e1ebf_row2_col33, #T_e1ebf_row2_col34, #T_e1ebf_row2_col35, #T_e1ebf_row2_col36, #T_e1ebf_row2_col37, #T_e1ebf_row2_col39, #T_e1ebf_row2_col40, #T_e1ebf_row2_col41, #T_e1ebf_row2_col42, #T_e1ebf_row2_col45, #T_e1ebf_row2_col46, #T_e1ebf_row2_col47, #T_e1ebf_row2_col48, #T_e1ebf_row2_col49, #T_e1ebf_row2_col50, #T_e1ebf_row2_col53, #T_e1ebf_row3_col0, #T_e1ebf_row3_col1, #T_e1ebf_row3_col5, #T_e1ebf_row3_col6, #T_e1ebf_row3_col7, #T_e1ebf_row3_col9, #T_e1ebf_row3_col10, #T_e1ebf_row3_col12, #T_e1ebf_row3_col13, #T_e1ebf_row3_col14, #T_e1ebf_row3_col15, #T_e1ebf_row3_col17, #T_e1ebf_row3_col19, #T_e1ebf_row3_col20, #T_e1ebf_row3_col21, #T_e1ebf_row3_col22, #T_e1ebf_row3_col23, #T_e1ebf_row3_col24, #T_e1ebf_row3_col25, #T_e1ebf_row3_col27, #T_e1ebf_row3_col29, #T_e1ebf_row3_col30, #T_e1ebf_row3_col31, #T_e1ebf_row3_col32, #T_e1ebf_row3_col34, #T_e1ebf_row3_col35, #T_e1ebf_row3_col36, #T_e1ebf_row3_col37, #T_e1ebf_row3_col38, #T_e1ebf_row3_col39, #T_e1ebf_row3_col40, #T_e1ebf_row3_col41, #T_e1ebf_row3_col42, #T_e1ebf_row3_col43, #T_e1ebf_row3_col50, #T_e1ebf_row3_col51, #T_e1ebf_row4_col0, #T_e1ebf_row4_col2, #T_e1ebf_row4_col3, #T_e1ebf_row4_col5, #T_e1ebf_row4_col6, #T_e1ebf_row4_col7, #T_e1ebf_row4_col8, #T_e1ebf_row4_col11, #T_e1ebf_row4_col12, #T_e1ebf_row4_col13, #T_e1ebf_row4_col15, #T_e1ebf_row4_col16, #T_e1ebf_row4_col17, #T_e1ebf_row4_col18, #T_e1ebf_row4_col20, #T_e1ebf_row4_col21, #T_e1ebf_row4_col22, #T_e1ebf_row4_col23, #T_e1ebf_row4_col24, #T_e1ebf_row4_col26, #T_e1ebf_row4_col27, #T_e1ebf_row4_col28, #T_e1ebf_row4_col30, #T_e1ebf_row4_col31, #T_e1ebf_row4_col32, #T_e1ebf_row4_col33, #T_e1ebf_row4_col34, #T_e1ebf_row4_col35, #T_e1ebf_row4_col37, #T_e1ebf_row4_col38, #T_e1ebf_row4_col39, #T_e1ebf_row4_col40, #T_e1ebf_row4_col41, #T_e1ebf_row4_col42, #T_e1ebf_row4_col50, #T_e1ebf_row4_col51, #T_e1ebf_row4_col54 {\n",
       "  background-color: #fff7fb;\n",
       "  color: #000000;\n",
       "}\n",
       "#T_e1ebf_row0_col1, #T_e1ebf_row0_col4, #T_e1ebf_row0_col9, #T_e1ebf_row0_col10, #T_e1ebf_row0_col12, #T_e1ebf_row0_col19, #T_e1ebf_row0_col25, #T_e1ebf_row0_col29, #T_e1ebf_row0_col36, #T_e1ebf_row0_col46, #T_e1ebf_row0_col49, #T_e1ebf_row1_col0, #T_e1ebf_row1_col4, #T_e1ebf_row1_col9, #T_e1ebf_row1_col10, #T_e1ebf_row1_col14, #T_e1ebf_row1_col19, #T_e1ebf_row1_col23, #T_e1ebf_row1_col29, #T_e1ebf_row1_col36, #T_e1ebf_row1_col47, #T_e1ebf_row1_col48, #T_e1ebf_row1_col50, #T_e1ebf_row1_col51, #T_e1ebf_row1_col53, #T_e1ebf_row1_col54, #T_e1ebf_row2_col0, #T_e1ebf_row2_col5, #T_e1ebf_row2_col9, #T_e1ebf_row2_col11, #T_e1ebf_row2_col13, #T_e1ebf_row2_col19, #T_e1ebf_row2_col23, #T_e1ebf_row2_col30, #T_e1ebf_row2_col38, #T_e1ebf_row2_col52, #T_e1ebf_row3_col2, #T_e1ebf_row3_col3, #T_e1ebf_row3_col4, #T_e1ebf_row3_col8, #T_e1ebf_row3_col11, #T_e1ebf_row3_col16, #T_e1ebf_row3_col18, #T_e1ebf_row3_col26, #T_e1ebf_row3_col28, #T_e1ebf_row3_col33, #T_e1ebf_row3_col44, #T_e1ebf_row3_col45, #T_e1ebf_row4_col1, #T_e1ebf_row4_col4, #T_e1ebf_row4_col9, #T_e1ebf_row4_col10, #T_e1ebf_row4_col14, #T_e1ebf_row4_col19, #T_e1ebf_row4_col25, #T_e1ebf_row4_col29, #T_e1ebf_row4_col36, #T_e1ebf_row4_col43 {\n",
       "  background-color: #014636;\n",
       "  color: #f1f1f1;\n",
       "}\n",
       "#T_e1ebf_row0_col43 {\n",
       "  background-color: #328fbc;\n",
       "  color: #f1f1f1;\n",
       "}\n",
       "#T_e1ebf_row0_col45 {\n",
       "  background-color: #016956;\n",
       "  color: #f1f1f1;\n",
       "}\n",
       "#T_e1ebf_row0_col47, #T_e1ebf_row2_col54 {\n",
       "  background-color: #8eb5d6;\n",
       "  color: #000000;\n",
       "}\n",
       "#T_e1ebf_row0_col48, #T_e1ebf_row3_col48 {\n",
       "  background-color: #e8e0ef;\n",
       "  color: #000000;\n",
       "}\n",
       "#T_e1ebf_row0_col51, #T_e1ebf_row3_col54 {\n",
       "  background-color: #ede3f0;\n",
       "  color: #000000;\n",
       "}\n",
       "#T_e1ebf_row0_col52 {\n",
       "  background-color: #cdd0e5;\n",
       "  color: #000000;\n",
       "}\n",
       "#T_e1ebf_row0_col53 {\n",
       "  background-color: #01736a;\n",
       "  color: #f1f1f1;\n",
       "}\n",
       "#T_e1ebf_row0_col54 {\n",
       "  background-color: #b4c4df;\n",
       "  color: #000000;\n",
       "}\n",
       "#T_e1ebf_row1_col43 {\n",
       "  background-color: #268bb0;\n",
       "  color: #f1f1f1;\n",
       "}\n",
       "#T_e1ebf_row1_col44 {\n",
       "  background-color: #70acd1;\n",
       "  color: #f1f1f1;\n",
       "}\n",
       "#T_e1ebf_row1_col45 {\n",
       "  background-color: #015443;\n",
       "  color: #f1f1f1;\n",
       "}\n",
       "#T_e1ebf_row1_col46 {\n",
       "  background-color: #d2d2e7;\n",
       "  color: #000000;\n",
       "}\n",
       "#T_e1ebf_row1_col49 {\n",
       "  background-color: #04828c;\n",
       "  color: #f1f1f1;\n",
       "}\n",
       "#T_e1ebf_row2_col43 {\n",
       "  background-color: #57a1ca;\n",
       "  color: #f1f1f1;\n",
       "}\n",
       "#T_e1ebf_row2_col44 {\n",
       "  background-color: #ebe1f0;\n",
       "  color: #000000;\n",
       "}\n",
       "#T_e1ebf_row2_col51 {\n",
       "  background-color: #d1d1e6;\n",
       "  color: #000000;\n",
       "}\n",
       "#T_e1ebf_row3_col46 {\n",
       "  background-color: #c0c9e2;\n",
       "  color: #000000;\n",
       "}\n",
       "#T_e1ebf_row3_col47 {\n",
       "  background-color: #015140;\n",
       "  color: #f1f1f1;\n",
       "}\n",
       "#T_e1ebf_row3_col49, #T_e1ebf_row4_col49 {\n",
       "  background-color: #098391;\n",
       "  color: #f1f1f1;\n",
       "}\n",
       "#T_e1ebf_row3_col52 {\n",
       "  background-color: #d4d4e7;\n",
       "  color: #000000;\n",
       "}\n",
       "#T_e1ebf_row3_col53 {\n",
       "  background-color: #01614f;\n",
       "  color: #f1f1f1;\n",
       "}\n",
       "#T_e1ebf_row4_col44 {\n",
       "  background-color: #adc1dd;\n",
       "  color: #000000;\n",
       "}\n",
       "#T_e1ebf_row4_col45 {\n",
       "  background-color: #14869d;\n",
       "  color: #f1f1f1;\n",
       "}\n",
       "#T_e1ebf_row4_col46 {\n",
       "  background-color: #a9bfdc;\n",
       "  color: #000000;\n",
       "}\n",
       "#T_e1ebf_row4_col47 {\n",
       "  background-color: #3a92c1;\n",
       "  color: #f1f1f1;\n",
       "}\n",
       "#T_e1ebf_row4_col48 {\n",
       "  background-color: #8cb5d6;\n",
       "  color: #000000;\n",
       "}\n",
       "#T_e1ebf_row4_col52 {\n",
       "  background-color: #d6d5e8;\n",
       "  color: #000000;\n",
       "}\n",
       "#T_e1ebf_row4_col53 {\n",
       "  background-color: #015f4d;\n",
       "  color: #f1f1f1;\n",
       "}\n",
       "</style>\n",
       "<table id=\"T_e1ebf\">\n",
       "  <thead>\n",
       "    <tr>\n",
       "      <th class=\"blank level0\" >&nbsp;</th>\n",
       "      <th id=\"T_e1ebf_level0_col0\" class=\"col_heading level0 col0\" >Geography_France</th>\n",
       "      <th id=\"T_e1ebf_level0_col1\" class=\"col_heading level0 col1\" >Geography_Germany</th>\n",
       "      <th id=\"T_e1ebf_level0_col2\" class=\"col_heading level0 col2\" >Geography_Spain</th>\n",
       "      <th id=\"T_e1ebf_level0_col3\" class=\"col_heading level0 col3\" >Gender_Female</th>\n",
       "      <th id=\"T_e1ebf_level0_col4\" class=\"col_heading level0 col4\" >NumOfProducts_1</th>\n",
       "      <th id=\"T_e1ebf_level0_col5\" class=\"col_heading level0 col5\" >NumOfProducts_2</th>\n",
       "      <th id=\"T_e1ebf_level0_col6\" class=\"col_heading level0 col6\" >NumOfProducts_3</th>\n",
       "      <th id=\"T_e1ebf_level0_col7\" class=\"col_heading level0 col7\" >NumOfProducts_4</th>\n",
       "      <th id=\"T_e1ebf_level0_col8\" class=\"col_heading level0 col8\" >HasCrCard_0.0</th>\n",
       "      <th id=\"T_e1ebf_level0_col9\" class=\"col_heading level0 col9\" >HasCrCard_1.0</th>\n",
       "      <th id=\"T_e1ebf_level0_col10\" class=\"col_heading level0 col10\" >IsActiveMember_0.0</th>\n",
       "      <th id=\"T_e1ebf_level0_col11\" class=\"col_heading level0 col11\" >IsActiveMember_1.0</th>\n",
       "      <th id=\"T_e1ebf_level0_col12\" class=\"col_heading level0 col12\" >Age_Category_18-30</th>\n",
       "      <th id=\"T_e1ebf_level0_col13\" class=\"col_heading level0 col13\" >Age_Category_30-40</th>\n",
       "      <th id=\"T_e1ebf_level0_col14\" class=\"col_heading level0 col14\" >Age_Category_40-50</th>\n",
       "      <th id=\"T_e1ebf_level0_col15\" class=\"col_heading level0 col15\" >Age_Category_50-60</th>\n",
       "      <th id=\"T_e1ebf_level0_col16\" class=\"col_heading level0 col16\" >Age_Category_60+</th>\n",
       "      <th id=\"T_e1ebf_level0_col17\" class=\"col_heading level0 col17\" >Credit_Score_Range_0-300</th>\n",
       "      <th id=\"T_e1ebf_level0_col18\" class=\"col_heading level0 col18\" >Credit_Score_Range_300-600</th>\n",
       "      <th id=\"T_e1ebf_level0_col19\" class=\"col_heading level0 col19\" >Credit_Score_Range_600-700</th>\n",
       "      <th id=\"T_e1ebf_level0_col20\" class=\"col_heading level0 col20\" >Credit_Score_Range_700-800</th>\n",
       "      <th id=\"T_e1ebf_level0_col21\" class=\"col_heading level0 col21\" >Credit_Score_Range_900+</th>\n",
       "      <th id=\"T_e1ebf_level0_col22\" class=\"col_heading level0 col22\" >Geo_Gender_France_Female</th>\n",
       "      <th id=\"T_e1ebf_level0_col23\" class=\"col_heading level0 col23\" >Geo_Gender_France_Male</th>\n",
       "      <th id=\"T_e1ebf_level0_col24\" class=\"col_heading level0 col24\" >Geo_Gender_Germany_Female</th>\n",
       "      <th id=\"T_e1ebf_level0_col25\" class=\"col_heading level0 col25\" >Geo_Gender_Germany_Male</th>\n",
       "      <th id=\"T_e1ebf_level0_col26\" class=\"col_heading level0 col26\" >Geo_Gender_Spain_Female</th>\n",
       "      <th id=\"T_e1ebf_level0_col27\" class=\"col_heading level0 col27\" >Geo_Gender_Spain_Male</th>\n",
       "      <th id=\"T_e1ebf_level0_col28\" class=\"col_heading level0 col28\" >Total_Products_Used_1.0</th>\n",
       "      <th id=\"T_e1ebf_level0_col29\" class=\"col_heading level0 col29\" >Total_Products_Used_2.0</th>\n",
       "      <th id=\"T_e1ebf_level0_col30\" class=\"col_heading level0 col30\" >Total_Products_Used_3.0</th>\n",
       "      <th id=\"T_e1ebf_level0_col31\" class=\"col_heading level0 col31\" >Total_Products_Used_4.0</th>\n",
       "      <th id=\"T_e1ebf_level0_col32\" class=\"col_heading level0 col32\" >Total_Products_Used_5.0</th>\n",
       "      <th id=\"T_e1ebf_level0_col33\" class=\"col_heading level0 col33\" >Tp_Gender_1.0Female</th>\n",
       "      <th id=\"T_e1ebf_level0_col34\" class=\"col_heading level0 col34\" >Tp_Gender_1.0Male</th>\n",
       "      <th id=\"T_e1ebf_level0_col35\" class=\"col_heading level0 col35\" >Tp_Gender_2.0Female</th>\n",
       "      <th id=\"T_e1ebf_level0_col36\" class=\"col_heading level0 col36\" >Tp_Gender_2.0Male</th>\n",
       "      <th id=\"T_e1ebf_level0_col37\" class=\"col_heading level0 col37\" >Tp_Gender_3.0Female</th>\n",
       "      <th id=\"T_e1ebf_level0_col38\" class=\"col_heading level0 col38\" >Tp_Gender_3.0Male</th>\n",
       "      <th id=\"T_e1ebf_level0_col39\" class=\"col_heading level0 col39\" >Tp_Gender_4.0Female</th>\n",
       "      <th id=\"T_e1ebf_level0_col40\" class=\"col_heading level0 col40\" >Tp_Gender_4.0Male</th>\n",
       "      <th id=\"T_e1ebf_level0_col41\" class=\"col_heading level0 col41\" >Tp_Gender_5.0Female</th>\n",
       "      <th id=\"T_e1ebf_level0_col42\" class=\"col_heading level0 col42\" >Tp_Gender_5.0Male</th>\n",
       "      <th id=\"T_e1ebf_level0_col43\" class=\"col_heading level0 col43\" >CreditScore</th>\n",
       "      <th id=\"T_e1ebf_level0_col44\" class=\"col_heading level0 col44\" >Age</th>\n",
       "      <th id=\"T_e1ebf_level0_col45\" class=\"col_heading level0 col45\" >Balance</th>\n",
       "      <th id=\"T_e1ebf_level0_col46\" class=\"col_heading level0 col46\" >EstimatedSalary</th>\n",
       "      <th id=\"T_e1ebf_level0_col47\" class=\"col_heading level0 col47\" >Balance_Salary_Ratio</th>\n",
       "      <th id=\"T_e1ebf_level0_col48\" class=\"col_heading level0 col48\" >Tenure</th>\n",
       "      <th id=\"T_e1ebf_level0_col49\" class=\"col_heading level0 col49\" >Surname_tfidf_0</th>\n",
       "      <th id=\"T_e1ebf_level0_col50\" class=\"col_heading level0 col50\" >Surname_tfidf_1</th>\n",
       "      <th id=\"T_e1ebf_level0_col51\" class=\"col_heading level0 col51\" >Surname_tfidf_2</th>\n",
       "      <th id=\"T_e1ebf_level0_col52\" class=\"col_heading level0 col52\" >Surname_tfidf_3</th>\n",
       "      <th id=\"T_e1ebf_level0_col53\" class=\"col_heading level0 col53\" >Surname_tfidf_4</th>\n",
       "      <th id=\"T_e1ebf_level0_col54\" class=\"col_heading level0 col54\" >Surname</th>\n",
       "    </tr>\n",
       "  </thead>\n",
       "  <tbody>\n",
       "    <tr>\n",
       "      <th id=\"T_e1ebf_level0_row0\" class=\"row_heading level0 row0\" >0</th>\n",
       "      <td id=\"T_e1ebf_row0_col0\" class=\"data row0 col0\" >0</td>\n",
       "      <td id=\"T_e1ebf_row0_col1\" class=\"data row0 col1\" >1</td>\n",
       "      <td id=\"T_e1ebf_row0_col2\" class=\"data row0 col2\" >0</td>\n",
       "      <td id=\"T_e1ebf_row0_col3\" class=\"data row0 col3\" >0</td>\n",
       "      <td id=\"T_e1ebf_row0_col4\" class=\"data row0 col4\" >1</td>\n",
       "      <td id=\"T_e1ebf_row0_col5\" class=\"data row0 col5\" >0</td>\n",
       "      <td id=\"T_e1ebf_row0_col6\" class=\"data row0 col6\" >0</td>\n",
       "      <td id=\"T_e1ebf_row0_col7\" class=\"data row0 col7\" >0</td>\n",
       "      <td id=\"T_e1ebf_row0_col8\" class=\"data row0 col8\" >0</td>\n",
       "      <td id=\"T_e1ebf_row0_col9\" class=\"data row0 col9\" >1</td>\n",
       "      <td id=\"T_e1ebf_row0_col10\" class=\"data row0 col10\" >1</td>\n",
       "      <td id=\"T_e1ebf_row0_col11\" class=\"data row0 col11\" >0</td>\n",
       "      <td id=\"T_e1ebf_row0_col12\" class=\"data row0 col12\" >1</td>\n",
       "      <td id=\"T_e1ebf_row0_col13\" class=\"data row0 col13\" >0</td>\n",
       "      <td id=\"T_e1ebf_row0_col14\" class=\"data row0 col14\" >0</td>\n",
       "      <td id=\"T_e1ebf_row0_col15\" class=\"data row0 col15\" >0</td>\n",
       "      <td id=\"T_e1ebf_row0_col16\" class=\"data row0 col16\" >0</td>\n",
       "      <td id=\"T_e1ebf_row0_col17\" class=\"data row0 col17\" >0</td>\n",
       "      <td id=\"T_e1ebf_row0_col18\" class=\"data row0 col18\" >0</td>\n",
       "      <td id=\"T_e1ebf_row0_col19\" class=\"data row0 col19\" >1</td>\n",
       "      <td id=\"T_e1ebf_row0_col20\" class=\"data row0 col20\" >0</td>\n",
       "      <td id=\"T_e1ebf_row0_col21\" class=\"data row0 col21\" >0</td>\n",
       "      <td id=\"T_e1ebf_row0_col22\" class=\"data row0 col22\" >0</td>\n",
       "      <td id=\"T_e1ebf_row0_col23\" class=\"data row0 col23\" >0</td>\n",
       "      <td id=\"T_e1ebf_row0_col24\" class=\"data row0 col24\" >0</td>\n",
       "      <td id=\"T_e1ebf_row0_col25\" class=\"data row0 col25\" >1</td>\n",
       "      <td id=\"T_e1ebf_row0_col26\" class=\"data row0 col26\" >0</td>\n",
       "      <td id=\"T_e1ebf_row0_col27\" class=\"data row0 col27\" >0</td>\n",
       "      <td id=\"T_e1ebf_row0_col28\" class=\"data row0 col28\" >0</td>\n",
       "      <td id=\"T_e1ebf_row0_col29\" class=\"data row0 col29\" >1</td>\n",
       "      <td id=\"T_e1ebf_row0_col30\" class=\"data row0 col30\" >0</td>\n",
       "      <td id=\"T_e1ebf_row0_col31\" class=\"data row0 col31\" >0</td>\n",
       "      <td id=\"T_e1ebf_row0_col32\" class=\"data row0 col32\" >0</td>\n",
       "      <td id=\"T_e1ebf_row0_col33\" class=\"data row0 col33\" >0</td>\n",
       "      <td id=\"T_e1ebf_row0_col34\" class=\"data row0 col34\" >0</td>\n",
       "      <td id=\"T_e1ebf_row0_col35\" class=\"data row0 col35\" >0</td>\n",
       "      <td id=\"T_e1ebf_row0_col36\" class=\"data row0 col36\" >1</td>\n",
       "      <td id=\"T_e1ebf_row0_col37\" class=\"data row0 col37\" >0</td>\n",
       "      <td id=\"T_e1ebf_row0_col38\" class=\"data row0 col38\" >0</td>\n",
       "      <td id=\"T_e1ebf_row0_col39\" class=\"data row0 col39\" >0</td>\n",
       "      <td id=\"T_e1ebf_row0_col40\" class=\"data row0 col40\" >0</td>\n",
       "      <td id=\"T_e1ebf_row0_col41\" class=\"data row0 col41\" >0</td>\n",
       "      <td id=\"T_e1ebf_row0_col42\" class=\"data row0 col42\" >0</td>\n",
       "      <td id=\"T_e1ebf_row0_col43\" class=\"data row0 col43\" >-0.284857</td>\n",
       "      <td id=\"T_e1ebf_row0_col44\" class=\"data row0 col44\" >-0.911004</td>\n",
       "      <td id=\"T_e1ebf_row0_col45\" class=\"data row0 col45\" >1.180590</td>\n",
       "      <td id=\"T_e1ebf_row0_col46\" class=\"data row0 col46\" >1.329810</td>\n",
       "      <td id=\"T_e1ebf_row0_col47\" class=\"data row0 col47\" >-0.015886</td>\n",
       "      <td id=\"T_e1ebf_row0_col48\" class=\"data row0 col48\" >-0.718550</td>\n",
       "      <td id=\"T_e1ebf_row0_col49\" class=\"data row0 col49\" >-0.219500</td>\n",
       "      <td id=\"T_e1ebf_row0_col50\" class=\"data row0 col50\" >-0.123400</td>\n",
       "      <td id=\"T_e1ebf_row0_col51\" class=\"data row0 col51\" >0.079102</td>\n",
       "      <td id=\"T_e1ebf_row0_col52\" class=\"data row0 col52\" >-0.138387</td>\n",
       "      <td id=\"T_e1ebf_row0_col53\" class=\"data row0 col53\" >-0.037752</td>\n",
       "      <td id=\"T_e1ebf_row0_col54\" class=\"data row0 col54\" >0.005222</td>\n",
       "    </tr>\n",
       "    <tr>\n",
       "      <th id=\"T_e1ebf_level0_row1\" class=\"row_heading level0 row1\" >1</th>\n",
       "      <td id=\"T_e1ebf_row1_col0\" class=\"data row1 col0\" >1</td>\n",
       "      <td id=\"T_e1ebf_row1_col1\" class=\"data row1 col1\" >0</td>\n",
       "      <td id=\"T_e1ebf_row1_col2\" class=\"data row1 col2\" >0</td>\n",
       "      <td id=\"T_e1ebf_row1_col3\" class=\"data row1 col3\" >0</td>\n",
       "      <td id=\"T_e1ebf_row1_col4\" class=\"data row1 col4\" >1</td>\n",
       "      <td id=\"T_e1ebf_row1_col5\" class=\"data row1 col5\" >0</td>\n",
       "      <td id=\"T_e1ebf_row1_col6\" class=\"data row1 col6\" >0</td>\n",
       "      <td id=\"T_e1ebf_row1_col7\" class=\"data row1 col7\" >0</td>\n",
       "      <td id=\"T_e1ebf_row1_col8\" class=\"data row1 col8\" >0</td>\n",
       "      <td id=\"T_e1ebf_row1_col9\" class=\"data row1 col9\" >1</td>\n",
       "      <td id=\"T_e1ebf_row1_col10\" class=\"data row1 col10\" >1</td>\n",
       "      <td id=\"T_e1ebf_row1_col11\" class=\"data row1 col11\" >0</td>\n",
       "      <td id=\"T_e1ebf_row1_col12\" class=\"data row1 col12\" >0</td>\n",
       "      <td id=\"T_e1ebf_row1_col13\" class=\"data row1 col13\" >0</td>\n",
       "      <td id=\"T_e1ebf_row1_col14\" class=\"data row1 col14\" >1</td>\n",
       "      <td id=\"T_e1ebf_row1_col15\" class=\"data row1 col15\" >0</td>\n",
       "      <td id=\"T_e1ebf_row1_col16\" class=\"data row1 col16\" >0</td>\n",
       "      <td id=\"T_e1ebf_row1_col17\" class=\"data row1 col17\" >0</td>\n",
       "      <td id=\"T_e1ebf_row1_col18\" class=\"data row1 col18\" >0</td>\n",
       "      <td id=\"T_e1ebf_row1_col19\" class=\"data row1 col19\" >1</td>\n",
       "      <td id=\"T_e1ebf_row1_col20\" class=\"data row1 col20\" >0</td>\n",
       "      <td id=\"T_e1ebf_row1_col21\" class=\"data row1 col21\" >0</td>\n",
       "      <td id=\"T_e1ebf_row1_col22\" class=\"data row1 col22\" >0</td>\n",
       "      <td id=\"T_e1ebf_row1_col23\" class=\"data row1 col23\" >1</td>\n",
       "      <td id=\"T_e1ebf_row1_col24\" class=\"data row1 col24\" >0</td>\n",
       "      <td id=\"T_e1ebf_row1_col25\" class=\"data row1 col25\" >0</td>\n",
       "      <td id=\"T_e1ebf_row1_col26\" class=\"data row1 col26\" >0</td>\n",
       "      <td id=\"T_e1ebf_row1_col27\" class=\"data row1 col27\" >0</td>\n",
       "      <td id=\"T_e1ebf_row1_col28\" class=\"data row1 col28\" >0</td>\n",
       "      <td id=\"T_e1ebf_row1_col29\" class=\"data row1 col29\" >1</td>\n",
       "      <td id=\"T_e1ebf_row1_col30\" class=\"data row1 col30\" >0</td>\n",
       "      <td id=\"T_e1ebf_row1_col31\" class=\"data row1 col31\" >0</td>\n",
       "      <td id=\"T_e1ebf_row1_col32\" class=\"data row1 col32\" >0</td>\n",
       "      <td id=\"T_e1ebf_row1_col33\" class=\"data row1 col33\" >0</td>\n",
       "      <td id=\"T_e1ebf_row1_col34\" class=\"data row1 col34\" >0</td>\n",
       "      <td id=\"T_e1ebf_row1_col35\" class=\"data row1 col35\" >0</td>\n",
       "      <td id=\"T_e1ebf_row1_col36\" class=\"data row1 col36\" >1</td>\n",
       "      <td id=\"T_e1ebf_row1_col37\" class=\"data row1 col37\" >0</td>\n",
       "      <td id=\"T_e1ebf_row1_col38\" class=\"data row1 col38\" >0</td>\n",
       "      <td id=\"T_e1ebf_row1_col39\" class=\"data row1 col39\" >0</td>\n",
       "      <td id=\"T_e1ebf_row1_col40\" class=\"data row1 col40\" >0</td>\n",
       "      <td id=\"T_e1ebf_row1_col41\" class=\"data row1 col41\" >0</td>\n",
       "      <td id=\"T_e1ebf_row1_col42\" class=\"data row1 col42\" >0</td>\n",
       "      <td id=\"T_e1ebf_row1_col43\" class=\"data row1 col43\" >-0.235565</td>\n",
       "      <td id=\"T_e1ebf_row1_col44\" class=\"data row1 col44\" >0.761327</td>\n",
       "      <td id=\"T_e1ebf_row1_col45\" class=\"data row1 col45\" >1.334075</td>\n",
       "      <td id=\"T_e1ebf_row1_col46\" class=\"data row1 col46\" >-0.597928</td>\n",
       "      <td id=\"T_e1ebf_row1_col47\" class=\"data row1 col47\" >-0.005132</td>\n",
       "      <td id=\"T_e1ebf_row1_col48\" class=\"data row1 col48\" >1.415827</td>\n",
       "      <td id=\"T_e1ebf_row1_col49\" class=\"data row1 col49\" >-0.222856</td>\n",
       "      <td id=\"T_e1ebf_row1_col50\" class=\"data row1 col50\" >8.350583</td>\n",
       "      <td id=\"T_e1ebf_row1_col51\" class=\"data row1 col51\" >0.150801</td>\n",
       "      <td id=\"T_e1ebf_row1_col52\" class=\"data row1 col52\" >-0.152640</td>\n",
       "      <td id=\"T_e1ebf_row1_col53\" class=\"data row1 col53\" >-0.000150</td>\n",
       "      <td id=\"T_e1ebf_row1_col54\" class=\"data row1 col54\" >0.014135</td>\n",
       "    </tr>\n",
       "    <tr>\n",
       "      <th id=\"T_e1ebf_level0_row2\" class=\"row_heading level0 row2\" >2</th>\n",
       "      <td id=\"T_e1ebf_row2_col0\" class=\"data row2 col0\" >1</td>\n",
       "      <td id=\"T_e1ebf_row2_col1\" class=\"data row2 col1\" >0</td>\n",
       "      <td id=\"T_e1ebf_row2_col2\" class=\"data row2 col2\" >0</td>\n",
       "      <td id=\"T_e1ebf_row2_col3\" class=\"data row2 col3\" >0</td>\n",
       "      <td id=\"T_e1ebf_row2_col4\" class=\"data row2 col4\" >0</td>\n",
       "      <td id=\"T_e1ebf_row2_col5\" class=\"data row2 col5\" >1</td>\n",
       "      <td id=\"T_e1ebf_row2_col6\" class=\"data row2 col6\" >0</td>\n",
       "      <td id=\"T_e1ebf_row2_col7\" class=\"data row2 col7\" >0</td>\n",
       "      <td id=\"T_e1ebf_row2_col8\" class=\"data row2 col8\" >0</td>\n",
       "      <td id=\"T_e1ebf_row2_col9\" class=\"data row2 col9\" >1</td>\n",
       "      <td id=\"T_e1ebf_row2_col10\" class=\"data row2 col10\" >0</td>\n",
       "      <td id=\"T_e1ebf_row2_col11\" class=\"data row2 col11\" >1</td>\n",
       "      <td id=\"T_e1ebf_row2_col12\" class=\"data row2 col12\" >0</td>\n",
       "      <td id=\"T_e1ebf_row2_col13\" class=\"data row2 col13\" >1</td>\n",
       "      <td id=\"T_e1ebf_row2_col14\" class=\"data row2 col14\" >0</td>\n",
       "      <td id=\"T_e1ebf_row2_col15\" class=\"data row2 col15\" >0</td>\n",
       "      <td id=\"T_e1ebf_row2_col16\" class=\"data row2 col16\" >0</td>\n",
       "      <td id=\"T_e1ebf_row2_col17\" class=\"data row2 col17\" >0</td>\n",
       "      <td id=\"T_e1ebf_row2_col18\" class=\"data row2 col18\" >0</td>\n",
       "      <td id=\"T_e1ebf_row2_col19\" class=\"data row2 col19\" >1</td>\n",
       "      <td id=\"T_e1ebf_row2_col20\" class=\"data row2 col20\" >0</td>\n",
       "      <td id=\"T_e1ebf_row2_col21\" class=\"data row2 col21\" >0</td>\n",
       "      <td id=\"T_e1ebf_row2_col22\" class=\"data row2 col22\" >0</td>\n",
       "      <td id=\"T_e1ebf_row2_col23\" class=\"data row2 col23\" >1</td>\n",
       "      <td id=\"T_e1ebf_row2_col24\" class=\"data row2 col24\" >0</td>\n",
       "      <td id=\"T_e1ebf_row2_col25\" class=\"data row2 col25\" >0</td>\n",
       "      <td id=\"T_e1ebf_row2_col26\" class=\"data row2 col26\" >0</td>\n",
       "      <td id=\"T_e1ebf_row2_col27\" class=\"data row2 col27\" >0</td>\n",
       "      <td id=\"T_e1ebf_row2_col28\" class=\"data row2 col28\" >0</td>\n",
       "      <td id=\"T_e1ebf_row2_col29\" class=\"data row2 col29\" >0</td>\n",
       "      <td id=\"T_e1ebf_row2_col30\" class=\"data row2 col30\" >1</td>\n",
       "      <td id=\"T_e1ebf_row2_col31\" class=\"data row2 col31\" >0</td>\n",
       "      <td id=\"T_e1ebf_row2_col32\" class=\"data row2 col32\" >0</td>\n",
       "      <td id=\"T_e1ebf_row2_col33\" class=\"data row2 col33\" >0</td>\n",
       "      <td id=\"T_e1ebf_row2_col34\" class=\"data row2 col34\" >0</td>\n",
       "      <td id=\"T_e1ebf_row2_col35\" class=\"data row2 col35\" >0</td>\n",
       "      <td id=\"T_e1ebf_row2_col36\" class=\"data row2 col36\" >0</td>\n",
       "      <td id=\"T_e1ebf_row2_col37\" class=\"data row2 col37\" >0</td>\n",
       "      <td id=\"T_e1ebf_row2_col38\" class=\"data row2 col38\" >1</td>\n",
       "      <td id=\"T_e1ebf_row2_col39\" class=\"data row2 col39\" >0</td>\n",
       "      <td id=\"T_e1ebf_row2_col40\" class=\"data row2 col40\" >0</td>\n",
       "      <td id=\"T_e1ebf_row2_col41\" class=\"data row2 col41\" >0</td>\n",
       "      <td id=\"T_e1ebf_row2_col42\" class=\"data row2 col42\" >0</td>\n",
       "      <td id=\"T_e1ebf_row2_col43\" class=\"data row2 col43\" >-0.457378</td>\n",
       "      <td id=\"T_e1ebf_row2_col44\" class=\"data row2 col44\" >-0.465049</td>\n",
       "      <td id=\"T_e1ebf_row2_col45\" class=\"data row2 col45\" >-0.899905</td>\n",
       "      <td id=\"T_e1ebf_row2_col46\" class=\"data row2 col46\" >-1.206018</td>\n",
       "      <td id=\"T_e1ebf_row2_col47\" class=\"data row2 col47\" >-0.023765</td>\n",
       "      <td id=\"T_e1ebf_row2_col48\" class=\"data row2 col48\" >-1.074279</td>\n",
       "      <td id=\"T_e1ebf_row2_col49\" class=\"data row2 col49\" >-0.232669</td>\n",
       "      <td id=\"T_e1ebf_row2_col50\" class=\"data row2 col50\" >-0.103687</td>\n",
       "      <td id=\"T_e1ebf_row2_col51\" class=\"data row2 col51\" >0.089362</td>\n",
       "      <td id=\"T_e1ebf_row2_col52\" class=\"data row2 col52\" >-0.098171</td>\n",
       "      <td id=\"T_e1ebf_row2_col53\" class=\"data row2 col53\" >-0.219186</td>\n",
       "      <td id=\"T_e1ebf_row2_col54\" class=\"data row2 col54\" >0.006433</td>\n",
       "    </tr>\n",
       "    <tr>\n",
       "      <th id=\"T_e1ebf_level0_row3\" class=\"row_heading level0 row3\" >3</th>\n",
       "      <td id=\"T_e1ebf_row3_col0\" class=\"data row3 col0\" >0</td>\n",
       "      <td id=\"T_e1ebf_row3_col1\" class=\"data row3 col1\" >0</td>\n",
       "      <td id=\"T_e1ebf_row3_col2\" class=\"data row3 col2\" >1</td>\n",
       "      <td id=\"T_e1ebf_row3_col3\" class=\"data row3 col3\" >1</td>\n",
       "      <td id=\"T_e1ebf_row3_col4\" class=\"data row3 col4\" >1</td>\n",
       "      <td id=\"T_e1ebf_row3_col5\" class=\"data row3 col5\" >0</td>\n",
       "      <td id=\"T_e1ebf_row3_col6\" class=\"data row3 col6\" >0</td>\n",
       "      <td id=\"T_e1ebf_row3_col7\" class=\"data row3 col7\" >0</td>\n",
       "      <td id=\"T_e1ebf_row3_col8\" class=\"data row3 col8\" >1</td>\n",
       "      <td id=\"T_e1ebf_row3_col9\" class=\"data row3 col9\" >0</td>\n",
       "      <td id=\"T_e1ebf_row3_col10\" class=\"data row3 col10\" >0</td>\n",
       "      <td id=\"T_e1ebf_row3_col11\" class=\"data row3 col11\" >1</td>\n",
       "      <td id=\"T_e1ebf_row3_col12\" class=\"data row3 col12\" >0</td>\n",
       "      <td id=\"T_e1ebf_row3_col13\" class=\"data row3 col13\" >0</td>\n",
       "      <td id=\"T_e1ebf_row3_col14\" class=\"data row3 col14\" >0</td>\n",
       "      <td id=\"T_e1ebf_row3_col15\" class=\"data row3 col15\" >0</td>\n",
       "      <td id=\"T_e1ebf_row3_col16\" class=\"data row3 col16\" >1</td>\n",
       "      <td id=\"T_e1ebf_row3_col17\" class=\"data row3 col17\" >0</td>\n",
       "      <td id=\"T_e1ebf_row3_col18\" class=\"data row3 col18\" >1</td>\n",
       "      <td id=\"T_e1ebf_row3_col19\" class=\"data row3 col19\" >0</td>\n",
       "      <td id=\"T_e1ebf_row3_col20\" class=\"data row3 col20\" >0</td>\n",
       "      <td id=\"T_e1ebf_row3_col21\" class=\"data row3 col21\" >0</td>\n",
       "      <td id=\"T_e1ebf_row3_col22\" class=\"data row3 col22\" >0</td>\n",
       "      <td id=\"T_e1ebf_row3_col23\" class=\"data row3 col23\" >0</td>\n",
       "      <td id=\"T_e1ebf_row3_col24\" class=\"data row3 col24\" >0</td>\n",
       "      <td id=\"T_e1ebf_row3_col25\" class=\"data row3 col25\" >0</td>\n",
       "      <td id=\"T_e1ebf_row3_col26\" class=\"data row3 col26\" >1</td>\n",
       "      <td id=\"T_e1ebf_row3_col27\" class=\"data row3 col27\" >0</td>\n",
       "      <td id=\"T_e1ebf_row3_col28\" class=\"data row3 col28\" >1</td>\n",
       "      <td id=\"T_e1ebf_row3_col29\" class=\"data row3 col29\" >0</td>\n",
       "      <td id=\"T_e1ebf_row3_col30\" class=\"data row3 col30\" >0</td>\n",
       "      <td id=\"T_e1ebf_row3_col31\" class=\"data row3 col31\" >0</td>\n",
       "      <td id=\"T_e1ebf_row3_col32\" class=\"data row3 col32\" >0</td>\n",
       "      <td id=\"T_e1ebf_row3_col33\" class=\"data row3 col33\" >1</td>\n",
       "      <td id=\"T_e1ebf_row3_col34\" class=\"data row3 col34\" >0</td>\n",
       "      <td id=\"T_e1ebf_row3_col35\" class=\"data row3 col35\" >0</td>\n",
       "      <td id=\"T_e1ebf_row3_col36\" class=\"data row3 col36\" >0</td>\n",
       "      <td id=\"T_e1ebf_row3_col37\" class=\"data row3 col37\" >0</td>\n",
       "      <td id=\"T_e1ebf_row3_col38\" class=\"data row3 col38\" >0</td>\n",
       "      <td id=\"T_e1ebf_row3_col39\" class=\"data row3 col39\" >0</td>\n",
       "      <td id=\"T_e1ebf_row3_col40\" class=\"data row3 col40\" >0</td>\n",
       "      <td id=\"T_e1ebf_row3_col41\" class=\"data row3 col41\" >0</td>\n",
       "      <td id=\"T_e1ebf_row3_col42\" class=\"data row3 col42\" >0</td>\n",
       "      <td id=\"T_e1ebf_row3_col43\" class=\"data row3 col43\" >-1.443215</td>\n",
       "      <td id=\"T_e1ebf_row3_col44\" class=\"data row3 col44\" >2.545148</td>\n",
       "      <td id=\"T_e1ebf_row3_col45\" class=\"data row3 col45\" >1.447309</td>\n",
       "      <td id=\"T_e1ebf_row3_col46\" class=\"data row3 col46\" >-0.451066</td>\n",
       "      <td id=\"T_e1ebf_row3_col47\" class=\"data row3 col47\" >-0.005830</td>\n",
       "      <td id=\"T_e1ebf_row3_col48\" class=\"data row3 col48\" >-0.718550</td>\n",
       "      <td id=\"T_e1ebf_row3_col49\" class=\"data row3 col49\" >-0.223007</td>\n",
       "      <td id=\"T_e1ebf_row3_col50\" class=\"data row3 col50\" >-0.120411</td>\n",
       "      <td id=\"T_e1ebf_row3_col51\" class=\"data row3 col51\" >0.068981</td>\n",
       "      <td id=\"T_e1ebf_row3_col52\" class=\"data row3 col52\" >-0.140083</td>\n",
       "      <td id=\"T_e1ebf_row3_col53\" class=\"data row3 col53\" >-0.019983</td>\n",
       "      <td id=\"T_e1ebf_row3_col54\" class=\"data row3 col54\" >0.002382</td>\n",
       "    </tr>\n",
       "    <tr>\n",
       "      <th id=\"T_e1ebf_level0_row4\" class=\"row_heading level0 row4\" >4</th>\n",
       "      <td id=\"T_e1ebf_row4_col0\" class=\"data row4 col0\" >0</td>\n",
       "      <td id=\"T_e1ebf_row4_col1\" class=\"data row4 col1\" >1</td>\n",
       "      <td id=\"T_e1ebf_row4_col2\" class=\"data row4 col2\" >0</td>\n",
       "      <td id=\"T_e1ebf_row4_col3\" class=\"data row4 col3\" >0</td>\n",
       "      <td id=\"T_e1ebf_row4_col4\" class=\"data row4 col4\" >1</td>\n",
       "      <td id=\"T_e1ebf_row4_col5\" class=\"data row4 col5\" >0</td>\n",
       "      <td id=\"T_e1ebf_row4_col6\" class=\"data row4 col6\" >0</td>\n",
       "      <td id=\"T_e1ebf_row4_col7\" class=\"data row4 col7\" >0</td>\n",
       "      <td id=\"T_e1ebf_row4_col8\" class=\"data row4 col8\" >0</td>\n",
       "      <td id=\"T_e1ebf_row4_col9\" class=\"data row4 col9\" >1</td>\n",
       "      <td id=\"T_e1ebf_row4_col10\" class=\"data row4 col10\" >1</td>\n",
       "      <td id=\"T_e1ebf_row4_col11\" class=\"data row4 col11\" >0</td>\n",
       "      <td id=\"T_e1ebf_row4_col12\" class=\"data row4 col12\" >0</td>\n",
       "      <td id=\"T_e1ebf_row4_col13\" class=\"data row4 col13\" >0</td>\n",
       "      <td id=\"T_e1ebf_row4_col14\" class=\"data row4 col14\" >1</td>\n",
       "      <td id=\"T_e1ebf_row4_col15\" class=\"data row4 col15\" >0</td>\n",
       "      <td id=\"T_e1ebf_row4_col16\" class=\"data row4 col16\" >0</td>\n",
       "      <td id=\"T_e1ebf_row4_col17\" class=\"data row4 col17\" >0</td>\n",
       "      <td id=\"T_e1ebf_row4_col18\" class=\"data row4 col18\" >0</td>\n",
       "      <td id=\"T_e1ebf_row4_col19\" class=\"data row4 col19\" >1</td>\n",
       "      <td id=\"T_e1ebf_row4_col20\" class=\"data row4 col20\" >0</td>\n",
       "      <td id=\"T_e1ebf_row4_col21\" class=\"data row4 col21\" >0</td>\n",
       "      <td id=\"T_e1ebf_row4_col22\" class=\"data row4 col22\" >0</td>\n",
       "      <td id=\"T_e1ebf_row4_col23\" class=\"data row4 col23\" >0</td>\n",
       "      <td id=\"T_e1ebf_row4_col24\" class=\"data row4 col24\" >0</td>\n",
       "      <td id=\"T_e1ebf_row4_col25\" class=\"data row4 col25\" >1</td>\n",
       "      <td id=\"T_e1ebf_row4_col26\" class=\"data row4 col26\" >0</td>\n",
       "      <td id=\"T_e1ebf_row4_col27\" class=\"data row4 col27\" >0</td>\n",
       "      <td id=\"T_e1ebf_row4_col28\" class=\"data row4 col28\" >0</td>\n",
       "      <td id=\"T_e1ebf_row4_col29\" class=\"data row4 col29\" >1</td>\n",
       "      <td id=\"T_e1ebf_row4_col30\" class=\"data row4 col30\" >0</td>\n",
       "      <td id=\"T_e1ebf_row4_col31\" class=\"data row4 col31\" >0</td>\n",
       "      <td id=\"T_e1ebf_row4_col32\" class=\"data row4 col32\" >0</td>\n",
       "      <td id=\"T_e1ebf_row4_col33\" class=\"data row4 col33\" >0</td>\n",
       "      <td id=\"T_e1ebf_row4_col34\" class=\"data row4 col34\" >0</td>\n",
       "      <td id=\"T_e1ebf_row4_col35\" class=\"data row4 col35\" >0</td>\n",
       "      <td id=\"T_e1ebf_row4_col36\" class=\"data row4 col36\" >1</td>\n",
       "      <td id=\"T_e1ebf_row4_col37\" class=\"data row4 col37\" >0</td>\n",
       "      <td id=\"T_e1ebf_row4_col38\" class=\"data row4 col38\" >0</td>\n",
       "      <td id=\"T_e1ebf_row4_col39\" class=\"data row4 col39\" >0</td>\n",
       "      <td id=\"T_e1ebf_row4_col40\" class=\"data row4 col40\" >0</td>\n",
       "      <td id=\"T_e1ebf_row4_col41\" class=\"data row4 col41\" >0</td>\n",
       "      <td id=\"T_e1ebf_row4_col42\" class=\"data row4 col42\" >0</td>\n",
       "      <td id=\"T_e1ebf_row4_col43\" class=\"data row4 col43\" >0.380583</td>\n",
       "      <td id=\"T_e1ebf_row4_col44\" class=\"data row4 col44\" >0.315372</td>\n",
       "      <td id=\"T_e1ebf_row4_col45\" class=\"data row4 col45\" >0.751627</td>\n",
       "      <td id=\"T_e1ebf_row4_col46\" class=\"data row4 col46\" >-0.280213</td>\n",
       "      <td id=\"T_e1ebf_row4_col47\" class=\"data row4 col47\" >-0.012268</td>\n",
       "      <td id=\"T_e1ebf_row4_col48\" class=\"data row4 col48\" >-0.007091</td>\n",
       "      <td id=\"T_e1ebf_row4_col49\" class=\"data row4 col49\" >-0.223023</td>\n",
       "      <td id=\"T_e1ebf_row4_col50\" class=\"data row4 col50\" >-0.120291</td>\n",
       "      <td id=\"T_e1ebf_row4_col51\" class=\"data row4 col51\" >0.068982</td>\n",
       "      <td id=\"T_e1ebf_row4_col52\" class=\"data row4 col52\" >-0.140323</td>\n",
       "      <td id=\"T_e1ebf_row4_col53\" class=\"data row4 col53\" >-0.018925</td>\n",
       "      <td id=\"T_e1ebf_row4_col54\" class=\"data row4 col54\" >0.000748</td>\n",
       "    </tr>\n",
       "  </tbody>\n",
       "</table>\n"
      ],
      "text/plain": [
       "<pandas.io.formats.style.Styler at 0x7ec7a8eb0e50>"
      ]
     },
     "execution_count": 38,
     "metadata": {},
     "output_type": "execute_result"
    }
   ],
   "source": [
    "train_df_1 = pd.concat([ohe_train, scaled_train, df['Surname']], axis =1)\n",
    "test_df = pd.concat([ohe_test, scaled_test, test_df['Surname']], axis =1)\n",
    "set_frame_style(train_df_1.head())"
   ]
  },
  {
   "cell_type": "code",
   "execution_count": 39,
   "id": "ef54e10b",
   "metadata": {
    "execution": {
     "iopub.execute_input": "2024-01-31T18:45:13.879596Z",
     "iopub.status.busy": "2024-01-31T18:45:13.879170Z",
     "iopub.status.idle": "2024-01-31T18:45:13.905150Z",
     "shell.execute_reply": "2024-01-31T18:45:13.904078Z"
    },
    "papermill": {
     "duration": 0.066381,
     "end_time": "2024-01-31T18:45:13.908034",
     "exception": false,
     "start_time": "2024-01-31T18:45:13.841653",
     "status": "completed"
    },
    "tags": []
   },
   "outputs": [
    {
     "name": "stdout",
     "output_type": "stream",
     "text": [
      "<class 'pandas.core.frame.DataFrame'>\n",
      "RangeIndex: 175032 entries, 0 to 175031\n",
      "Data columns (total 55 columns):\n",
      " #   Column                      Non-Null Count   Dtype  \n",
      "---  ------                      --------------   -----  \n",
      " 0   Geography_France            175032 non-null  int64  \n",
      " 1   Geography_Germany           175032 non-null  int64  \n",
      " 2   Geography_Spain             175032 non-null  int64  \n",
      " 3   Gender_Female               175032 non-null  int64  \n",
      " 4   NumOfProducts_1             175032 non-null  int64  \n",
      " 5   NumOfProducts_2             175032 non-null  int64  \n",
      " 6   NumOfProducts_3             175032 non-null  int64  \n",
      " 7   NumOfProducts_4             175032 non-null  int64  \n",
      " 8   HasCrCard_0.0               175032 non-null  int64  \n",
      " 9   HasCrCard_1.0               175032 non-null  int64  \n",
      " 10  IsActiveMember_0.0          175032 non-null  int64  \n",
      " 11  IsActiveMember_1.0          175032 non-null  int64  \n",
      " 12  Age_Category_18-30          175032 non-null  int64  \n",
      " 13  Age_Category_30-40          175032 non-null  int64  \n",
      " 14  Age_Category_40-50          175032 non-null  int64  \n",
      " 15  Age_Category_50-60          175032 non-null  int64  \n",
      " 16  Age_Category_60+            175032 non-null  int64  \n",
      " 17  Credit_Score_Range_0-300    175032 non-null  int64  \n",
      " 18  Credit_Score_Range_300-600  175032 non-null  int64  \n",
      " 19  Credit_Score_Range_600-700  175032 non-null  int64  \n",
      " 20  Credit_Score_Range_700-800  175032 non-null  int64  \n",
      " 21  Credit_Score_Range_900+     175032 non-null  int64  \n",
      " 22  Geo_Gender_France_Female    175032 non-null  int64  \n",
      " 23  Geo_Gender_France_Male      175032 non-null  int64  \n",
      " 24  Geo_Gender_Germany_Female   175032 non-null  int64  \n",
      " 25  Geo_Gender_Germany_Male     175032 non-null  int64  \n",
      " 26  Geo_Gender_Spain_Female     175032 non-null  int64  \n",
      " 27  Geo_Gender_Spain_Male       175032 non-null  int64  \n",
      " 28  Total_Products_Used_1.0     175032 non-null  int64  \n",
      " 29  Total_Products_Used_2.0     175032 non-null  int64  \n",
      " 30  Total_Products_Used_3.0     175032 non-null  int64  \n",
      " 31  Total_Products_Used_4.0     175032 non-null  int64  \n",
      " 32  Total_Products_Used_5.0     175032 non-null  int64  \n",
      " 33  Tp_Gender_1.0Female         175032 non-null  int64  \n",
      " 34  Tp_Gender_1.0Male           175032 non-null  int64  \n",
      " 35  Tp_Gender_2.0Female         175032 non-null  int64  \n",
      " 36  Tp_Gender_2.0Male           175032 non-null  int64  \n",
      " 37  Tp_Gender_3.0Female         175032 non-null  int64  \n",
      " 38  Tp_Gender_3.0Male           175032 non-null  int64  \n",
      " 39  Tp_Gender_4.0Female         175032 non-null  int64  \n",
      " 40  Tp_Gender_4.0Male           175032 non-null  int64  \n",
      " 41  Tp_Gender_5.0Female         175032 non-null  int64  \n",
      " 42  Tp_Gender_5.0Male           175032 non-null  int64  \n",
      " 43  CreditScore                 175032 non-null  float64\n",
      " 44  Age                         175032 non-null  float64\n",
      " 45  Balance                     175032 non-null  float64\n",
      " 46  EstimatedSalary             175032 non-null  float64\n",
      " 47  Balance_Salary_Ratio        175032 non-null  float64\n",
      " 48  Tenure                      175032 non-null  float64\n",
      " 49  Surname_tfidf_0             175032 non-null  float64\n",
      " 50  Surname_tfidf_1             175032 non-null  float64\n",
      " 51  Surname_tfidf_2             175032 non-null  float64\n",
      " 52  Surname_tfidf_3             175032 non-null  float64\n",
      " 53  Surname_tfidf_4             175032 non-null  float64\n",
      " 54  Surname                     175032 non-null  float64\n",
      "dtypes: float64(12), int64(43)\n",
      "memory usage: 73.4 MB\n"
     ]
    }
   ],
   "source": [
    "train_df_1.info()"
   ]
  },
  {
   "cell_type": "code",
   "execution_count": 40,
   "id": "21da3947",
   "metadata": {
    "execution": {
     "iopub.execute_input": "2024-01-31T18:45:13.980790Z",
     "iopub.status.busy": "2024-01-31T18:45:13.980416Z",
     "iopub.status.idle": "2024-01-31T18:45:13.986990Z",
     "shell.execute_reply": "2024-01-31T18:45:13.985925Z"
    },
    "papermill": {
     "duration": 0.045653,
     "end_time": "2024-01-31T18:45:13.989137",
     "exception": false,
     "start_time": "2024-01-31T18:45:13.943484",
     "status": "completed"
    },
    "tags": []
   },
   "outputs": [
    {
     "data": {
      "text/plain": [
       "(175032, 55)"
      ]
     },
     "execution_count": 40,
     "metadata": {},
     "output_type": "execute_result"
    }
   ],
   "source": [
    "train_df_1.shape"
   ]
  },
  {
   "cell_type": "code",
   "execution_count": 41,
   "id": "cbecc793",
   "metadata": {
    "execution": {
     "iopub.execute_input": "2024-01-31T18:45:14.064320Z",
     "iopub.status.busy": "2024-01-31T18:45:14.063914Z",
     "iopub.status.idle": "2024-01-31T18:45:14.338748Z",
     "shell.execute_reply": "2024-01-31T18:45:14.337804Z"
    },
    "papermill": {
     "duration": 0.31553,
     "end_time": "2024-01-31T18:45:14.341334",
     "exception": false,
     "start_time": "2024-01-31T18:45:14.025804",
     "status": "completed"
    },
    "tags": []
   },
   "outputs": [],
   "source": [
    "from imblearn.under_sampling import TomekLinks\n",
    "    \n",
    "def tomek_links (X,y) : \n",
    "    '''Tomek Links are pairs of instances, one from the majority class and one from the minority class,\n",
    "    that are very close to each other in the feature space. They are used in the context of dealing with\n",
    "    imbalanced datasets to help balance the class distribution. The key idea is to \n",
    "    identify and remove those majority class instances that are near the minority class instances'''\n",
    "\n",
    "    tl = TomekLinks(sampling_strategy='auto')\n",
    "\n",
    "    X_resampled, y_resampled = tl.fit_resample(X, y)\n",
    "    \n",
    "    return X_resampled , y_resampled\n"
   ]
  },
  {
   "cell_type": "markdown",
   "id": "c6fb8637",
   "metadata": {
    "papermill": {
     "duration": 0.042712,
     "end_time": "2024-01-31T18:45:14.429642",
     "exception": false,
     "start_time": "2024-01-31T18:45:14.386930",
     "status": "completed"
    },
    "tags": []
   },
   "source": [
    "## <a id=\"5\"><center><font size = 4><span style=\"color:#F5F5E6\"> <p style=\"background-color:#005F5D;font-family:courier;color:#FFFFFF;font-size:250%;text-align:center;border-radius:5px 5px;padding : 2px\">Model Training</p>   </span></font></center> "
   ]
  },
  {
   "cell_type": "markdown",
   "id": "692be3b1",
   "metadata": {
    "papermill": {
     "duration": 0.03508,
     "end_time": "2024-01-31T18:45:14.500028",
     "exception": false,
     "start_time": "2024-01-31T18:45:14.464948",
     "status": "completed"
    },
    "tags": []
   },
   "source": [
    "# 🤖 Training"
   ]
  },
  {
   "cell_type": "markdown",
   "id": "294b3089",
   "metadata": {
    "papermill": {
     "duration": 0.035531,
     "end_time": "2024-01-31T18:45:14.571664",
     "exception": false,
     "start_time": "2024-01-31T18:45:14.536133",
     "status": "completed"
    },
    "tags": []
   },
   "source": [
    "## <a id=\"5.1\"><center><font size = 4><span style=\"color:#F5F5E6\"> <p style=\"background-color:#005F5D;font-family:courier;color:#FFFFFF;font-size:250%;text-align:center;border-radius:5px 5px;padding : 2px\">XGBClassifier</p>   </span></font></center> "
   ]
  },
  {
   "cell_type": "code",
   "execution_count": 42,
   "id": "2d245ff6",
   "metadata": {
    "execution": {
     "iopub.execute_input": "2024-01-31T18:45:14.646069Z",
     "iopub.status.busy": "2024-01-31T18:45:14.645473Z",
     "iopub.status.idle": "2024-01-31T18:45:14.842011Z",
     "shell.execute_reply": "2024-01-31T18:45:14.841109Z"
    },
    "papermill": {
     "duration": 0.236706,
     "end_time": "2024-01-31T18:45:14.844783",
     "exception": false,
     "start_time": "2024-01-31T18:45:14.608077",
     "status": "completed"
    },
    "tags": []
   },
   "outputs": [],
   "source": [
    "import xgboost as xgb\n",
    "from sklearn.model_selection import StratifiedKFold\n",
    "from sklearn.preprocessing import LabelEncoder\n",
    "from xgboost import XGBClassifier\n",
    "from sklearn.metrics import log_loss\n",
    "from sklearn.metrics import  confusion_matrix, f1_score\n",
    "from sklearn.model_selection import train_test_split\n",
    "\n",
    "X = train_df_1\n",
    "y = df['Exited']\n",
    "\n",
    "# Label encode target variable\n",
    "label_encoder = LabelEncoder()\n",
    "y_encoded = label_encoder.fit_transform(y)\n",
    "\n",
    "# X, y_encoded = tomek_links(X, y_encoded)\n"
   ]
  },
  {
   "cell_type": "markdown",
   "id": "3197946c",
   "metadata": {
    "papermill": {
     "duration": 0.035307,
     "end_time": "2024-01-31T18:45:14.914658",
     "exception": false,
     "start_time": "2024-01-31T18:45:14.879351",
     "status": "completed"
    },
    "tags": []
   },
   "source": [
    "# XGBoost"
   ]
  },
  {
   "cell_type": "code",
   "execution_count": 43,
   "id": "29a3faad",
   "metadata": {
    "execution": {
     "iopub.execute_input": "2024-01-31T18:45:14.987527Z",
     "iopub.status.busy": "2024-01-31T18:45:14.986734Z",
     "iopub.status.idle": "2024-01-31T18:50:18.291345Z",
     "shell.execute_reply": "2024-01-31T18:50:18.290360Z"
    },
    "papermill": {
     "duration": 303.344035,
     "end_time": "2024-01-31T18:50:18.294244",
     "exception": false,
     "start_time": "2024-01-31T18:45:14.950209",
     "status": "completed"
    },
    "tags": []
   },
   "outputs": [
    {
     "name": "stdout",
     "output_type": "stream",
     "text": [
      "Fold 1, AUC Score on Validation Set: 0.7557923319438384\n",
      "Fold 1, F1 Score on Validation Set: 0.8620349109671329\n",
      "----------------------------------------------------------------------\n",
      "Fold 2, AUC Score on Validation Set: 0.7584666082276164\n",
      "Fold 2, F1 Score on Validation Set: 0.8602502653449914\n",
      "----------------------------------------------------------------------\n",
      "Fold 3, AUC Score on Validation Set: 0.7562947956666881\n",
      "Fold 3, F1 Score on Validation Set: 0.8630580601500754\n",
      "----------------------------------------------------------------------\n",
      "Fold 4, AUC Score on Validation Set: 0.7520464653101178\n",
      "Fold 4, F1 Score on Validation Set: 0.8597627402635238\n",
      "----------------------------------------------------------------------\n",
      "Fold 5, AUC Score on Validation Set: 0.7545805981155803\n",
      "Fold 5, F1 Score on Validation Set: 0.8610459236654042\n",
      "----------------------------------------------------------------------\n",
      "Fold 6, AUC Score on Validation Set: 0.7522104647181601\n",
      "Fold 6, F1 Score on Validation Set: 0.8602327664986905\n",
      "----------------------------------------------------------------------\n",
      "Fold 7, AUC Score on Validation Set: 0.7605521244164687\n",
      "Fold 7, F1 Score on Validation Set: 0.8643883068755898\n",
      "----------------------------------------------------------------------\n",
      "Fold 8, AUC Score on Validation Set: 0.7505945835869063\n",
      "Fold 8, F1 Score on Validation Set: 0.8590391553806032\n",
      "----------------------------------------------------------------------\n",
      "Fold 9, AUC Score on Validation Set: 0.745975871138832\n",
      "Fold 9, F1 Score on Validation Set: 0.8563721069047117\n",
      "----------------------------------------------------------------------\n",
      "Fold 10, AUC Score on Validation Set: 0.7429996806626415\n",
      "Fold 10, F1 Score on Validation Set: 0.8548105478923189\n",
      "----------------------------------------------------------------------\n",
      "\n",
      "Average AUC-score across 10 folds: 0.752951352378685\n"
     ]
    }
   ],
   "source": [
    "from sklearn.metrics import roc_auc_score\n",
    "\n",
    "\n",
    "#XGBoost parameters\n",
    "xgb_params = {'max_depth': 8,\n",
    " 'min_child_weight': 9, \n",
    " 'learning_rate': 0.015784217705381666,\n",
    " 'n_estimators': 928, \n",
    " 'subsample': 0.8311128887439883,\n",
    " 'colsample_bytree': 0.3454344427319984,\n",
    " 'random_state': 42}\n",
    "\n",
    "\n",
    "\n",
    "# number of folds\n",
    "n_splits = 10\n",
    "\n",
    "#  StratifiedKFold\n",
    "stratkf = StratifiedKFold(n_splits=n_splits, shuffle=True, random_state=42)\n",
    "\n",
    "#  cross-validation results\n",
    "cv_results = []\n",
    "\n",
    "# stratified k-fold cross-validation\n",
    "for fold, (train_idx, val_idx) in enumerate(stratkf.split(X, y_encoded)):\n",
    "    X_train, X_val = X.iloc[train_idx], X.iloc[val_idx]\n",
    "    y_train, y_val = y_encoded[train_idx], y_encoded[val_idx]\n",
    "\n",
    "\n",
    "    # XGBoost model\n",
    "    xgb_model = XGBClassifier(**xgb_params )\n",
    "\n",
    "    xgb_model.fit(X_train, y_train )\n",
    "\n",
    "    # predictions on the validation set\n",
    "    y_val_pred_prob = xgb_model.predict(X_val)\n",
    "    y_pred = xgb_model.predict(X_val)\n",
    "        \n",
    "    f1=  f1_score(y_val, y_pred, average='weighted')\n",
    "\n",
    "    # Evaluating the model\n",
    "    \n",
    "    roc_auc = roc_auc_score(y_val, y_val_pred_prob)\n",
    "    print(f'Fold {fold + 1}, AUC Score on Validation Set: {roc_auc}')\n",
    "    print(f'Fold {fold + 1}, F1 Score on Validation Set: {f1}')\n",
    "    print('-'*70)\n",
    "\n",
    "    # results\n",
    "    cv_results.append(roc_auc)\n",
    "\n",
    "# average cross-validation result\n",
    "average_cv_result = sum(cv_results) / n_splits\n",
    "print(f'\\nAverage AUC-score across {n_splits} folds: {average_cv_result}')\n"
   ]
  },
  {
   "cell_type": "markdown",
   "id": "042c037a",
   "metadata": {
    "papermill": {
     "duration": 0.040778,
     "end_time": "2024-01-31T18:50:18.375944",
     "exception": false,
     "start_time": "2024-01-31T18:50:18.335166",
     "status": "completed"
    },
    "tags": []
   },
   "source": [
    "## <a id=\"5.2\"><center><font size = 4><span style=\"color:#F5F5E6\"> <p style=\"background-color:#005F5D;font-family:courier;color:#FFFFFF;font-size:250%;text-align:center;border-radius:5px 5px;padding : 2px\">LGBM Classifier</p>   </span></font></center> "
   ]
  },
  {
   "cell_type": "markdown",
   "id": "9f53ad51",
   "metadata": {
    "papermill": {
     "duration": 0.036897,
     "end_time": "2024-01-31T18:50:18.448640",
     "exception": false,
     "start_time": "2024-01-31T18:50:18.411743",
     "status": "completed"
    },
    "tags": []
   },
   "source": [
    "# LightGBM"
   ]
  },
  {
   "cell_type": "code",
   "execution_count": 44,
   "id": "81124ef5",
   "metadata": {
    "execution": {
     "iopub.execute_input": "2024-01-31T18:50:18.525134Z",
     "iopub.status.busy": "2024-01-31T18:50:18.524772Z",
     "iopub.status.idle": "2024-01-31T18:51:19.095785Z",
     "shell.execute_reply": "2024-01-31T18:51:19.094629Z"
    },
    "papermill": {
     "duration": 60.612677,
     "end_time": "2024-01-31T18:51:19.098427",
     "exception": false,
     "start_time": "2024-01-31T18:50:18.485750",
     "status": "completed"
    },
    "tags": []
   },
   "outputs": [
    {
     "name": "stderr",
     "output_type": "stream",
     "text": [
      "/opt/conda/lib/python3.10/site-packages/dask/dataframe/_pyarrow_compat.py:23: UserWarning: You are using pyarrow version 11.0.0 which is known to be insecure. See https://www.cve.org/CVERecord?id=CVE-2023-47248 for further details. Please upgrade to pyarrow>=14.0.1 or install pyarrow-hotfix to patch your current version.\n",
      "  warnings.warn(\n",
      "1 warning generated.\n",
      "1 warning generated.\n",
      "1 warning generated.\n",
      "1 warning generated.\n",
      "1 warning generated.\n",
      "1 warning generated.\n",
      "1 warning generated.\n",
      "1 warning generated.\n",
      "1 warning generated.\n",
      "1 warning generated.\n",
      "1 warning generated.\n",
      "1 warning generated.\n",
      "1 warning generated.\n",
      "1 warning generated.\n",
      "1 warning generated.\n",
      "1 warning generated.\n",
      "1 warning generated.\n",
      "1 warning generated.\n",
      "1 warning generated.\n",
      "1 warning generated.\n",
      "1 warning generated.\n",
      "1 warning generated.\n",
      "1 warning generated.\n",
      "1 warning generated.\n",
      "1 warning generated.\n",
      "1 warning generated.\n",
      "1 warning generated.\n",
      "1 warning generated.\n",
      "1 warning generated.\n",
      "1 warning generated.\n",
      "1 warning generated.\n",
      "1 warning generated.\n",
      "1 warning generated.\n"
     ]
    },
    {
     "name": "stdout",
     "output_type": "stream",
     "text": [
      "Fold 1, AUC-Score on Validation Set: 0.758076439782697\n",
      "Fold 1, F1 Score on Validation Set: 0.8616315881527326\n",
      "----------------------------------------------------------------------\n",
      "Fold 2, AUC-Score on Validation Set: 0.761576042246668\n",
      "Fold 2, F1 Score on Validation Set: 0.8613508407311089\n",
      "----------------------------------------------------------------------\n",
      "Fold 3, AUC-Score on Validation Set: 0.7569142322232449\n",
      "Fold 3, F1 Score on Validation Set: 0.862603015095042\n",
      "----------------------------------------------------------------------\n",
      "Fold 4, AUC-Score on Validation Set: 0.7506778472366581\n",
      "Fold 4, F1 Score on Validation Set: 0.8574856472369743\n",
      "----------------------------------------------------------------------\n",
      "Fold 5, AUC-Score on Validation Set: 0.7560283254745302\n",
      "Fold 5, F1 Score on Validation Set: 0.8607962684336202\n",
      "----------------------------------------------------------------------\n",
      "Fold 6, AUC-Score on Validation Set: 0.7533418431174098\n",
      "Fold 6, F1 Score on Validation Set: 0.8596653435046789\n",
      "----------------------------------------------------------------------\n",
      "Fold 7, AUC-Score on Validation Set: 0.7616718529593339\n",
      "Fold 7, F1 Score on Validation Set: 0.8631760666376724\n",
      "----------------------------------------------------------------------\n",
      "Fold 8, AUC-Score on Validation Set: 0.7503219436342128\n",
      "Fold 8, F1 Score on Validation Set: 0.8584179364437247\n",
      "----------------------------------------------------------------------\n",
      "Fold 9, AUC-Score on Validation Set: 0.7477590928059892\n",
      "Fold 9, F1 Score on Validation Set: 0.8567325488258302\n",
      "----------------------------------------------------------------------\n",
      "Fold 10, AUC-Score on Validation Set: 0.7439691368359798\n",
      "Fold 10, F1 Score on Validation Set: 0.8542778975422309\n",
      "----------------------------------------------------------------------\n",
      "\n",
      "Average AUC-SCORE across 10 folds: 0.7540336756316723\n"
     ]
    }
   ],
   "source": [
    "import lightgbm as lgb\n",
    "from sklearn.metrics import log_loss\n",
    "from lightgbm import LGBMClassifier\n",
    "\n",
    "\n",
    "lgbm_params_1 = {\n",
    "    'min_child_samples': 12, \n",
    "    'learning_rate': 0.02849773542504347,\n",
    "    'n_estimators': 410, \n",
    "    'subsample': 0.31556535683131615, \n",
    "    'colsample_bytree': 0.9691366837955018, \n",
    "    'reg_alpha': 0.7109904579556621,\n",
    "    'reg_lambda': 0.8470259353827624,\n",
    "    'device': 'gpu',\n",
    "    'verbosity': 0\n",
    "}\n",
    "# folds\n",
    "n_splits = 10\n",
    "\n",
    "# StratifiedKFold\n",
    "stratkf = StratifiedKFold(n_splits=n_splits, shuffle=True, random_state=42)\n",
    "\n",
    "cv_results = []\n",
    "\n",
    "\n",
    "\n",
    "for fold, (train_idx, val_idx) in enumerate(stratkf.split(X, y_encoded)):\n",
    "\n",
    "    X_train, X_val = X.iloc[train_idx], X.iloc[val_idx]\n",
    "    y_train, y_val = y_encoded[train_idx], y_encoded[val_idx]\n",
    "\n",
    "    lgbm_model = LGBMClassifier(**lgbm_params_1)\n",
    "    lgbm_model.fit(X_train,y_train)\n",
    "\n",
    "    y_val_pred_prob = lgbm_model.predict_proba(X_val)\n",
    "    y_pred = lgbm_model.predict(X_val)\n",
    "        \n",
    "    f1=  f1_score(y_val, y_pred, average='weighted')\n",
    "\n",
    "    # Evaluating the model\n",
    "    logloss = log_loss(y_val, y_val_pred_prob)\n",
    "    roc_auc = roc_auc_score(y_val, y_pred)\n",
    "    print(f'Fold {fold + 1}, AUC-Score on Validation Set: {roc_auc}')\n",
    "    print(f'Fold {fold + 1}, F1 Score on Validation Set: {f1}')\n",
    "    print('-'*70)\n",
    "\n",
    "    cv_results.append(roc_auc)\n",
    "average_cv_result = sum(cv_results) / n_splits\n",
    "print(f'\\nAverage AUC-SCORE across {n_splits} folds: {average_cv_result}')"
   ]
  },
  {
   "cell_type": "code",
   "execution_count": 45,
   "id": "2fc5b4e8",
   "metadata": {
    "execution": {
     "iopub.execute_input": "2024-01-31T18:51:19.177666Z",
     "iopub.status.busy": "2024-01-31T18:51:19.177272Z",
     "iopub.status.idle": "2024-01-31T18:51:19.183675Z",
     "shell.execute_reply": "2024-01-31T18:51:19.182723Z"
    },
    "papermill": {
     "duration": 0.048203,
     "end_time": "2024-01-31T18:51:19.185838",
     "exception": false,
     "start_time": "2024-01-31T18:51:19.137635",
     "status": "completed"
    },
    "tags": []
   },
   "outputs": [
    {
     "name": "stdout",
     "output_type": "stream",
     "text": [
      "Class Mapping:\n",
      "{0: 0, 1: 1}\n"
     ]
    }
   ],
   "source": [
    "class_mapping = dict(zip(label_encoder.classes_, label_encoder.transform(label_encoder.classes_)))\n",
    "print(\"Class Mapping:\")\n",
    "print(class_mapping)"
   ]
  },
  {
   "cell_type": "markdown",
   "id": "2ce8f44f",
   "metadata": {
    "papermill": {
     "duration": 0.038222,
     "end_time": "2024-01-31T18:51:19.262199",
     "exception": false,
     "start_time": "2024-01-31T18:51:19.223977",
     "status": "completed"
    },
    "tags": []
   },
   "source": [
    "## <a id=\"5.4\"><center><font size = 4><span style=\"color:#F5F5E6\"> <p style=\"background-color:#005F5D;font-family:courier;color:#FFFFFF;font-size:250%;text-align:center;border-radius:5px 5px;padding : 2px\">Catboost Classifier</p>   </span></font></center> "
   ]
  },
  {
   "cell_type": "markdown",
   "id": "afed8e13",
   "metadata": {
    "papermill": {
     "duration": 0.038092,
     "end_time": "2024-01-31T18:51:19.339889",
     "exception": false,
     "start_time": "2024-01-31T18:51:19.301797",
     "status": "completed"
    },
    "tags": []
   },
   "source": [
    "# CatBoost"
   ]
  },
  {
   "cell_type": "code",
   "execution_count": 46,
   "id": "f30be114",
   "metadata": {
    "execution": {
     "iopub.execute_input": "2024-01-31T18:51:19.420351Z",
     "iopub.status.busy": "2024-01-31T18:51:19.419975Z",
     "iopub.status.idle": "2024-01-31T18:59:50.558993Z",
     "shell.execute_reply": "2024-01-31T18:59:50.557796Z"
    },
    "papermill": {
     "duration": 511.223844,
     "end_time": "2024-01-31T18:59:50.602456",
     "exception": false,
     "start_time": "2024-01-31T18:51:19.378612",
     "status": "completed"
    },
    "tags": []
   },
   "outputs": [
    {
     "name": "stdout",
     "output_type": "stream",
     "text": [
      "Fold 1, AUC- score on Validation Set: 0.7599362061268202\n",
      "Fold 1, F1 Score on Validation Set: 0.8630398246597886\n",
      "----------------------------------------------------------------------\n",
      "Fold 2, AUC- score on Validation Set: 0.7613683390769138\n",
      "Fold 2, F1 Score on Validation Set: 0.8611804848321654\n",
      "----------------------------------------------------------------------\n",
      "Fold 3, AUC- score on Validation Set: 0.7578424070609966\n",
      "Fold 3, F1 Score on Validation Set: 0.8628236909689582\n",
      "----------------------------------------------------------------------\n",
      "Fold 4, AUC- score on Validation Set: 0.7527965632120228\n",
      "Fold 4, F1 Score on Validation Set: 0.8584220961369392\n",
      "----------------------------------------------------------------------\n",
      "Fold 5, AUC- score on Validation Set: 0.7572096444271791\n",
      "Fold 5, F1 Score on Validation Set: 0.8613726303462445\n",
      "----------------------------------------------------------------------\n",
      "Fold 6, AUC- score on Validation Set: 0.7547500158336147\n",
      "Fold 6, F1 Score on Validation Set: 0.8606832319797484\n",
      "----------------------------------------------------------------------\n",
      "Fold 7, AUC- score on Validation Set: 0.7621501241449455\n",
      "Fold 7, F1 Score on Validation Set: 0.8634854474154084\n",
      "----------------------------------------------------------------------\n",
      "Fold 8, AUC- score on Validation Set: 0.7523832235640557\n",
      "Fold 8, F1 Score on Validation Set: 0.8585604307086161\n",
      "----------------------------------------------------------------------\n",
      "Fold 9, AUC- score on Validation Set: 0.7490107616062747\n",
      "Fold 9, F1 Score on Validation Set: 0.8569389980128449\n",
      "----------------------------------------------------------------------\n",
      "Fold 10, AUC- score on Validation Set: 0.7449065338586959\n",
      "Fold 10, F1 Score on Validation Set: 0.8546416587882062\n",
      "----------------------------------------------------------------------\n",
      "\n",
      "Average Logarithmic Loss across 10 folds: 0.31557251889488835\n"
     ]
    }
   ],
   "source": [
    "from catboost import CatBoostClassifier\n",
    "catboost_params = {\n",
    "    'iterations': 848, \n",
    "    'depth': 28,\n",
    "    'min_data_in_leaf': 5,\n",
    "    'learning_rate': 0.027876808218320774,\n",
    "    'grow_policy': 'Lossguide',\n",
    "    'bootstrap_type': 'Bernoulli',\n",
    "    'eval_metric': 'AUC',  \n",
    "}\n",
    "\n",
    "n_splits = 10\n",
    "\n",
    "stratkf = StratifiedKFold(n_splits=n_splits, shuffle=True, random_state=42)\n",
    "\n",
    "\n",
    "cv_results = []\n",
    "\n",
    "\n",
    "for fold, (train_idx, val_idx) in enumerate(stratkf.split(X, y_encoded)):\n",
    "    X_train, X_val = X.iloc[train_idx], X.iloc[val_idx]\n",
    "    y_train, y_val = y_encoded[train_idx], y_encoded[val_idx]\n",
    "\n",
    "    cat_model = CatBoostClassifier(**catboost_params, \n",
    "                            random_state=42, verbose =0\n",
    "                           )\n",
    "    cat_model.fit(X_train,y_train)\n",
    "\n",
    "    y_val_pred_prob = cat_model.predict_proba(X_val)\n",
    "    y_pred = cat_model.predict(X_val)\n",
    "        \n",
    "    f1=  f1_score(y_val, y_pred, average='weighted')\n",
    "\n",
    "    # Evaluating the model\n",
    "    logloss = log_loss(y_val, y_val_pred_prob)\n",
    "    roc_auc = roc_auc_score(y_val, y_pred)\n",
    "    print(f'Fold {fold + 1}, AUC- score on Validation Set: {roc_auc}')\n",
    "    print(f'Fold {fold + 1}, F1 Score on Validation Set: {f1}')\n",
    "    print('-'*70)\n",
    "\n",
    " \n",
    "    cv_results.append(logloss)\n",
    "\n",
    "average_cv_result = sum(cv_results) / n_splits\n",
    "print(f'\\nAverage Logarithmic Loss across {n_splits} folds: {average_cv_result}')\n"
   ]
  },
  {
   "cell_type": "markdown",
   "id": "0d8a513c",
   "metadata": {
    "papermill": {
     "duration": 0.039446,
     "end_time": "2024-01-31T18:59:50.683734",
     "exception": false,
     "start_time": "2024-01-31T18:59:50.644288",
     "status": "completed"
    },
    "tags": []
   },
   "source": [
    "## <a id=\"5.5\"><center><font size = 4><span style=\"color:#F5F5E6\"> <p style=\"background-color:#005F5D;font-family:courier;color:#FFFFFF;font-size:250%;text-align:center;border-radius:5px 5px;padding : 2px\">Hyperparameter Optimization Codes</p>   </span></font></center> "
   ]
  },
  {
   "cell_type": "markdown",
   "id": "0b5b8cbd",
   "metadata": {
    "papermill": {
     "duration": 0.040932,
     "end_time": "2024-01-31T18:59:50.764800",
     "exception": false,
     "start_time": "2024-01-31T18:59:50.723868",
     "status": "completed"
    },
    "tags": []
   },
   "source": [
    "# Hyperparameter Optimization (Optuna)"
   ]
  },
  {
   "cell_type": "code",
   "execution_count": 47,
   "id": "1d2c9777",
   "metadata": {
    "execution": {
     "iopub.execute_input": "2024-01-31T18:59:50.848519Z",
     "iopub.status.busy": "2024-01-31T18:59:50.848137Z",
     "iopub.status.idle": "2024-01-31T18:59:50.857913Z",
     "shell.execute_reply": "2024-01-31T18:59:50.856966Z"
    },
    "papermill": {
     "duration": 0.054608,
     "end_time": "2024-01-31T18:59:50.860375",
     "exception": false,
     "start_time": "2024-01-31T18:59:50.805767",
     "status": "completed"
    },
    "tags": []
   },
   "outputs": [],
   "source": [
    "# from catboost import CatBoostClassifier\n",
    "# from sklearn.model_selection import cross_val_score, StratifiedKFold\n",
    "# import optuna\n",
    "\n",
    "# import warnings\n",
    "\n",
    "# # Suppress FutureWarnings related to is_sparse\n",
    "# warnings.filterwarnings(\"ignore\", category=FutureWarning, module=\"sklearn.utils.validation\")\n",
    "\n",
    "# def objective(trial):\n",
    "#     params = {\n",
    "#         'iterations': trial.suggest_int('iterations', 200, 1000),\n",
    "#         'depth': trial.suggest_int('depth', 3, 50),\n",
    "#         'min_data_in_leaf': trial.suggest_int('min_data_in_leaf', 2, 50),\n",
    "#         'learning_rate': trial.suggest_float('learning_rate', 1e-4, 0.2, log=True),\n",
    "#     }\n",
    "    \n",
    "#     cb_optuna = CatBoostClassifier(**params, random_state=42, grow_policy='Lossguide', verbose=0)\n",
    "\n",
    "#     cv = abs(cross_val_score(cb_optuna, X, y_encoded, cv=10, scoring='roc_auc').mean())\n",
    "#     return cv\n",
    "\n",
    "# study = optuna.create_study(direction='maximize')\n",
    "# study.optimize(objective, n_trials=50)\n",
    "\n",
    "# best_params = study.best_params\n",
    "# print(\"Best Hyperparameters:\", best_params)\n",
    "\n",
    " \n",
    "    \n",
    "# -----------------------------------------------------------------------------------------------------\n",
    "\n",
    "\n",
    "\n",
    "# from sklearn.model_selection import  cross_val_score\n",
    "# def objective_xgb(trial):\n",
    "#     \"\"\"Define the objective function for XGBClassifier\"\"\"\n",
    "\n",
    "#     params = {\n",
    "#         'max_depth': trial.suggest_int('max_depth', 5, 10),\n",
    "#         'min_child_weight': trial.suggest_int('min_child_weight', 1, 10),\n",
    "#         'learning_rate': trial.suggest_float('learning_rate', 0.01, 1.0),\n",
    "#         'n_estimators': trial.suggest_int('n_estimators', 150, 1000),\n",
    "#         'subsample': trial.suggest_float('subsample', 0.01, 1.0),\n",
    "#         'colsample_bytree': trial.suggest_float('colsample_bytree', 0.01, 1.0),\n",
    "#         'random_state': trial.suggest_categorical('random_state', [42]),\n",
    "#         'tree_method': 'hist',  # Use GPU for training\n",
    "#         'device' : 'cuda',\n",
    "#         'eval_metric': 'auc',  # Evaluation metric\n",
    "#         'verbosity': 2,  # Set verbosity to 0 for less output\n",
    "#     }\n",
    "\n",
    "#     xgb_model = xgb.XGBClassifier(**params)\n",
    "\n",
    "#     # Assuming 'X_train' and 'y_train' are your training data\n",
    "#     cv = abs(cross_val_score(xgb_model, X_train, y_train, cv=skf, scoring='roc_auc').mean())\n",
    "\n",
    "    \n",
    "#     return cv\n",
    "# import optuna\n",
    "\n",
    "# # Assuming 'skf' is your StratifiedKFold object\n",
    "# skf = StratifiedKFold(n_splits=10, shuffle=True, random_state=42)\n",
    "\n",
    "# study = optuna.create_study(direction='maximize')\n",
    "# study.optimize(objective_xgb, n_trials=50)\n",
    "\n",
    "# # Get the best parameters\n",
    "# best_params = study.best_params\n",
    "# print(\"Best Hyperparameters:\", best_params)\n",
    "\n",
    "# # Create the final XGBClassifier model with the best parameters\n",
    "# best_xgb_model = xgb.XGBClassifier(**best_params)\n",
    "\n",
    "# # Train the model on the entire dataset\n",
    "# best_xgb_model.fit(X, y)\n",
    "\n",
    "#----------------------------------------------------------------------------------------\n",
    "\n",
    "# import lightgbm as lgb\n",
    "# from sklearn.model_selection import cross_val_score, StratifiedKFold\n",
    "# import optuna\n",
    "\n",
    "# # Assuming 'skf' is your StratifiedKFold object\n",
    "# skf = StratifiedKFold(n_splits=10, shuffle=True, random_state=42)\n",
    "\n",
    "# def objective_lgbm(trial):\n",
    "#     \"\"\"Define the objective function for LGBMClassifier\"\"\"\n",
    "\n",
    "#     params = {\n",
    "#         'objective': 'binary',  # Objective for binary classification\n",
    "#         'boosting_type': 'gbdt',\n",
    "#         'device': 'gpu',\n",
    "#         'metric': 'auc',  # Evaluation metric\n",
    "#         'max_depth': trial.suggest_int('max_depth', 5, 10),\n",
    "#         'min_child_samples': trial.suggest_int('min_child_samples', 1, 20),\n",
    "#         'learning_rate': trial.suggest_float('learning_rate', 0.01, 1.0),\n",
    "#         'n_estimators': trial.suggest_int('n_estimators', 150, 1000),\n",
    "#         'subsample': trial.suggest_float('subsample', 0.1, 1.0),\n",
    "#         'colsample_bytree': trial.suggest_float('colsample_bytree', 0.1, 1.0),\n",
    "#         'reg_alpha': trial.suggest_float('reg_alpha', 0.0, 1.0),\n",
    "#         'reg_lambda': trial.suggest_float('reg_lambda', 0.0, 1.0),\n",
    "#         'random_state': 42,\n",
    "#     }\n",
    "\n",
    "#     lgb_model = lgb.LGBMClassifier(**params)\n",
    "\n",
    "#     # Assuming 'X_train' and 'y_train' are your training data\n",
    "#     cv = abs(cross_val_score(lgb_model, X_train, y_train, cv=skf, scoring='roc_auc').mean())\n",
    "\n",
    "#     return cv\n",
    "\n",
    "# # Create an Optuna study\n",
    "# study = optuna.create_study(direction='maximize')\n",
    "# study.optimize(objective_lgbm, n_trials=50)\n",
    "\n",
    "# # Get the best parameters\n",
    "# best_params = study.best_params\n",
    "# print(\"Best Hyperparameters:\", best_params)\n",
    "\n",
    "# # Create the final LGBMClassifier model with the best parameters\n",
    "# best_lgb_model = lgb.LGBMClassifier(**best_params)\n",
    "\n",
    "# # Train the model on the entire dataset\n",
    "# best_lgb_model.fit(X, y)\n"
   ]
  },
  {
   "cell_type": "markdown",
   "id": "9892ebd5",
   "metadata": {
    "papermill": {
     "duration": 0.042623,
     "end_time": "2024-01-31T18:59:50.943981",
     "exception": false,
     "start_time": "2024-01-31T18:59:50.901358",
     "status": "completed"
    },
    "tags": []
   },
   "source": [
    "## <a id=\"5.6\"><center><font size = 4><span style=\"color:#F5F5E6\"> <p style=\"background-color:#005F5D;font-family:courier;color:#FFFFFF;font-size:250%;text-align:center;border-radius:5px 5px;padding : 2px\">Ensemble of XGB, CATBOOST and LGBM</p>   </span></font></center> "
   ]
  },
  {
   "cell_type": "markdown",
   "id": "597e67fe",
   "metadata": {
    "papermill": {
     "duration": 0.039938,
     "end_time": "2024-01-31T18:59:51.024289",
     "exception": false,
     "start_time": "2024-01-31T18:59:50.984351",
     "status": "completed"
    },
    "tags": []
   },
   "source": [
    "# Ensemble"
   ]
  },
  {
   "cell_type": "code",
   "execution_count": 48,
   "id": "b2780459",
   "metadata": {
    "execution": {
     "iopub.execute_input": "2024-01-31T18:59:51.108989Z",
     "iopub.status.busy": "2024-01-31T18:59:51.108173Z",
     "iopub.status.idle": "2024-01-31T19:01:26.954232Z",
     "shell.execute_reply": "2024-01-31T19:01:26.953115Z"
    },
    "papermill": {
     "duration": 95.934382,
     "end_time": "2024-01-31T19:01:26.999836",
     "exception": false,
     "start_time": "2024-01-31T18:59:51.065454",
     "status": "completed"
    },
    "tags": []
   },
   "outputs": [
    {
     "data": {
      "text/html": [
       "<style>#sk-container-id-1 {color: black;background-color: white;}#sk-container-id-1 pre{padding: 0;}#sk-container-id-1 div.sk-toggleable {background-color: white;}#sk-container-id-1 label.sk-toggleable__label {cursor: pointer;display: block;width: 100%;margin-bottom: 0;padding: 0.3em;box-sizing: border-box;text-align: center;}#sk-container-id-1 label.sk-toggleable__label-arrow:before {content: \"▸\";float: left;margin-right: 0.25em;color: #696969;}#sk-container-id-1 label.sk-toggleable__label-arrow:hover:before {color: black;}#sk-container-id-1 div.sk-estimator:hover label.sk-toggleable__label-arrow:before {color: black;}#sk-container-id-1 div.sk-toggleable__content {max-height: 0;max-width: 0;overflow: hidden;text-align: left;background-color: #f0f8ff;}#sk-container-id-1 div.sk-toggleable__content pre {margin: 0.2em;color: black;border-radius: 0.25em;background-color: #f0f8ff;}#sk-container-id-1 input.sk-toggleable__control:checked~div.sk-toggleable__content {max-height: 200px;max-width: 100%;overflow: auto;}#sk-container-id-1 input.sk-toggleable__control:checked~label.sk-toggleable__label-arrow:before {content: \"▾\";}#sk-container-id-1 div.sk-estimator input.sk-toggleable__control:checked~label.sk-toggleable__label {background-color: #d4ebff;}#sk-container-id-1 div.sk-label input.sk-toggleable__control:checked~label.sk-toggleable__label {background-color: #d4ebff;}#sk-container-id-1 input.sk-hidden--visually {border: 0;clip: rect(1px 1px 1px 1px);clip: rect(1px, 1px, 1px, 1px);height: 1px;margin: -1px;overflow: hidden;padding: 0;position: absolute;width: 1px;}#sk-container-id-1 div.sk-estimator {font-family: monospace;background-color: #f0f8ff;border: 1px dotted black;border-radius: 0.25em;box-sizing: border-box;margin-bottom: 0.5em;}#sk-container-id-1 div.sk-estimator:hover {background-color: #d4ebff;}#sk-container-id-1 div.sk-parallel-item::after {content: \"\";width: 100%;border-bottom: 1px solid gray;flex-grow: 1;}#sk-container-id-1 div.sk-label:hover label.sk-toggleable__label {background-color: #d4ebff;}#sk-container-id-1 div.sk-serial::before {content: \"\";position: absolute;border-left: 1px solid gray;box-sizing: border-box;top: 0;bottom: 0;left: 50%;z-index: 0;}#sk-container-id-1 div.sk-serial {display: flex;flex-direction: column;align-items: center;background-color: white;padding-right: 0.2em;padding-left: 0.2em;position: relative;}#sk-container-id-1 div.sk-item {position: relative;z-index: 1;}#sk-container-id-1 div.sk-parallel {display: flex;align-items: stretch;justify-content: center;background-color: white;position: relative;}#sk-container-id-1 div.sk-item::before, #sk-container-id-1 div.sk-parallel-item::before {content: \"\";position: absolute;border-left: 1px solid gray;box-sizing: border-box;top: 0;bottom: 0;left: 50%;z-index: -1;}#sk-container-id-1 div.sk-parallel-item {display: flex;flex-direction: column;z-index: 1;position: relative;background-color: white;}#sk-container-id-1 div.sk-parallel-item:first-child::after {align-self: flex-end;width: 50%;}#sk-container-id-1 div.sk-parallel-item:last-child::after {align-self: flex-start;width: 50%;}#sk-container-id-1 div.sk-parallel-item:only-child::after {width: 0;}#sk-container-id-1 div.sk-dashed-wrapped {border: 1px dashed gray;margin: 0 0.4em 0.5em 0.4em;box-sizing: border-box;padding-bottom: 0.4em;background-color: white;}#sk-container-id-1 div.sk-label label {font-family: monospace;font-weight: bold;display: inline-block;line-height: 1.2em;}#sk-container-id-1 div.sk-label-container {text-align: center;}#sk-container-id-1 div.sk-container {/* jupyter's `normalize.less` sets `[hidden] { display: none; }` but bootstrap.min.css set `[hidden] { display: none !important; }` so we also need the `!important` here to be able to override the default hidden behavior on the sphinx rendered scikit-learn.org. See: https://github.com/scikit-learn/scikit-learn/issues/21755 */display: inline-block !important;position: relative;}#sk-container-id-1 div.sk-text-repr-fallback {display: none;}</style><div id=\"sk-container-id-1\" class=\"sk-top-container\"><div class=\"sk-text-repr-fallback\"><pre>VotingClassifier(estimators=[(&#x27;lgb&#x27;,\n",
       "                              LGBMClassifier(colsample_bytree=0.9691366837955018,\n",
       "                                             device=&#x27;gpu&#x27;,\n",
       "                                             learning_rate=0.02849773542504347,\n",
       "                                             min_child_samples=12,\n",
       "                                             n_estimators=410,\n",
       "                                             reg_alpha=0.7109904579556621,\n",
       "                                             reg_lambda=0.8470259353827624,\n",
       "                                             subsample=0.31556535683131615,\n",
       "                                             verbosity=0)),\n",
       "                             (&#x27;xgb&#x27;,\n",
       "                              XGBClassifier(base_score=None, booster=None,\n",
       "                                            callbacks=None,\n",
       "                                            colsample_...\n",
       "                                            max_bin=None,\n",
       "                                            max_cat_threshold=None,\n",
       "                                            max_cat_to_onehot=None,\n",
       "                                            max_delta_step=None, max_depth=8,\n",
       "                                            max_leaves=None, min_child_weight=9,\n",
       "                                            missing=nan,\n",
       "                                            monotone_constraints=None,\n",
       "                                            multi_strategy=None,\n",
       "                                            n_estimators=928, n_jobs=None,\n",
       "                                            num_parallel_tree=None,\n",
       "                                            random_state=42, ...)),\n",
       "                             (&#x27;CB&#x27;,\n",
       "                              &lt;catboost.core.CatBoostClassifier object at 0x7ec7394ff5e0&gt;)],\n",
       "                 voting=&#x27;soft&#x27;, weights=[0.3, 0.3, 0.4])</pre><b>In a Jupyter environment, please rerun this cell to show the HTML representation or trust the notebook. <br />On GitHub, the HTML representation is unable to render, please try loading this page with nbviewer.org.</b></div><div class=\"sk-container\" hidden><div class=\"sk-item sk-dashed-wrapped\"><div class=\"sk-label-container\"><div class=\"sk-label sk-toggleable\"><input class=\"sk-toggleable__control sk-hidden--visually\" id=\"sk-estimator-id-1\" type=\"checkbox\" ><label for=\"sk-estimator-id-1\" class=\"sk-toggleable__label sk-toggleable__label-arrow\">VotingClassifier</label><div class=\"sk-toggleable__content\"><pre>VotingClassifier(estimators=[(&#x27;lgb&#x27;,\n",
       "                              LGBMClassifier(colsample_bytree=0.9691366837955018,\n",
       "                                             device=&#x27;gpu&#x27;,\n",
       "                                             learning_rate=0.02849773542504347,\n",
       "                                             min_child_samples=12,\n",
       "                                             n_estimators=410,\n",
       "                                             reg_alpha=0.7109904579556621,\n",
       "                                             reg_lambda=0.8470259353827624,\n",
       "                                             subsample=0.31556535683131615,\n",
       "                                             verbosity=0)),\n",
       "                             (&#x27;xgb&#x27;,\n",
       "                              XGBClassifier(base_score=None, booster=None,\n",
       "                                            callbacks=None,\n",
       "                                            colsample_...\n",
       "                                            max_bin=None,\n",
       "                                            max_cat_threshold=None,\n",
       "                                            max_cat_to_onehot=None,\n",
       "                                            max_delta_step=None, max_depth=8,\n",
       "                                            max_leaves=None, min_child_weight=9,\n",
       "                                            missing=nan,\n",
       "                                            monotone_constraints=None,\n",
       "                                            multi_strategy=None,\n",
       "                                            n_estimators=928, n_jobs=None,\n",
       "                                            num_parallel_tree=None,\n",
       "                                            random_state=42, ...)),\n",
       "                             (&#x27;CB&#x27;,\n",
       "                              &lt;catboost.core.CatBoostClassifier object at 0x7ec7394ff5e0&gt;)],\n",
       "                 voting=&#x27;soft&#x27;, weights=[0.3, 0.3, 0.4])</pre></div></div></div><div class=\"sk-parallel\"><div class=\"sk-parallel-item\"><div class=\"sk-item\"><div class=\"sk-label-container\"><div class=\"sk-label sk-toggleable\"><label>lgb</label></div></div><div class=\"sk-serial\"><div class=\"sk-item\"><div class=\"sk-estimator sk-toggleable\"><input class=\"sk-toggleable__control sk-hidden--visually\" id=\"sk-estimator-id-2\" type=\"checkbox\" ><label for=\"sk-estimator-id-2\" class=\"sk-toggleable__label sk-toggleable__label-arrow\">LGBMClassifier</label><div class=\"sk-toggleable__content\"><pre>LGBMClassifier(colsample_bytree=0.9691366837955018, device=&#x27;gpu&#x27;,\n",
       "               learning_rate=0.02849773542504347, min_child_samples=12,\n",
       "               n_estimators=410, reg_alpha=0.7109904579556621,\n",
       "               reg_lambda=0.8470259353827624, subsample=0.31556535683131615,\n",
       "               verbosity=0)</pre></div></div></div></div></div></div><div class=\"sk-parallel-item\"><div class=\"sk-item\"><div class=\"sk-label-container\"><div class=\"sk-label sk-toggleable\"><label>xgb</label></div></div><div class=\"sk-serial\"><div class=\"sk-item\"><div class=\"sk-estimator sk-toggleable\"><input class=\"sk-toggleable__control sk-hidden--visually\" id=\"sk-estimator-id-3\" type=\"checkbox\" ><label for=\"sk-estimator-id-3\" class=\"sk-toggleable__label sk-toggleable__label-arrow\">XGBClassifier</label><div class=\"sk-toggleable__content\"><pre>XGBClassifier(base_score=None, booster=None, callbacks=None,\n",
       "              colsample_bylevel=None, colsample_bynode=None,\n",
       "              colsample_bytree=0.3454344427319984, device=None,\n",
       "              early_stopping_rounds=None, enable_categorical=False,\n",
       "              eval_metric=None, feature_types=None, gamma=None,\n",
       "              grow_policy=None, importance_type=None,\n",
       "              interaction_constraints=None, learning_rate=0.015784217705381666,\n",
       "              max_bin=None, max_cat_threshold=None, max_cat_to_onehot=None,\n",
       "              max_delta_step=None, max_depth=8, max_leaves=None,\n",
       "              min_child_weight=9, missing=nan, monotone_constraints=None,\n",
       "              multi_strategy=None, n_estimators=928, n_jobs=None,\n",
       "              num_parallel_tree=None, random_state=42, ...)</pre></div></div></div></div></div></div><div class=\"sk-parallel-item\"><div class=\"sk-item\"><div class=\"sk-label-container\"><div class=\"sk-label sk-toggleable\"><label>CB</label></div></div><div class=\"sk-serial\"><div class=\"sk-item\"><div class=\"sk-estimator sk-toggleable\"><input class=\"sk-toggleable__control sk-hidden--visually\" id=\"sk-estimator-id-4\" type=\"checkbox\" ><label for=\"sk-estimator-id-4\" class=\"sk-toggleable__label sk-toggleable__label-arrow\">CatBoostClassifier</label><div class=\"sk-toggleable__content\"><pre>&lt;catboost.core.CatBoostClassifier object at 0x7ec7394ff5e0&gt;</pre></div></div></div></div></div></div></div></div></div></div>"
      ],
      "text/plain": [
       "VotingClassifier(estimators=[('lgb',\n",
       "                              LGBMClassifier(colsample_bytree=0.9691366837955018,\n",
       "                                             device='gpu',\n",
       "                                             learning_rate=0.02849773542504347,\n",
       "                                             min_child_samples=12,\n",
       "                                             n_estimators=410,\n",
       "                                             reg_alpha=0.7109904579556621,\n",
       "                                             reg_lambda=0.8470259353827624,\n",
       "                                             subsample=0.31556535683131615,\n",
       "                                             verbosity=0)),\n",
       "                             ('xgb',\n",
       "                              XGBClassifier(base_score=None, booster=None,\n",
       "                                            callbacks=None,\n",
       "                                            colsample_...\n",
       "                                            max_bin=None,\n",
       "                                            max_cat_threshold=None,\n",
       "                                            max_cat_to_onehot=None,\n",
       "                                            max_delta_step=None, max_depth=8,\n",
       "                                            max_leaves=None, min_child_weight=9,\n",
       "                                            missing=nan,\n",
       "                                            monotone_constraints=None,\n",
       "                                            multi_strategy=None,\n",
       "                                            n_estimators=928, n_jobs=None,\n",
       "                                            num_parallel_tree=None,\n",
       "                                            random_state=42, ...)),\n",
       "                             ('CB',\n",
       "                              <catboost.core.CatBoostClassifier object at 0x7ec7394ff5e0>)],\n",
       "                 voting='soft', weights=[0.3, 0.3, 0.4])"
      ]
     },
     "execution_count": 48,
     "metadata": {},
     "output_type": "execute_result"
    }
   ],
   "source": [
    "from sklearn.ensemble import VotingClassifier\n",
    "\n",
    "\n",
    "# lgb_1 = LGBMClassifier(**lgbm_params )\n",
    "# xgb_1 = XGBClassifier(**xgb_params )\n",
    "# cb_1 = CatBoostClassifier(**catboost_params, random_state=42)\n",
    "Ensemble = VotingClassifier(estimators = [('lgb', lgbm_model), ('xgb', xgb_model), ('CB', cat_model)], \n",
    "                            voting='soft',\n",
    "                            weights = [0.3,0.3,0.400]   #Adjust weighting since XGB performs better in local environment\n",
    "                            )\n",
    "Ensemble.fit(X, y_encoded)\n"
   ]
  },
  {
   "cell_type": "markdown",
   "id": "1e1bd60f",
   "metadata": {
    "papermill": {
     "duration": 0.042147,
     "end_time": "2024-01-31T19:01:27.084935",
     "exception": false,
     "start_time": "2024-01-31T19:01:27.042788",
     "status": "completed"
    },
    "tags": []
   },
   "source": [
    "## <a id=\"6\"><center><font size = 4><span style=\"color:#F5F5E6\"> <p style=\"background-color:#581845;font-family:courier;color:#FFFFFF;font-size:250%;text-align:center;border-radius:5px 5px;padding : 2px\">Model Inference</p>   </span></font></center> "
   ]
  },
  {
   "cell_type": "markdown",
   "id": "c595db13",
   "metadata": {
    "papermill": {
     "duration": 0.040983,
     "end_time": "2024-01-31T19:01:27.167404",
     "exception": false,
     "start_time": "2024-01-31T19:01:27.126421",
     "status": "completed"
    },
    "tags": []
   },
   "source": [
    "<div class=\"anchor\" id=\"top\" style=\"\n",
    "    margin-right: auto; \n",
    "    margin-left: auto;\n",
    "    padding: 10px;\n",
    "    background-color: #FFF7FD;\n",
    "    border-radius: 2px;\n",
    "    font-size : 15px;       \n",
    "    font-color : #581845;                                    \n",
    "    border: 2px solid #581845;\"\n",
    "     \n",
    "- Ensemble Performs the best. We need to maximise the f1_score and minimise the log_loss for the ensemble"
   ]
  },
  {
   "cell_type": "code",
   "execution_count": 49,
   "id": "8e356c9d",
   "metadata": {
    "execution": {
     "iopub.execute_input": "2024-01-31T19:01:27.250418Z",
     "iopub.status.busy": "2024-01-31T19:01:27.249471Z",
     "iopub.status.idle": "2024-01-31T19:01:27.255258Z",
     "shell.execute_reply": "2024-01-31T19:01:27.254166Z"
    },
    "papermill": {
     "duration": 0.049977,
     "end_time": "2024-01-31T19:01:27.257512",
     "exception": false,
     "start_time": "2024-01-31T19:01:27.207535",
     "status": "completed"
    },
    "tags": []
   },
   "outputs": [],
   "source": [
    "# import optuna\n",
    "\n",
    "# def objective(trial):\n",
    "#     lgb_weight = trial.suggest_int('lgb_weight', 0, 50)\n",
    "#     xgb_weight = trial.suggest_int('xgb_weight', 0, 100 - lgb_weight)\n",
    "    \n",
    "#     cb_weight = 100- lgb_weight - xgb_weight\n",
    "\n",
    "#     weights = [lgb_weight/100, xgb_weight/100, cb_weight/100]\n",
    "    \n",
    "#     ensemble = VotingClassifier(estimators=[('lgb', lgbm_model), ('xgb', xgb_model), ('CB', cat_model)],\n",
    "#                                 voting='soft',\n",
    "#                                 weights=weights)\n",
    "    \n",
    "#     ensemble.fit(X, y_encoded)\n",
    "#     y_pred = ensemble.predict(test_x)\n",
    "    \n",
    "#     return f1_score(test_y, y_pred, average='weighted')\n",
    "\n",
    "\n",
    "# study = optuna.create_study(direction='maximize')\n",
    "# study.optimize(objective, n_trials=10)\n",
    "\n",
    "# # Get the best parameters\n",
    "# best_params = study.best_params\n",
    "# best_weights = [best_params['lgb_weight'], best_params['xgb_weight'], 100- best_params['lgb_weight'] - best_params['xgb_weight']]\n",
    "\n",
    "# print(\"Best Weights:\", best_weights)\n"
   ]
  },
  {
   "cell_type": "code",
   "execution_count": 50,
   "id": "abb601a4",
   "metadata": {
    "execution": {
     "iopub.execute_input": "2024-01-31T19:01:27.342881Z",
     "iopub.status.busy": "2024-01-31T19:01:27.342009Z",
     "iopub.status.idle": "2024-01-31T19:01:27.347025Z",
     "shell.execute_reply": "2024-01-31T19:01:27.346017Z"
    },
    "papermill": {
     "duration": 0.050388,
     "end_time": "2024-01-31T19:01:27.349367",
     "exception": false,
     "start_time": "2024-01-31T19:01:27.298979",
     "status": "completed"
    },
    "tags": []
   },
   "outputs": [],
   "source": [
    "# from sklearn.ensemble import VotingClassifier\n",
    "\n",
    "\n",
    "# # lgb_1 = LGBMClassifier(**lgbm_params )\n",
    "# # xgb_1 = XGBClassifier(**xgb_params )\n",
    "# # cb_1 = CatBoostClassifier(**catboost_params, random_state=42)\n",
    "# Ensemble = VotingClassifier(estimators = [('lgb', lgbm_model), ('xgb', xgb_model), ('CB', cat_model)], \n",
    "#                             voting='soft',\n",
    "#                             weights = best_weights   #Adjust weighting since XGB performs better in local environment\n",
    "#                             )\n",
    "# Ensemble.fit(X, y_encoded)\n"
   ]
  },
  {
   "cell_type": "markdown",
   "id": "07e601cc",
   "metadata": {
    "papermill": {
     "duration": 0.04165,
     "end_time": "2024-01-31T19:01:27.432444",
     "exception": false,
     "start_time": "2024-01-31T19:01:27.390794",
     "status": "completed"
    },
    "tags": []
   },
   "source": [
    "# Model Inference"
   ]
  },
  {
   "cell_type": "markdown",
   "id": "9d75f61a",
   "metadata": {
    "papermill": {
     "duration": 0.042088,
     "end_time": "2024-01-31T19:01:27.517262",
     "exception": false,
     "start_time": "2024-01-31T19:01:27.475174",
     "status": "completed"
    },
    "tags": []
   },
   "source": [
    "## <a id=\"6.1\"><center><font size = 4><span style=\"color:#F5F5E6\"> <p style=\"background-color: #005F5D;font-family:courier;color:#FFFFFF;font-size:250%;text-align:center;border-radius:5px 5px;padding : 2px\">Feature Importance</p>   </span></font></center> "
   ]
  },
  {
   "cell_type": "markdown",
   "id": "6eaca823",
   "metadata": {
    "papermill": {
     "duration": 0.042249,
     "end_time": "2024-01-31T19:01:27.602282",
     "exception": false,
     "start_time": "2024-01-31T19:01:27.560033",
     "status": "completed"
    },
    "tags": []
   },
   "source": [
    "# Feature Importance"
   ]
  },
  {
   "cell_type": "code",
   "execution_count": 51,
   "id": "5f17b052",
   "metadata": {
    "execution": {
     "iopub.execute_input": "2024-01-31T19:01:27.687624Z",
     "iopub.status.busy": "2024-01-31T19:01:27.687208Z",
     "iopub.status.idle": "2024-01-31T19:01:28.602695Z",
     "shell.execute_reply": "2024-01-31T19:01:28.601493Z"
    },
    "papermill": {
     "duration": 0.962516,
     "end_time": "2024-01-31T19:01:28.606730",
     "exception": false,
     "start_time": "2024-01-31T19:01:27.644214",
     "status": "completed"
    },
    "tags": []
   },
   "outputs": [
    {
     "data": {
      "image/png": "[encoded data removed]",
      "text/plain": [
       "<Figure size 1000x1000 with 1 Axes>"
      ]
     },
     "metadata": {},
     "output_type": "display_data"
    }
   ],
   "source": [
    "import matplotlib.pyplot as plt\n",
    "feature_importances = xgb_model.feature_importances_\n",
    "feature_names = train_df_1.columns \n",
    "feature_importance_dict = dict(zip(feature_names, feature_importances))\n",
    "sorted_feature_importance = sorted(feature_importance_dict.items(), key=lambda x: x[1], reverse=True)\n",
    "sorted_feature_names, sorted_importance_scores = zip(*sorted_feature_importance)\n",
    "plt.figure(figsize=(10, 10))\n",
    "\n",
    "plt.barh(sorted_feature_names, sorted_importance_scores)\n",
    "plt.xlabel(\"Feature Importance\")\n",
    "plt.ylabel(\"Feature Name\")\n",
    "plt.title(\"Feature Importance\")\n",
    "plt.show()"
   ]
  },
  {
   "cell_type": "code",
   "execution_count": 52,
   "id": "5f6c3cbe",
   "metadata": {
    "execution": {
     "iopub.execute_input": "2024-01-31T19:01:28.701086Z",
     "iopub.status.busy": "2024-01-31T19:01:28.700220Z",
     "iopub.status.idle": "2024-01-31T19:01:28.722568Z",
     "shell.execute_reply": "2024-01-31T19:01:28.721429Z"
    },
    "papermill": {
     "duration": 0.072379,
     "end_time": "2024-01-31T19:01:28.725016",
     "exception": false,
     "start_time": "2024-01-31T19:01:28.652637",
     "status": "completed"
    },
    "tags": []
   },
   "outputs": [
    {
     "name": "stdout",
     "output_type": "stream",
     "text": [
      "<class 'pandas.core.frame.DataFrame'>\n",
      "RangeIndex: 110023 entries, 0 to 110022\n",
      "Data columns (total 55 columns):\n",
      " #   Column                      Non-Null Count   Dtype  \n",
      "---  ------                      --------------   -----  \n",
      " 0   Geography_France            110023 non-null  int64  \n",
      " 1   Geography_Germany           110023 non-null  int64  \n",
      " 2   Geography_Spain             110023 non-null  int64  \n",
      " 3   Gender_Female               110023 non-null  int64  \n",
      " 4   NumOfProducts_1             110023 non-null  int64  \n",
      " 5   NumOfProducts_2             110023 non-null  int64  \n",
      " 6   NumOfProducts_3             110023 non-null  int64  \n",
      " 7   NumOfProducts_4             110023 non-null  int64  \n",
      " 8   HasCrCard_0.0               110023 non-null  int64  \n",
      " 9   HasCrCard_1.0               110023 non-null  int64  \n",
      " 10  IsActiveMember_0.0          110023 non-null  int64  \n",
      " 11  IsActiveMember_1.0          110023 non-null  int64  \n",
      " 12  Age_Category_18-30          110023 non-null  int64  \n",
      " 13  Age_Category_30-40          110023 non-null  int64  \n",
      " 14  Age_Category_40-50          110023 non-null  int64  \n",
      " 15  Age_Category_50-60          110023 non-null  int64  \n",
      " 16  Age_Category_60+            110023 non-null  int64  \n",
      " 17  Credit_Score_Range_0-300    110023 non-null  int64  \n",
      " 18  Credit_Score_Range_300-600  110023 non-null  int64  \n",
      " 19  Credit_Score_Range_600-700  110023 non-null  int64  \n",
      " 20  Credit_Score_Range_700-800  110023 non-null  int64  \n",
      " 21  Credit_Score_Range_900+     110023 non-null  int64  \n",
      " 22  Geo_Gender_France_Female    110023 non-null  int64  \n",
      " 23  Geo_Gender_France_Male      110023 non-null  int64  \n",
      " 24  Geo_Gender_Germany_Female   110023 non-null  int64  \n",
      " 25  Geo_Gender_Germany_Male     110023 non-null  int64  \n",
      " 26  Geo_Gender_Spain_Female     110023 non-null  int64  \n",
      " 27  Geo_Gender_Spain_Male       110023 non-null  int64  \n",
      " 28  Total_Products_Used_1.0     110023 non-null  int64  \n",
      " 29  Total_Products_Used_2.0     110023 non-null  int64  \n",
      " 30  Total_Products_Used_3.0     110023 non-null  int64  \n",
      " 31  Total_Products_Used_4.0     110023 non-null  int64  \n",
      " 32  Total_Products_Used_5.0     110023 non-null  int64  \n",
      " 33  Tp_Gender_1.0Female         110023 non-null  int64  \n",
      " 34  Tp_Gender_1.0Male           110023 non-null  int64  \n",
      " 35  Tp_Gender_2.0Female         110023 non-null  int64  \n",
      " 36  Tp_Gender_2.0Male           110023 non-null  int64  \n",
      " 37  Tp_Gender_3.0Female         110023 non-null  int64  \n",
      " 38  Tp_Gender_3.0Male           110023 non-null  int64  \n",
      " 39  Tp_Gender_4.0Female         110023 non-null  int64  \n",
      " 40  Tp_Gender_4.0Male           110023 non-null  int64  \n",
      " 41  Tp_Gender_5.0Female         110023 non-null  int64  \n",
      " 42  Tp_Gender_5.0Male           110023 non-null  int64  \n",
      " 43  CreditScore                 110023 non-null  float64\n",
      " 44  Age                         110023 non-null  float64\n",
      " 45  Balance                     110023 non-null  float64\n",
      " 46  EstimatedSalary             110023 non-null  float64\n",
      " 47  Balance_Salary_Ratio        110023 non-null  float64\n",
      " 48  Tenure                      110023 non-null  float64\n",
      " 49  Surname_tfidf_0             110023 non-null  float64\n",
      " 50  Surname_tfidf_1             110023 non-null  float64\n",
      " 51  Surname_tfidf_2             110023 non-null  float64\n",
      " 52  Surname_tfidf_3             110023 non-null  float64\n",
      " 53  Surname_tfidf_4             110023 non-null  float64\n",
      " 54  Surname                     110023 non-null  float64\n",
      "dtypes: float64(12), int64(43)\n",
      "memory usage: 46.2 MB\n"
     ]
    }
   ],
   "source": [
    "test_df.info()"
   ]
  },
  {
   "cell_type": "code",
   "execution_count": 53,
   "id": "0b08401b",
   "metadata": {
    "execution": {
     "iopub.execute_input": "2024-01-31T19:01:28.818195Z",
     "iopub.status.busy": "2024-01-31T19:01:28.817217Z",
     "iopub.status.idle": "2024-01-31T19:01:28.841144Z",
     "shell.execute_reply": "2024-01-31T19:01:28.839999Z"
    },
    "papermill": {
     "duration": 0.074222,
     "end_time": "2024-01-31T19:01:28.844081",
     "exception": false,
     "start_time": "2024-01-31T19:01:28.769859",
     "status": "completed"
    },
    "tags": []
   },
   "outputs": [
    {
     "name": "stdout",
     "output_type": "stream",
     "text": [
      "<class 'pandas.core.frame.DataFrame'>\n",
      "RangeIndex: 175032 entries, 0 to 175031\n",
      "Data columns (total 55 columns):\n",
      " #   Column                      Non-Null Count   Dtype  \n",
      "---  ------                      --------------   -----  \n",
      " 0   Geography_France            175032 non-null  int64  \n",
      " 1   Geography_Germany           175032 non-null  int64  \n",
      " 2   Geography_Spain             175032 non-null  int64  \n",
      " 3   Gender_Female               175032 non-null  int64  \n",
      " 4   NumOfProducts_1             175032 non-null  int64  \n",
      " 5   NumOfProducts_2             175032 non-null  int64  \n",
      " 6   NumOfProducts_3             175032 non-null  int64  \n",
      " 7   NumOfProducts_4             175032 non-null  int64  \n",
      " 8   HasCrCard_0.0               175032 non-null  int64  \n",
      " 9   HasCrCard_1.0               175032 non-null  int64  \n",
      " 10  IsActiveMember_0.0          175032 non-null  int64  \n",
      " 11  IsActiveMember_1.0          175032 non-null  int64  \n",
      " 12  Age_Category_18-30          175032 non-null  int64  \n",
      " 13  Age_Category_30-40          175032 non-null  int64  \n",
      " 14  Age_Category_40-50          175032 non-null  int64  \n",
      " 15  Age_Category_50-60          175032 non-null  int64  \n",
      " 16  Age_Category_60+            175032 non-null  int64  \n",
      " 17  Credit_Score_Range_0-300    175032 non-null  int64  \n",
      " 18  Credit_Score_Range_300-600  175032 non-null  int64  \n",
      " 19  Credit_Score_Range_600-700  175032 non-null  int64  \n",
      " 20  Credit_Score_Range_700-800  175032 non-null  int64  \n",
      " 21  Credit_Score_Range_900+     175032 non-null  int64  \n",
      " 22  Geo_Gender_France_Female    175032 non-null  int64  \n",
      " 23  Geo_Gender_France_Male      175032 non-null  int64  \n",
      " 24  Geo_Gender_Germany_Female   175032 non-null  int64  \n",
      " 25  Geo_Gender_Germany_Male     175032 non-null  int64  \n",
      " 26  Geo_Gender_Spain_Female     175032 non-null  int64  \n",
      " 27  Geo_Gender_Spain_Male       175032 non-null  int64  \n",
      " 28  Total_Products_Used_1.0     175032 non-null  int64  \n",
      " 29  Total_Products_Used_2.0     175032 non-null  int64  \n",
      " 30  Total_Products_Used_3.0     175032 non-null  int64  \n",
      " 31  Total_Products_Used_4.0     175032 non-null  int64  \n",
      " 32  Total_Products_Used_5.0     175032 non-null  int64  \n",
      " 33  Tp_Gender_1.0Female         175032 non-null  int64  \n",
      " 34  Tp_Gender_1.0Male           175032 non-null  int64  \n",
      " 35  Tp_Gender_2.0Female         175032 non-null  int64  \n",
      " 36  Tp_Gender_2.0Male           175032 non-null  int64  \n",
      " 37  Tp_Gender_3.0Female         175032 non-null  int64  \n",
      " 38  Tp_Gender_3.0Male           175032 non-null  int64  \n",
      " 39  Tp_Gender_4.0Female         175032 non-null  int64  \n",
      " 40  Tp_Gender_4.0Male           175032 non-null  int64  \n",
      " 41  Tp_Gender_5.0Female         175032 non-null  int64  \n",
      " 42  Tp_Gender_5.0Male           175032 non-null  int64  \n",
      " 43  CreditScore                 175032 non-null  float64\n",
      " 44  Age                         175032 non-null  float64\n",
      " 45  Balance                     175032 non-null  float64\n",
      " 46  EstimatedSalary             175032 non-null  float64\n",
      " 47  Balance_Salary_Ratio        175032 non-null  float64\n",
      " 48  Tenure                      175032 non-null  float64\n",
      " 49  Surname_tfidf_0             175032 non-null  float64\n",
      " 50  Surname_tfidf_1             175032 non-null  float64\n",
      " 51  Surname_tfidf_2             175032 non-null  float64\n",
      " 52  Surname_tfidf_3             175032 non-null  float64\n",
      " 53  Surname_tfidf_4             175032 non-null  float64\n",
      " 54  Surname                     175032 non-null  float64\n",
      "dtypes: float64(12), int64(43)\n",
      "memory usage: 73.4 MB\n"
     ]
    }
   ],
   "source": [
    "train_df_1.info()"
   ]
  },
  {
   "cell_type": "markdown",
   "id": "102d8845",
   "metadata": {
    "papermill": {
     "duration": 0.046017,
     "end_time": "2024-01-31T19:01:28.939407",
     "exception": false,
     "start_time": "2024-01-31T19:01:28.893390",
     "status": "completed"
    },
    "tags": []
   },
   "source": [
    "# Final Submission"
   ]
  },
  {
   "cell_type": "code",
   "execution_count": 54,
   "id": "53da77df",
   "metadata": {
    "_kg_hide-input": true,
    "execution": {
     "iopub.execute_input": "2024-01-31T19:01:29.032772Z",
     "iopub.status.busy": "2024-01-31T19:01:29.032349Z",
     "iopub.status.idle": "2024-01-31T19:01:29.324682Z",
     "shell.execute_reply": "2024-01-31T19:01:29.323464Z"
    },
    "papermill": {
     "duration": 0.342284,
     "end_time": "2024-01-31T19:01:29.327486",
     "exception": false,
     "start_time": "2024-01-31T19:01:28.985202",
     "status": "completed"
    },
    "tags": []
   },
   "outputs": [],
   "source": [
    "old_submission_df_1 = pd.read_csv('/kaggle/input/prev-mine-bank/submission_base_2.csv')\n",
    "old_submission_df_2 = pd.read_csv('/kaggle/input/prev-mine-bank/submission_base_1.csv')\n",
    "old_submission_df_3 = pd.read_csv('/kaggle/input/prev-mine-bank/submission.csv')\n",
    "old_submission_df_4 = pd.read_csv('/kaggle/input/prev-mine/prev_4.csv')"
   ]
  },
  {
   "cell_type": "code",
   "execution_count": 55,
   "id": "8995614a",
   "metadata": {
    "_kg_hide-input": true,
    "execution": {
     "iopub.execute_input": "2024-01-31T19:01:29.421526Z",
     "iopub.status.busy": "2024-01-31T19:01:29.421103Z",
     "iopub.status.idle": "2024-01-31T19:01:29.433227Z",
     "shell.execute_reply": "2024-01-31T19:01:29.431948Z"
    },
    "papermill": {
     "duration": 0.061807,
     "end_time": "2024-01-31T19:01:29.435561",
     "exception": false,
     "start_time": "2024-01-31T19:01:29.373754",
     "status": "completed"
    },
    "tags": []
   },
   "outputs": [
    {
     "data": {
      "text/html": [
       "<div>\n",
       "<style scoped>\n",
       "    .dataframe tbody tr th:only-of-type {\n",
       "        vertical-align: middle;\n",
       "    }\n",
       "\n",
       "    .dataframe tbody tr th {\n",
       "        vertical-align: top;\n",
       "    }\n",
       "\n",
       "    .dataframe thead th {\n",
       "        text-align: right;\n",
       "    }\n",
       "</style>\n",
       "<table border=\"1\" class=\"dataframe\">\n",
       "  <thead>\n",
       "    <tr style=\"text-align: right;\">\n",
       "      <th></th>\n",
       "      <th>id</th>\n",
       "      <th>Exited</th>\n",
       "    </tr>\n",
       "  </thead>\n",
       "  <tbody>\n",
       "    <tr>\n",
       "      <th>0</th>\n",
       "      <td>165034</td>\n",
       "      <td>0.013008</td>\n",
       "    </tr>\n",
       "    <tr>\n",
       "      <th>1</th>\n",
       "      <td>165035</td>\n",
       "      <td>0.832930</td>\n",
       "    </tr>\n",
       "    <tr>\n",
       "      <th>2</th>\n",
       "      <td>165036</td>\n",
       "      <td>0.014764</td>\n",
       "    </tr>\n",
       "    <tr>\n",
       "      <th>3</th>\n",
       "      <td>165037</td>\n",
       "      <td>0.191605</td>\n",
       "    </tr>\n",
       "    <tr>\n",
       "      <th>4</th>\n",
       "      <td>165038</td>\n",
       "      <td>0.413875</td>\n",
       "    </tr>\n",
       "  </tbody>\n",
       "</table>\n",
       "</div>"
      ],
      "text/plain": [
       "       id    Exited\n",
       "0  165034  0.013008\n",
       "1  165035  0.832930\n",
       "2  165036  0.014764\n",
       "3  165037  0.191605\n",
       "4  165038  0.413875"
      ]
     },
     "execution_count": 55,
     "metadata": {},
     "output_type": "execute_result"
    }
   ],
   "source": [
    "old_submission_df_3.head()"
   ]
  },
  {
   "cell_type": "code",
   "execution_count": 56,
   "id": "8ed0df68",
   "metadata": {
    "execution": {
     "iopub.execute_input": "2024-01-31T19:01:29.528810Z",
     "iopub.status.busy": "2024-01-31T19:01:29.528381Z",
     "iopub.status.idle": "2024-01-31T19:01:33.549235Z",
     "shell.execute_reply": "2024-01-31T19:01:33.548152Z"
    },
    "papermill": {
     "duration": 4.070187,
     "end_time": "2024-01-31T19:01:33.551902",
     "exception": false,
     "start_time": "2024-01-31T19:01:29.481715",
     "status": "completed"
    },
    "tags": []
   },
   "outputs": [
    {
     "data": {
      "text/html": [
       "<div>\n",
       "<style scoped>\n",
       "    .dataframe tbody tr th:only-of-type {\n",
       "        vertical-align: middle;\n",
       "    }\n",
       "\n",
       "    .dataframe tbody tr th {\n",
       "        vertical-align: top;\n",
       "    }\n",
       "\n",
       "    .dataframe thead th {\n",
       "        text-align: right;\n",
       "    }\n",
       "</style>\n",
       "<table border=\"1\" class=\"dataframe\">\n",
       "  <thead>\n",
       "    <tr style=\"text-align: right;\">\n",
       "      <th></th>\n",
       "      <th>Non-Exited</th>\n",
       "      <th>Exited</th>\n",
       "    </tr>\n",
       "  </thead>\n",
       "  <tbody>\n",
       "    <tr>\n",
       "      <th>0</th>\n",
       "      <td>0.979174</td>\n",
       "      <td>0.020825</td>\n",
       "    </tr>\n",
       "    <tr>\n",
       "      <th>1</th>\n",
       "      <td>0.284670</td>\n",
       "      <td>0.715330</td>\n",
       "    </tr>\n",
       "    <tr>\n",
       "      <th>2</th>\n",
       "      <td>0.976077</td>\n",
       "      <td>0.023923</td>\n",
       "    </tr>\n",
       "    <tr>\n",
       "      <th>3</th>\n",
       "      <td>0.785532</td>\n",
       "      <td>0.214468</td>\n",
       "    </tr>\n",
       "    <tr>\n",
       "      <th>4</th>\n",
       "      <td>0.613619</td>\n",
       "      <td>0.386381</td>\n",
       "    </tr>\n",
       "  </tbody>\n",
       "</table>\n",
       "</div>"
      ],
      "text/plain": [
       "   Non-Exited    Exited\n",
       "0    0.979174  0.020825\n",
       "1    0.284670  0.715330\n",
       "2    0.976077  0.023923\n",
       "3    0.785532  0.214468\n",
       "4    0.613619  0.386381"
      ]
     },
     "execution_count": 56,
     "metadata": {},
     "output_type": "execute_result"
    }
   ],
   "source": [
    "y_pred = Ensemble.predict_proba(test_df)\n",
    "y_pred = pd.DataFrame(y_pred)\n",
    "y_pred.columns = ['Non-Exited', 'Exited']\n",
    "y_pred.head()"
   ]
  },
  {
   "cell_type": "code",
   "execution_count": 57,
   "id": "c52df543",
   "metadata": {
    "_kg_hide-input": true,
    "execution": {
     "iopub.execute_input": "2024-01-31T19:01:33.647137Z",
     "iopub.status.busy": "2024-01-31T19:01:33.646125Z",
     "iopub.status.idle": "2024-01-31T19:01:33.674343Z",
     "shell.execute_reply": "2024-01-31T19:01:33.673126Z"
    },
    "papermill": {
     "duration": 0.076861,
     "end_time": "2024-01-31T19:01:33.677039",
     "exception": false,
     "start_time": "2024-01-31T19:01:33.600178",
     "status": "completed"
    },
    "tags": []
   },
   "outputs": [],
   "source": [
    "submission_df = pd.DataFrame()\n",
    "submission_df = y_pred  \n",
    "submission_df['id'] = ids\n",
    "submission_df = (submission_df +old_submission_df_1 +old_submission_df_2 +7*old_submission_df_3 )/10"
   ]
  },
  {
   "cell_type": "code",
   "execution_count": 58,
   "id": "063aa9f5",
   "metadata": {
    "execution": {
     "iopub.execute_input": "2024-01-31T19:01:33.772795Z",
     "iopub.status.busy": "2024-01-31T19:01:33.771794Z",
     "iopub.status.idle": "2024-01-31T19:01:33.875948Z",
     "shell.execute_reply": "2024-01-31T19:01:33.874863Z"
    },
    "papermill": {
     "duration": 0.155777,
     "end_time": "2024-01-31T19:01:33.878509",
     "exception": false,
     "start_time": "2024-01-31T19:01:33.722732",
     "status": "completed"
    },
    "tags": []
   },
   "outputs": [
    {
     "data": {
      "text/html": [
       "<div>\n",
       "<style scoped>\n",
       "    .dataframe tbody tr th:only-of-type {\n",
       "        vertical-align: middle;\n",
       "    }\n",
       "\n",
       "    .dataframe tbody tr th {\n",
       "        vertical-align: top;\n",
       "    }\n",
       "\n",
       "    .dataframe thead th {\n",
       "        text-align: right;\n",
       "    }\n",
       "</style>\n",
       "<table border=\"1\" class=\"dataframe\">\n",
       "  <thead>\n",
       "    <tr style=\"text-align: right;\">\n",
       "      <th></th>\n",
       "      <th>Exited</th>\n",
       "      <th>id</th>\n",
       "    </tr>\n",
       "  </thead>\n",
       "  <tbody>\n",
       "    <tr>\n",
       "      <th>0</th>\n",
       "      <td>0.013662</td>\n",
       "      <td>165034</td>\n",
       "    </tr>\n",
       "    <tr>\n",
       "      <th>1</th>\n",
       "      <td>0.823713</td>\n",
       "      <td>165035</td>\n",
       "    </tr>\n",
       "    <tr>\n",
       "      <th>2</th>\n",
       "      <td>0.015596</td>\n",
       "      <td>165036</td>\n",
       "    </tr>\n",
       "    <tr>\n",
       "      <th>3</th>\n",
       "      <td>0.193463</td>\n",
       "      <td>165037</td>\n",
       "    </tr>\n",
       "    <tr>\n",
       "      <th>4</th>\n",
       "      <td>0.410462</td>\n",
       "      <td>165038</td>\n",
       "    </tr>\n",
       "  </tbody>\n",
       "</table>\n",
       "</div>"
      ],
      "text/plain": [
       "     Exited      id\n",
       "0  0.013662  165034\n",
       "1  0.823713  165035\n",
       "2  0.015596  165036\n",
       "3  0.193463  165037\n",
       "4  0.410462  165038"
      ]
     },
     "execution_count": 58,
     "metadata": {},
     "output_type": "execute_result"
    }
   ],
   "source": [
    "submission_df['id'] = submission_df['id'].apply(lambda x : int(x))\n",
    "submission_df = submission_df.drop('Non-Exited',axis =1)\n",
    "submission_df.head()"
   ]
  },
  {
   "cell_type": "code",
   "execution_count": 59,
   "id": "e9c7e3dc",
   "metadata": {
    "execution": {
     "iopub.execute_input": "2024-01-31T19:01:33.975603Z",
     "iopub.status.busy": "2024-01-31T19:01:33.975211Z",
     "iopub.status.idle": "2024-01-31T19:01:34.468840Z",
     "shell.execute_reply": "2024-01-31T19:01:34.467608Z"
    },
    "papermill": {
     "duration": 0.544442,
     "end_time": "2024-01-31T19:01:34.471964",
     "exception": false,
     "start_time": "2024-01-31T19:01:33.927522",
     "status": "completed"
    },
    "tags": []
   },
   "outputs": [],
   "source": [
    "submission_df.to_csv('submission.csv', index= False)"
   ]
  },
  {
   "cell_type": "code",
   "execution_count": null,
   "id": "9f1edf54",
   "metadata": {
    "papermill": {
     "duration": 0.046863,
     "end_time": "2024-01-31T19:01:34.565584",
     "exception": false,
     "start_time": "2024-01-31T19:01:34.518721",
     "status": "completed"
    },
    "tags": []
   },
   "outputs": [],
   "source": []
  }
 ],
 "metadata": {
  "kaggle": {
   "accelerator": "gpu",
   "dataSources": [
    {
     "databundleVersionId": 7405009,
     "sourceId": 65711,
     "sourceType": "competition"
    },
    {
     "datasetId": 3191230,
     "sourceId": 5536933,
     "sourceType": "datasetVersion"
    },
    {
     "datasetId": 4323208,
     "sourceId": 7429211,
     "sourceType": "datasetVersion"
    },
    {
     "datasetId": 4382628,
     "sourceId": 7523673,
     "sourceType": "datasetVersion"
    }
   ],
   "dockerImageVersionId": 30627,
   "isGpuEnabled": true,
   "isInternetEnabled": true,
   "language": "python",
   "sourceType": "notebook"
  },
  "kernelspec": {
   "display_name": "Python 3",
   "language": "python",
   "name": "python3"
  },
  "language_info": {
   "codemirror_mode": {
    "name": "ipython",
    "version": 3
   },
   "file_extension": ".py",
   "mimetype": "text/x-python",
   "name": "python",
   "nbconvert_exporter": "python",
   "pygments_lexer": "ipython3",
   "version": "3.10.12"
  },
  "papermill": {
   "default_parameters": {},
   "duration": 1008.403018,
   "end_time": "2024-01-31T19:01:36.140125",
   "environment_variables": {},
   "exception": null,
   "input_path": "__notebook__.ipynb",
   "output_path": "__notebook__.ipynb",
   "parameters": {},
   "start_time": "2024-01-31T18:44:47.737107",
   "version": "2.4.0"
  }
 },
 "nbformat": 4,
 "nbformat_minor": 5
}
